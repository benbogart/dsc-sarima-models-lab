{
 "cells": [
  {
   "cell_type": "markdown",
   "metadata": {},
   "source": [
    "# SARIMA Models - Lab\n",
    "\n",
    "## Introduction\n",
    "\n",
    "In this lesson, we'll reiterate what you learned previously, and talk about **integrated** models (hence ARIMA, which means **integrated** ARMA), and extend to models that can cope with seasonality of time series.\n",
    "\n",
    "## Objectives\n",
    "\n",
    "In this lab you will: \n",
    "\n",
    "- Preprocess a dataset to meet ARIMA based forecasting assumptions \n",
    "- Identify best model parameters using grid search for p, d, q and seasonal p, d, q parameters \n",
    "- Describe the components of an ARIMA model \n",
    "- Create visualizations of future values as well as confidence intervals for the future predictions \n",
    "- Evaluate an ARIMA model with validation testing \n",
    "- Explain how validation testing is different with time series data than normal data \n",
    "\n",
    "\n",
    "## ARIMA\n",
    "\n",
    "Time series provide the opportunity to predict/forecast future values based on previous values. Such analyses can be used to forecast trends in economics, weather, and capacity planning etc. The specific properties of time series data mean that specialized statistical methods are usually required.\n",
    "\n",
    "So far, we have seen different techniques to make time series stationary, as well as white noise, moving average, AR, MA and ARMA models. Now recall that your data needs to be detrended (or made **stationary**) before you can go along and use ARMA models. This is because it is easier to add trends and seasonality back in after you modeled your data. Now there are several issues with ARMA:\n",
    "\n",
    "- ARMA models assume that the detrending already happened\n",
    "- ARMA neglects that seasonality can happen\n",
    "\n",
    "Let's summarize what we can observe when having time series in three situations:\n",
    "\n",
    "1. A strictly stationary series with no dependence among the values. This is the easy case wherein we can model the residuals as white noise. But this is very rare.\n",
    "\n",
    "2. A non-stationary series with significant dependence among values, but no seasonality. In this case we can use ARMA models after we have detrended, or we can use an **integrated** ARMA model that detrends for us.\n",
    "\n",
    "3. A non-stationary series with significant dependence among values, **and** seasonality. In this case we can use a seasonal arima or SARIMA model.\n",
    "\n",
    "In this tutorial, we aim to produce reliable forecasts of a given time series by applying one of the most commonly used method for time series forecasting: ARIMA. After that we'll talk about seasonality and how to cope with it. \n",
    "\n",
    "One of the methods available in Python to model and predict future points of a time series is known as SARIMAX, which stands for **Seasonal AutoRegressive Integrated Moving Averages with eXogenous regressors**. Here, we will primarily focus on the **ARIMA** component, which is used to fit time series data to better understand and forecast future points in the time series.\n",
    "\n",
    "## Dataset\n",
    "\n",
    "For this lab you will use the dataset that we have seen before - \"Atmospheric CO2 from Continuous Air Samples at Mauna Loa Observatory, Hawaii, U.S.A.,\" which collected CO2 samples from March 1958 to December 2001. Let's bring in this data and plot as demonstrated earlier. You will need to perform following tasks: \n",
    "\n",
    "- Import necessary libraries\n",
    "- Import the CO2 dataset from `statsmodels` \n",
    "- Ensure that the type of the column representing the dates is correct and set it as the index of the DataFrame \n",
    "- Resample the data as monthly groups and take monthly average\n",
    "- Fill in the missing values using the `.fillna()` and `.bfill()` methods \n",
    "- Inspect the first few rows of the data \n",
    "- Plot the time series of data "
   ]
  },
  {
   "cell_type": "code",
   "execution_count": 1,
   "metadata": {},
   "outputs": [],
   "source": [
    "# Import necessary libraries\n",
    "import warnings\n",
    "warnings.filterwarnings('ignore')\n",
    "import itertools\n",
    "import pandas as pd\n",
    "import numpy as np\n",
    "import statsmodels.api as sm\n",
    "import matplotlib.pyplot as plt\n",
    "from matplotlib.pylab import rcParams\n",
    "plt.style.use('ggplot')"
   ]
  },
  {
   "cell_type": "code",
   "execution_count": 16,
   "metadata": {},
   "outputs": [
    {
     "data": {
      "text/plain": [
       "<AxesSubplot:>"
      ]
     },
     "execution_count": 16,
     "metadata": {},
     "output_type": "execute_result"
    },
    {
     "data": {
      "image/png": "[encoded data removed]",
      "text/plain": [
       "<Figure size 432x288 with 1 Axes>"
      ]
     },
     "metadata": {},
     "output_type": "display_data"
    }
   ],
   "source": [
    "# Load the dataset\n",
    "dataset = sm.datasets.co2\n",
    "\n",
    "# Convert into DataFrame\n",
    "df = dataset.load_pandas().data\n",
    "\n",
    "# Update to datetime type\n",
    "\n",
    "# Set as index\n",
    "\n",
    "\n",
    "# The term bfill means that we use the value before filling in missing values\n",
    "df = df.bfill()\n",
    "\n",
    "# The 'MS' string groups the data in buckets by start of the month\n",
    "df = df.resample('MS').mean()\n",
    "\n",
    "# Plot the time series\n",
    "df.plot()"
   ]
  },
  {
   "cell_type": "markdown",
   "metadata": {},
   "source": [
    "As noted earlier, the time series has spikes reflecting an obvious seasonality pattern, as well as an overall increasing trend."
   ]
  },
  {
   "cell_type": "markdown",
   "metadata": {},
   "source": [
    "## The ARIMA Time Series Model\n",
    "\n",
    "One of the most common methods used in time series forecasting is known as the ARIMA model, which stands for **AutoregRessive Integrated Moving Average**. ARIMA is a model that can be fitted to time series data in order to better understand or predict future points in the series.\n",
    "\n",
    "Let's have a quick introduction to ARIMA. The ARIMA forecasting for a stationary time series is nothing but a linear (like a linear regression) equation. The predictors depend on the parameters (p,d,q) of the ARIMA model:\n",
    "\n",
    "### Number of AR (Auto-Regressive) terms (p) \n",
    "\n",
    "`p` is the auto-regressive part of the model. It allows us to incorporate the effect of past values into our model. Intuitively, this would be similar to stating that it is likely to rain tomorrow if it has been raining for past 3 days. AR terms are just lags of dependent variable. For instance if p is 5, the predictors for x(t) will be x(t-1)….x(t-5).\n",
    "\n",
    "### Number of Differences (d) \n",
    "\n",
    "`d` is the **Integrated** component of an ARIMA model. This value is concerned with the amount of differencing as it identifies the number of lag values to subtract from the current observation. Intuitively, this would be similar to stating that it is likely to rain tomorrow if the difference in amount of rain in the last *n* days is small. \n",
    "\n",
    "### Number of MA (Moving Average) terms (q)  \n",
    "\n",
    "`q` is the moving average part of the model which is used to set the error of the model as a linear combination of the error values observed at previous time points in the past. MA terms form lagged forecast errors in prediction equation. For instance if q is 5, the predictors for x(t) will be e(t-1)….e(t-5) where `e(i)` is the difference between the moving average at ith instant and actual value.\n",
    "\n",
    "These three distinct integer values, (p, d, q), are used to parametrize ARIMA models. Because of that, ARIMA models are denoted with the notation `ARIMA(p, d, q)`. Together these three parameters account for seasonality, trend, and noise in datasets:\n",
    "\n",
    "* `(p, d, q)` are the non-seasonal parameters described above.\n",
    "* `(P, D, Q)` follow the same definition but are applied to the seasonal component of the time series. \n",
    "* The term `s` is the periodicity of the time series (4 for quarterly periods, 12 for yearly periods, etc.).\n",
    "\n",
    "A detailed article on these parameters is available [here](https://www.quantstart.com/articles/Autoregressive-Integrated-Moving-Average-ARIMA-p-d-q-Models-for-Time-Series-Analysis).\n",
    "\n",
    "The seasonal ARIMA method can appear daunting because of the multiple tuning parameters involved. We will now describe how to automate the process of identifying the optimal set of parameters for the seasonal ARIMA time series model."
   ]
  },
  {
   "cell_type": "markdown",
   "metadata": {},
   "source": [
    "## Parameter Selection for the ARIMA Time Series Model \n",
    "\n",
    "The first step towards fitting an ARIMA model is to find the values of `ARIMA(p,d,q)(P,D,Q)s` that produce the desired output. Selection of these parameters requires domain expertise and time.  We shall first generate small ranges of these parameters and use a \"grid search\" to iteratively explore different combinations of parameters. For each combination of parameters, we fit a new seasonal ARIMA model with the `SARIMAX()` function from the `statsmodels` library and assess its overall quality. \n",
    "\n",
    "`SARIMAX` detailed documentation can be viewed [here](https://www.statsmodels.org/dev/generated/statsmodels.tsa.statespace.sarimax.SARIMAX.html)\n",
    "\n",
    "Let's begin by generating example combination of parameters that we wish to use: \n",
    "\n",
    "- Define p, q, and d parameters to take any value from 0/1 using `range()` function. (Note: We can try larger values which can make our model computationally expensive to run, you can try this as an additional experiment) \n",
    "- Generate combinations for `(p,d,q)` using `itertools.product`  \n",
    "- Similarly, generate seasonal combinations as `(p,d,q)s`. Use s = 12 (constant) \n",
    "- Print some example combinations for seasonal ARIMA  "
   ]
  },
  {
   "cell_type": "code",
   "execution_count": 106,
   "metadata": {},
   "outputs": [
    {
     "data": {
      "text/plain": [
       "[(0, 0, 0, 12), (0, 0, 1, 12), (0, 0, 2, 12), (0, 1, 0, 12), (0, 1, 1, 12)]"
      ]
     },
     "execution_count": 106,
     "metadata": {},
     "output_type": "execute_result"
    }
   ],
   "source": [
    "# Define the p, d and q parameters to take any value between 0 and 2\n",
    "p = d = q = range(0, 3)\n",
    "\n",
    "# Generate all different combinations of p, q and q triplets\n",
    "pdq = list(itertools.product(p,d,q))\n",
    "\n",
    "# Generate all different combinations of seasonal p, q and q triplets (use 12 for frequency)\n",
    "pdqs = [(p,d,q,12) for p,d,q in pdq]\n",
    "pdqs[:5]"
   ]
  },
  {
   "cell_type": "markdown",
   "metadata": {},
   "source": [
    "## AIC (Akaike Information Criterion) as Regularization Measure\n",
    "\n",
    "\n",
    "For evaluating the model, we shall use the AIC (Akaike Information Criterion) value, which is provided by ARIMA models fitted using `statsmodels` library. The Akaike information criterion (AIC) is an estimator of the relative quality of statistical models for a given set of data. Given a collection of models for the data, AIC estimates the quality of each model, relative to each of the other models. Thus, AIC provides a means for model selection. \n",
    "\n",
    "A model that fits the data very well while using lots of features will be assigned a larger AIC score than a model that uses fewer features to achieve the same goodness-of-fit. Therefore, we are interested in finding the model that yields the lowest AIC value. To achieve this, perform following tasks:\n",
    "\n",
    "- Initialize an empty list to store results \n",
    "- Iterate through all the paramaters in `pdq` with parameters in seasonal `pdq` (nested loop ) to create a grid \n",
    "- Run `SARIMAX` from `statsmodels` for each iteration. Details can be found [here](https://www.statsmodels.org/dev/generated/statsmodels.tsa.statespace.sarimax.SARIMAX.html). Set `enforce_stationarity` and `enforce_invertibility` to False  \n",
    "- Get the results in each iteration with `model.fit()` and store the AIC values \n",
    "- Find the lowest AIC and select parameters for further analysis  \n",
    "\n",
    "NOTE: \n",
    "* Integrate exception handling with `continue`  \n",
    "* An overview of Akaike Information Criterion can be viewed [here](http://www.statisticshowto.com/akaikes-information-criterion/) "
   ]
  },
  {
   "cell_type": "code",
   "execution_count": 107,
   "metadata": {},
   "outputs": [
    {
     "name": "stdout",
     "output_type": "stream",
     "text": [
      "(0, 0, 0)\n",
      "(0, 0, 0, 12)\n",
      "ARIMA (0, 0, 0) x (0, 0, 0, 12) : AIC = 7612.577300304358\n",
      "(0, 0, 1, 12)\n",
      "ARIMA (0, 0, 0) x (0, 0, 1, 12) : AIC = 6787.353894474729\n",
      "(0, 0, 2, 12)\n"
     ]
    },
    {
     "name": "stderr",
     "output_type": "stream",
     "text": [
      "/srv/conda/envs/notebook/lib/python3.8/site-packages/statsmodels/base/model.py:566: ConvergenceWarning: Maximum Likelihood optimization failed to converge. Check mle_retvals\n",
      "  warnings.warn(\"Maximum Likelihood optimization failed to \"\n"
     ]
    },
    {
     "name": "stdout",
     "output_type": "stream",
     "text": [
      "ARIMA (0, 0, 0) x (0, 0, 2, 12) : AIC = 6646.814742742668\n",
      "(0, 1, 0, 12)\n",
      "ARIMA (0, 0, 0) x (0, 1, 0, 12) : AIC = 1854.5529883366798\n",
      "(0, 1, 1, 12)\n",
      "ARIMA (0, 0, 0) x (0, 1, 1, 12) : AIC = 1593.6859335426843\n",
      "(0, 1, 2, 12)\n",
      "ARIMA (0, 0, 0) x (0, 1, 2, 12) : AIC = 1477.4698491064123\n",
      "(0, 2, 0, 12)\n",
      "ARIMA (0, 0, 0) x (0, 2, 0, 12) : AIC = 1407.419219204774\n",
      "(0, 2, 1, 12)\n",
      "ARIMA (0, 0, 0) x (0, 2, 1, 12) : AIC = 1044.2384813976805\n",
      "(0, 2, 2, 12)\n",
      "ARIMA (0, 0, 0) x (0, 2, 2, 12) : AIC = 998.6943774091234\n",
      "(1, 0, 0, 12)\n",
      "ARIMA (0, 0, 0) x (1, 0, 0, 12) : AIC = 1051.4507518592222\n",
      "(1, 0, 1, 12)\n",
      "ARIMA (0, 0, 0) x (1, 0, 1, 12) : AIC = 1049.0196307951387\n",
      "(1, 0, 2, 12)\n",
      "ARIMA (0, 0, 0) x (1, 0, 2, 12) : AIC = 1025.8482962507153\n",
      "(1, 1, 0, 12)\n",
      "ARIMA (0, 0, 0) x (1, 1, 0, 12) : AIC = 1355.6595717225496\n",
      "(1, 1, 1, 12)\n"
     ]
    },
    {
     "name": "stderr",
     "output_type": "stream",
     "text": [
      "/srv/conda/envs/notebook/lib/python3.8/site-packages/statsmodels/base/model.py:566: ConvergenceWarning: Maximum Likelihood optimization failed to converge. Check mle_retvals\n",
      "  warnings.warn(\"Maximum Likelihood optimization failed to \"\n"
     ]
    },
    {
     "name": "stdout",
     "output_type": "stream",
     "text": [
      "ARIMA (0, 0, 0) x (1, 1, 1, 12) : AIC = 1038.3101108457624\n",
      "(1, 1, 2, 12)\n",
      "ARIMA (0, 0, 0) x (1, 1, 2, 12) : AIC = 994.0725341648094\n",
      "(1, 2, 0, 12)\n",
      "ARIMA (0, 0, 0) x (1, 2, 0, 12) : AIC = 1232.4875789443995\n",
      "(1, 2, 1, 12)\n",
      "ARIMA (0, 0, 0) x (1, 2, 1, 12) : AIC = 1034.7019538733457\n",
      "(1, 2, 2, 12)\n",
      "ARIMA (0, 0, 0) x (1, 2, 2, 12) : AIC = 1000.3684735198675\n",
      "(2, 0, 0, 12)\n"
     ]
    },
    {
     "name": "stderr",
     "output_type": "stream",
     "text": [
      "/srv/conda/envs/notebook/lib/python3.8/site-packages/statsmodels/base/model.py:566: ConvergenceWarning: Maximum Likelihood optimization failed to converge. Check mle_retvals\n",
      "  warnings.warn(\"Maximum Likelihood optimization failed to \"\n"
     ]
    },
    {
     "name": "stdout",
     "output_type": "stream",
     "text": [
      "ARIMA (0, 0, 0) x (2, 0, 0, 12) : AIC = 1026.3786770647062\n",
      "(2, 0, 1, 12)\n",
      "ARIMA (0, 0, 0) x (2, 0, 1, 12) : AIC = 1027.647536720213\n",
      "(2, 0, 2, 12)\n",
      "ARIMA (0, 0, 0) x (2, 0, 2, 12) : AIC = 1028.652779476062\n",
      "(2, 1, 0, 12)\n",
      "ARIMA (0, 0, 0) x (2, 1, 0, 12) : AIC = 1217.430035094532\n",
      "(2, 1, 1, 12)\n",
      "ARIMA (0, 0, 0) x (2, 1, 1, 12) : AIC = 1003.5954383156264\n",
      "(2, 1, 2, 12)\n",
      "ARIMA (0, 0, 0) x (2, 1, 2, 12) : AIC = 995.6646595698978\n",
      "(2, 2, 0, 12)\n"
     ]
    },
    {
     "name": "stderr",
     "output_type": "stream",
     "text": [
      "/srv/conda/envs/notebook/lib/python3.8/site-packages/statsmodels/base/model.py:566: ConvergenceWarning: Maximum Likelihood optimization failed to converge. Check mle_retvals\n",
      "  warnings.warn(\"Maximum Likelihood optimization failed to \"\n"
     ]
    },
    {
     "name": "stdout",
     "output_type": "stream",
     "text": [
      "ARIMA (0, 0, 0) x (2, 2, 0, 12) : AIC = 1090.6845317901686\n",
      "(2, 2, 1, 12)\n",
      "ARIMA (0, 0, 0) x (2, 2, 1, 12) : AIC = 993.2660153553862\n",
      "(2, 2, 2, 12)\n",
      "ARIMA (0, 0, 0) x (2, 2, 2, 12) : AIC = 993.2191640913759\n",
      "(0, 0, 1)\n",
      "(0, 0, 0, 12)\n",
      "ARIMA (0, 0, 1) x (0, 0, 0, 12) : AIC = 6881.031244272963\n",
      "(0, 0, 1, 12)\n",
      "ARIMA (0, 0, 1) x (0, 0, 1, 12) : AIC = 6072.665641883638\n",
      "(0, 0, 2, 12)\n"
     ]
    },
    {
     "name": "stderr",
     "output_type": "stream",
     "text": [
      "/srv/conda/envs/notebook/lib/python3.8/site-packages/statsmodels/base/model.py:566: ConvergenceWarning: Maximum Likelihood optimization failed to converge. Check mle_retvals\n",
      "  warnings.warn(\"Maximum Likelihood optimization failed to \"\n"
     ]
    },
    {
     "name": "stdout",
     "output_type": "stream",
     "text": [
      "ARIMA (0, 0, 1) x (0, 0, 2, 12) : AIC = 5330.862016004921\n",
      "(0, 1, 0, 12)\n",
      "ARIMA (0, 0, 1) x (0, 1, 0, 12) : AIC = 1363.0191045997005\n",
      "(0, 1, 1, 12)\n",
      "ARIMA (0, 0, 1) x (0, 1, 1, 12) : AIC = 1232.2367782894971\n",
      "(0, 1, 2, 12)\n",
      "ARIMA (0, 0, 1) x (0, 1, 2, 12) : AIC = 1148.4858099533178\n",
      "(0, 2, 0, 12)\n",
      "ARIMA (0, 0, 1) x (0, 2, 0, 12) : AIC = 1185.573426496497\n",
      "(0, 2, 1, 12)\n",
      "ARIMA (0, 0, 1) x (0, 2, 1, 12) : AIC = 787.5302109681892\n",
      "(0, 2, 2, 12)\n",
      "ARIMA (0, 0, 1) x (0, 2, 2, 12) : AIC = 721.7665004939596\n",
      "(1, 0, 0, 12)\n"
     ]
    },
    {
     "name": "stderr",
     "output_type": "stream",
     "text": [
      "/srv/conda/envs/notebook/lib/python3.8/site-packages/statsmodels/base/model.py:566: ConvergenceWarning: Maximum Likelihood optimization failed to converge. Check mle_retvals\n",
      "  warnings.warn(\"Maximum Likelihood optimization failed to \"\n"
     ]
    },
    {
     "name": "stdout",
     "output_type": "stream",
     "text": [
      "ARIMA (0, 0, 1) x (1, 0, 0, 12) : AIC = 1100.788736067167\n",
      "(1, 0, 1, 12)\n"
     ]
    },
    {
     "name": "stderr",
     "output_type": "stream",
     "text": [
      "/srv/conda/envs/notebook/lib/python3.8/site-packages/statsmodels/base/model.py:566: ConvergenceWarning: Maximum Likelihood optimization failed to converge. Check mle_retvals\n",
      "  warnings.warn(\"Maximum Likelihood optimization failed to \"\n"
     ]
    },
    {
     "name": "stdout",
     "output_type": "stream",
     "text": [
      "ARIMA (0, 0, 1) x (1, 0, 1, 12) : AIC = 757.6047057432356\n",
      "(1, 0, 2, 12)\n"
     ]
    },
    {
     "name": "stderr",
     "output_type": "stream",
     "text": [
      "/srv/conda/envs/notebook/lib/python3.8/site-packages/statsmodels/base/model.py:566: ConvergenceWarning: Maximum Likelihood optimization failed to converge. Check mle_retvals\n",
      "  warnings.warn(\"Maximum Likelihood optimization failed to \"\n"
     ]
    },
    {
     "name": "stdout",
     "output_type": "stream",
     "text": [
      "ARIMA (0, 0, 1) x (1, 0, 2, 12) : AIC = 763.0495976357907\n",
      "(1, 1, 0, 12)\n",
      "ARIMA (0, 0, 1) x (1, 1, 0, 12) : AIC = 1106.5016673485757\n",
      "(1, 1, 1, 12)\n",
      "ARIMA (0, 0, 1) x (1, 1, 1, 12) : AIC = 787.4999775289018\n",
      "(1, 1, 2, 12)\n",
      "ARIMA (0, 0, 1) x (1, 1, 2, 12) : AIC = 714.285242729156\n",
      "(1, 2, 0, 12)\n",
      "ARIMA (0, 0, 1) x (1, 2, 0, 12) : AIC = 983.1483759386468\n",
      "(1, 2, 1, 12)\n",
      "ARIMA (0, 0, 1) x (1, 2, 1, 12) : AIC = 757.4507298180131\n",
      "(1, 2, 2, 12)\n",
      "ARIMA (0, 0, 1) x (1, 2, 2, 12) : AIC = 725.5184519032707\n",
      "(2, 0, 0, 12)\n"
     ]
    },
    {
     "name": "stderr",
     "output_type": "stream",
     "text": [
      "/srv/conda/envs/notebook/lib/python3.8/site-packages/statsmodels/base/model.py:566: ConvergenceWarning: Maximum Likelihood optimization failed to converge. Check mle_retvals\n",
      "  warnings.warn(\"Maximum Likelihood optimization failed to \"\n"
     ]
    },
    {
     "name": "stdout",
     "output_type": "stream",
     "text": [
      "ARIMA (0, 0, 1) x (2, 0, 0, 12) : AIC = 745.8585454185726\n",
      "(2, 0, 1, 12)\n"
     ]
    },
    {
     "name": "stderr",
     "output_type": "stream",
     "text": [
      "/srv/conda/envs/notebook/lib/python3.8/site-packages/statsmodels/base/model.py:566: ConvergenceWarning: Maximum Likelihood optimization failed to converge. Check mle_retvals\n",
      "  warnings.warn(\"Maximum Likelihood optimization failed to \"\n"
     ]
    },
    {
     "name": "stdout",
     "output_type": "stream",
     "text": [
      "ARIMA (0, 0, 1) x (2, 0, 1, 12) : AIC = 733.9840505064616\n",
      "(2, 0, 2, 12)\n"
     ]
    },
    {
     "name": "stderr",
     "output_type": "stream",
     "text": [
      "/srv/conda/envs/notebook/lib/python3.8/site-packages/statsmodels/base/model.py:566: ConvergenceWarning: Maximum Likelihood optimization failed to converge. Check mle_retvals\n",
      "  warnings.warn(\"Maximum Likelihood optimization failed to \"\n"
     ]
    },
    {
     "name": "stdout",
     "output_type": "stream",
     "text": [
      "ARIMA (0, 0, 1) x (2, 0, 2, 12) : AIC = 2317.2528876840124\n",
      "(2, 1, 0, 12)\n",
      "ARIMA (0, 0, 1) x (2, 1, 0, 12) : AIC = 960.3797945174092\n",
      "(2, 1, 1, 12)\n",
      "ARIMA (0, 0, 1) x (2, 1, 1, 12) : AIC = 729.9055114601242\n",
      "(2, 1, 2, 12)\n",
      "ARIMA (0, 0, 1) x (2, 1, 2, 12) : AIC = 712.5012333561841\n",
      "(2, 2, 0, 12)\n",
      "ARIMA (0, 0, 1) x (2, 2, 0, 12) : AIC = 844.0236090694266\n",
      "(2, 2, 1, 12)\n",
      "ARIMA (0, 0, 1) x (2, 2, 1, 12) : AIC = 725.0725800015713\n",
      "(2, 2, 2, 12)\n",
      "ARIMA (0, 0, 1) x (2, 2, 2, 12) : AIC = 724.0281896274147\n",
      "(0, 0, 2)\n",
      "(0, 0, 0, 12)\n",
      "ARIMA (0, 0, 2) x (0, 0, 0, 12) : AIC = 6163.627902939663\n",
      "(0, 0, 1, 12)\n"
     ]
    },
    {
     "name": "stderr",
     "output_type": "stream",
     "text": [
      "/srv/conda/envs/notebook/lib/python3.8/site-packages/statsmodels/base/model.py:566: ConvergenceWarning: Maximum Likelihood optimization failed to converge. Check mle_retvals\n",
      "  warnings.warn(\"Maximum Likelihood optimization failed to \"\n"
     ]
    },
    {
     "name": "stdout",
     "output_type": "stream",
     "text": [
      "ARIMA (0, 0, 2) x (0, 0, 1, 12) : AIC = 6102.986996612039\n",
      "(0, 0, 2, 12)\n"
     ]
    },
    {
     "name": "stderr",
     "output_type": "stream",
     "text": [
      "/srv/conda/envs/notebook/lib/python3.8/site-packages/statsmodels/base/model.py:566: ConvergenceWarning: Maximum Likelihood optimization failed to converge. Check mle_retvals\n",
      "  warnings.warn(\"Maximum Likelihood optimization failed to \"\n"
     ]
    },
    {
     "name": "stdout",
     "output_type": "stream",
     "text": [
      "ARIMA (0, 0, 2) x (0, 0, 2, 12) : AIC = 5063.649635876393\n",
      "(0, 1, 0, 12)\n",
      "ARIMA (0, 0, 2) x (0, 1, 0, 12) : AIC = 1096.3951450049049\n",
      "(0, 1, 1, 12)\n",
      "ARIMA (0, 0, 2) x (0, 1, 1, 12) : AIC = 1020.9178605917926\n",
      "(0, 1, 2, 12)\n",
      "ARIMA (0, 0, 2) x (0, 1, 2, 12) : AIC = 949.9546483125257\n",
      "(0, 2, 0, 12)\n",
      "ARIMA (0, 0, 2) x (0, 2, 0, 12) : AIC = 1089.4736276628637\n",
      "(0, 2, 1, 12)\n",
      "ARIMA (0, 0, 2) x (0, 2, 1, 12) : AIC = 668.5464314928963\n",
      "(0, 2, 2, 12)\n",
      "ARIMA (0, 0, 2) x (0, 2, 2, 12) : AIC = 588.1956824055889\n",
      "(1, 0, 0, 12)\n",
      "ARIMA (0, 0, 2) x (1, 0, 0, 12) : AIC = 657.8492633645425\n",
      "(1, 0, 1, 12)\n"
     ]
    },
    {
     "name": "stderr",
     "output_type": "stream",
     "text": [
      "/srv/conda/envs/notebook/lib/python3.8/site-packages/statsmodels/base/model.py:566: ConvergenceWarning: Maximum Likelihood optimization failed to converge. Check mle_retvals\n",
      "  warnings.warn(\"Maximum Likelihood optimization failed to \"\n"
     ]
    },
    {
     "name": "stdout",
     "output_type": "stream",
     "text": [
      "ARIMA (0, 0, 2) x (1, 0, 1, 12) : AIC = 1149.8619885953535\n",
      "(1, 0, 2, 12)\n"
     ]
    },
    {
     "name": "stderr",
     "output_type": "stream",
     "text": [
      "/srv/conda/envs/notebook/lib/python3.8/site-packages/statsmodels/base/model.py:566: ConvergenceWarning: Maximum Likelihood optimization failed to converge. Check mle_retvals\n",
      "  warnings.warn(\"Maximum Likelihood optimization failed to \"\n"
     ]
    },
    {
     "name": "stdout",
     "output_type": "stream",
     "text": [
      "ARIMA (0, 0, 2) x (1, 0, 2, 12) : AIC = 1002.0678100481977\n",
      "(1, 1, 0, 12)\n",
      "ARIMA (0, 0, 2) x (1, 1, 0, 12) : AIC = 971.7491457054896\n",
      "(1, 1, 1, 12)\n",
      "ARIMA (0, 0, 2) x (1, 1, 1, 12) : AIC = 677.539527733672\n",
      "(1, 1, 2, 12)\n",
      "ARIMA (0, 0, 2) x (1, 1, 2, 12) : AIC = 580.8590329365561\n",
      "(1, 2, 0, 12)\n",
      "ARIMA (0, 0, 2) x (1, 2, 0, 12) : AIC = 859.733424150862\n",
      "(1, 2, 1, 12)\n",
      "ARIMA (0, 0, 2) x (1, 2, 1, 12) : AIC = 627.4321310835174\n",
      "(1, 2, 2, 12)\n",
      "ARIMA (0, 0, 2) x (1, 2, 2, 12) : AIC = 600.239089321007\n",
      "(2, 0, 0, 12)\n"
     ]
    },
    {
     "name": "stderr",
     "output_type": "stream",
     "text": [
      "/srv/conda/envs/notebook/lib/python3.8/site-packages/statsmodels/base/model.py:566: ConvergenceWarning: Maximum Likelihood optimization failed to converge. Check mle_retvals\n",
      "  warnings.warn(\"Maximum Likelihood optimization failed to \"\n"
     ]
    },
    {
     "name": "stdout",
     "output_type": "stream",
     "text": [
      "ARIMA (0, 0, 2) x (2, 0, 0, 12) : AIC = 733.2074786760345\n",
      "(2, 0, 1, 12)\n"
     ]
    },
    {
     "name": "stderr",
     "output_type": "stream",
     "text": [
      "/srv/conda/envs/notebook/lib/python3.8/site-packages/statsmodels/base/model.py:566: ConvergenceWarning: Maximum Likelihood optimization failed to converge. Check mle_retvals\n",
      "  warnings.warn(\"Maximum Likelihood optimization failed to \"\n"
     ]
    },
    {
     "name": "stdout",
     "output_type": "stream",
     "text": [
      "ARIMA (0, 0, 2) x (2, 0, 1, 12) : AIC = 1070.5415132135638\n",
      "(2, 0, 2, 12)\n"
     ]
    },
    {
     "name": "stderr",
     "output_type": "stream",
     "text": [
      "/srv/conda/envs/notebook/lib/python3.8/site-packages/statsmodels/base/model.py:566: ConvergenceWarning: Maximum Likelihood optimization failed to converge. Check mle_retvals\n",
      "  warnings.warn(\"Maximum Likelihood optimization failed to \"\n"
     ]
    },
    {
     "name": "stdout",
     "output_type": "stream",
     "text": [
      "ARIMA (0, 0, 2) x (2, 0, 2, 12) : AIC = 1848.990686417244\n",
      "(2, 1, 0, 12)\n",
      "ARIMA (0, 0, 2) x (2, 1, 0, 12) : AIC = 827.8515278177432\n",
      "(2, 1, 1, 12)\n",
      "ARIMA (0, 0, 2) x (2, 1, 1, 12) : AIC = 604.2640352699154\n",
      "(2, 1, 2, 12)\n"
     ]
    },
    {
     "name": "stderr",
     "output_type": "stream",
     "text": [
      "/srv/conda/envs/notebook/lib/python3.8/site-packages/statsmodels/base/model.py:566: ConvergenceWarning: Maximum Likelihood optimization failed to converge. Check mle_retvals\n",
      "  warnings.warn(\"Maximum Likelihood optimization failed to \"\n"
     ]
    },
    {
     "name": "stdout",
     "output_type": "stream",
     "text": [
      "ARIMA (0, 0, 2) x (2, 1, 2, 12) : AIC = 581.4284443796079\n",
      "(2, 2, 0, 12)\n",
      "ARIMA (0, 0, 2) x (2, 2, 0, 12) : AIC = 732.3059834839842\n",
      "(2, 2, 1, 12)\n",
      "ARIMA (0, 0, 2) x (2, 2, 1, 12) : AIC = 604.66045742809\n",
      "(2, 2, 2, 12)\n",
      "ARIMA (0, 0, 2) x (2, 2, 2, 12) : AIC = 601.14056981182\n",
      "(0, 1, 0)\n",
      "(0, 0, 0, 12)\n",
      "ARIMA (0, 1, 0) x (0, 0, 0, 12) : AIC = 1671.9994947205128\n",
      "(0, 0, 1, 12)\n",
      "ARIMA (0, 1, 0) x (0, 0, 1, 12) : AIC = 1229.0597819299323\n",
      "(0, 0, 2, 12)\n",
      "ARIMA (0, 1, 0) x (0, 0, 2, 12) : AIC = 996.6997549145656\n",
      "(0, 1, 0, 12)\n",
      "ARIMA (0, 1, 0) x (0, 1, 0, 12) : AIC = 595.9585828564279\n",
      "(0, 1, 1, 12)\n",
      "ARIMA (0, 1, 0) x (0, 1, 1, 12) : AIC = 297.83779646684263\n",
      "(0, 1, 2, 12)\n",
      "ARIMA (0, 1, 0) x (0, 1, 2, 12) : AIC = 282.9378935916404\n",
      "(0, 2, 0, 12)\n",
      "ARIMA (0, 1, 0) x (0, 2, 0, 12) : AIC = 1099.9637178047108\n",
      "(0, 2, 1, 12)\n",
      "ARIMA (0, 1, 0) x (0, 2, 1, 12) : AIC = 600.3992669405377\n",
      "(0, 2, 2, 12)\n",
      "ARIMA (0, 1, 0) x (0, 2, 2, 12) : AIC = 354.23040706874394\n",
      "(1, 0, 0, 12)\n",
      "ARIMA (0, 1, 0) x (1, 0, 0, 12) : AIC = 583.6437950374607\n",
      "(1, 0, 1, 12)\n",
      "ARIMA (0, 1, 0) x (1, 0, 1, 12) : AIC = 327.4181825041344\n",
      "(1, 0, 2, 12)\n",
      "ARIMA (0, 1, 0) x (1, 0, 2, 12) : AIC = 284.01275347145724\n",
      "(1, 1, 0, 12)\n",
      "ARIMA (0, 1, 0) x (1, 1, 0, 12) : AIC = 445.00764675014585\n",
      "(1, 1, 1, 12)\n"
     ]
    },
    {
     "name": "stderr",
     "output_type": "stream",
     "text": [
      "/srv/conda/envs/notebook/lib/python3.8/site-packages/statsmodels/base/model.py:566: ConvergenceWarning: Maximum Likelihood optimization failed to converge. Check mle_retvals\n",
      "  warnings.warn(\"Maximum Likelihood optimization failed to \"\n"
     ]
    },
    {
     "name": "stdout",
     "output_type": "stream",
     "text": [
      "ARIMA (0, 1, 0) x (1, 1, 1, 12) : AIC = 289.0667210489753\n",
      "(1, 1, 2, 12)\n",
      "ARIMA (0, 1, 0) x (1, 1, 2, 12) : AIC = 282.3364997705736\n",
      "(1, 2, 0, 12)\n",
      "ARIMA (0, 1, 0) x (1, 2, 0, 12) : AIC = 812.2210468705616\n",
      "(1, 2, 1, 12)\n",
      "ARIMA (0, 1, 0) x (1, 2, 1, 12) : AIC = 488.9343065229682\n",
      "(1, 2, 2, 12)\n",
      "ARIMA (0, 1, 0) x (1, 2, 2, 12) : AIC = 344.6319504349742\n",
      "(2, 0, 0, 12)\n",
      "ARIMA (0, 1, 0) x (2, 0, 0, 12) : AIC = 443.0741816087071\n",
      "(2, 0, 1, 12)\n",
      "ARIMA (0, 1, 0) x (2, 0, 1, 12) : AIC = 287.0021160695588\n",
      "(2, 0, 2, 12)\n",
      "ARIMA (0, 1, 0) x (2, 0, 2, 12) : AIC = 282.14735359243764\n",
      "(2, 1, 0, 12)\n",
      "ARIMA (0, 1, 0) x (2, 1, 0, 12) : AIC = 383.59895572972647\n",
      "(2, 1, 1, 12)\n",
      "ARIMA (0, 1, 0) x (2, 1, 1, 12) : AIC = 290.3936270847071\n",
      "(2, 1, 2, 12)\n",
      "ARIMA (0, 1, 0) x (2, 1, 2, 12) : AIC = 287.15069682069606\n",
      "(2, 2, 0, 12)\n",
      "ARIMA (0, 1, 0) x (2, 2, 0, 12) : AIC = 662.7064343024344\n",
      "(2, 2, 1, 12)\n",
      "ARIMA (0, 1, 0) x (2, 2, 1, 12) : AIC = 432.02554119958\n",
      "(2, 2, 2, 12)\n",
      "ARIMA (0, 1, 0) x (2, 2, 2, 12) : AIC = 372.02053297091277\n",
      "(0, 1, 1)\n",
      "(0, 0, 0, 12)\n",
      "ARIMA (0, 1, 1) x (0, 0, 0, 12) : AIC = 1346.2922180214057\n",
      "(0, 0, 1, 12)\n",
      "ARIMA (0, 1, 1) x (0, 0, 1, 12) : AIC = 1088.8269974528546\n",
      "(0, 0, 2, 12)\n",
      "ARIMA (0, 1, 1) x (0, 0, 2, 12) : AIC = 931.282594498647\n",
      "(0, 1, 0, 12)\n",
      "ARIMA (0, 1, 1) x (0, 1, 0, 12) : AIC = 555.1473887259511\n",
      "(0, 1, 1, 12)\n",
      "ARIMA (0, 1, 1) x (0, 1, 1, 12) : AIC = 268.86779307323957\n",
      "(0, 1, 2, 12)\n",
      "ARIMA (0, 1, 1) x (0, 1, 2, 12) : AIC = 252.42575154125012\n",
      "(0, 2, 0, 12)\n",
      "ARIMA (0, 1, 1) x (0, 2, 0, 12) : AIC = 1063.8649820150454\n",
      "(0, 2, 1, 12)\n",
      "ARIMA (0, 1, 1) x (0, 2, 1, 12) : AIC = 566.9250813929261\n",
      "(0, 2, 2, 12)\n",
      "ARIMA (0, 1, 1) x (0, 2, 2, 12) : AIC = 318.53909415399653\n",
      "(1, 0, 0, 12)\n",
      "ARIMA (0, 1, 1) x (1, 0, 0, 12) : AIC = 553.5793756486165\n",
      "(1, 0, 1, 12)\n",
      "ARIMA (0, 1, 1) x (1, 0, 1, 12) : AIC = 293.79341605037246\n",
      "(1, 0, 2, 12)\n",
      "ARIMA (0, 1, 1) x (1, 0, 2, 12) : AIC = 253.70544030957888\n",
      "(1, 1, 0, 12)\n",
      "ARIMA (0, 1, 1) x (1, 1, 0, 12) : AIC = 409.04646793440475\n",
      "(1, 1, 1, 12)\n",
      "ARIMA (0, 1, 1) x (1, 1, 1, 12) : AIC = 257.2738823282707\n",
      "(1, 1, 2, 12)\n",
      "ARIMA (0, 1, 1) x (1, 1, 2, 12) : AIC = 251.54686749248862\n",
      "(1, 2, 0, 12)\n",
      "ARIMA (0, 1, 1) x (1, 2, 0, 12) : AIC = 780.4301495163655\n",
      "(1, 2, 1, 12)\n",
      "ARIMA (0, 1, 1) x (1, 2, 1, 12) : AIC = 452.5661228321291\n",
      "(1, 2, 2, 12)\n",
      "ARIMA (0, 1, 1) x (1, 2, 2, 12) : AIC = 306.8617949029727\n",
      "(2, 0, 0, 12)\n",
      "ARIMA (0, 1, 1) x (2, 0, 0, 12) : AIC = 409.5594471127737\n",
      "(2, 0, 1, 12)\n",
      "ARIMA (0, 1, 1) x (2, 0, 1, 12) : AIC = 254.03849062206191\n",
      "(2, 0, 2, 12)\n",
      "ARIMA (0, 1, 1) x (2, 0, 2, 12) : AIC = 252.47996261635703\n",
      "(2, 1, 0, 12)\n",
      "ARIMA (0, 1, 1) x (2, 1, 0, 12) : AIC = 337.6539086902458\n",
      "(2, 1, 1, 12)\n",
      "ARIMA (0, 1, 1) x (2, 1, 1, 12) : AIC = 259.7145516741107\n",
      "(2, 1, 2, 12)\n",
      "ARIMA (0, 1, 1) x (2, 1, 2, 12) : AIC = 255.91498948832992\n",
      "(2, 2, 0, 12)\n",
      "ARIMA (0, 1, 1) x (2, 2, 0, 12) : AIC = 625.5820313257698\n",
      "(2, 2, 1, 12)\n",
      "ARIMA (0, 1, 1) x (2, 2, 1, 12) : AIC = 386.8849338709241\n",
      "(2, 2, 2, 12)\n",
      "ARIMA (0, 1, 1) x (2, 2, 2, 12) : AIC = 335.0964689805217\n",
      "(0, 1, 2)\n",
      "(0, 0, 0, 12)\n",
      "ARIMA (0, 1, 2) x (0, 0, 0, 12) : AIC = 1215.8472289795109\n",
      "(0, 0, 1, 12)\n",
      "ARIMA (0, 1, 2) x (0, 0, 1, 12) : AIC = 1011.8967322257975\n",
      "(0, 0, 2, 12)\n",
      "ARIMA (0, 1, 2) x (0, 0, 2, 12) : AIC = 882.6069260891843\n",
      "(0, 1, 0, 12)\n",
      "ARIMA (0, 1, 2) x (0, 1, 0, 12) : AIC = 542.9728639862969\n",
      "(0, 1, 1, 12)\n",
      "ARIMA (0, 1, 2) x (0, 1, 1, 12) : AIC = 264.83710058686404\n",
      "(0, 1, 2, 12)\n",
      "ARIMA (0, 1, 2) x (0, 1, 2, 12) : AIC = 249.52645453189393\n",
      "(0, 2, 0, 12)\n",
      "ARIMA (0, 1, 2) x (0, 2, 0, 12) : AIC = 1057.4573903220157\n",
      "(0, 2, 1, 12)\n",
      "ARIMA (0, 1, 2) x (0, 2, 1, 12) : AIC = 560.5218100681097\n",
      "(0, 2, 2, 12)\n",
      "ARIMA (0, 1, 2) x (0, 2, 2, 12) : AIC = 313.8320355703856\n",
      "(1, 0, 0, 12)\n",
      "ARIMA (0, 1, 2) x (1, 0, 0, 12) : AIC = 549.895643077172\n",
      "(1, 0, 1, 12)\n",
      "ARIMA (0, 1, 2) x (1, 0, 1, 12) : AIC = 282.9685479633988\n",
      "(1, 0, 2, 12)\n",
      "ARIMA (0, 1, 2) x (1, 0, 2, 12) : AIC = 251.75532532083437\n",
      "(1, 1, 0, 12)\n",
      "ARIMA (0, 1, 2) x (1, 1, 0, 12) : AIC = 406.8981401781722\n",
      "(1, 1, 1, 12)\n",
      "ARIMA (0, 1, 2) x (1, 1, 1, 12) : AIC = 255.50212658670415\n",
      "(1, 1, 2, 12)\n",
      "ARIMA (0, 1, 2) x (1, 1, 2, 12) : AIC = 250.17897962556438\n",
      "(1, 2, 0, 12)\n",
      "ARIMA (0, 1, 2) x (1, 2, 0, 12) : AIC = 780.3405304905978\n",
      "(1, 2, 1, 12)\n",
      "ARIMA (0, 1, 2) x (1, 2, 1, 12) : AIC = 447.7455963879227\n",
      "(1, 2, 2, 12)\n"
     ]
    },
    {
     "name": "stderr",
     "output_type": "stream",
     "text": [
      "/srv/conda/envs/notebook/lib/python3.8/site-packages/statsmodels/base/model.py:566: ConvergenceWarning: Maximum Likelihood optimization failed to converge. Check mle_retvals\n",
      "  warnings.warn(\"Maximum Likelihood optimization failed to \"\n"
     ]
    },
    {
     "name": "stdout",
     "output_type": "stream",
     "text": [
      "ARIMA (0, 1, 2) x (1, 2, 2, 12) : AIC = 304.35001871045097\n",
      "(2, 0, 0, 12)\n",
      "ARIMA (0, 1, 2) x (2, 0, 0, 12) : AIC = 407.42927361294255\n",
      "(2, 0, 1, 12)\n",
      "ARIMA (0, 1, 2) x (2, 0, 1, 12) : AIC = 252.00766271929035\n",
      "(2, 0, 2, 12)\n"
     ]
    },
    {
     "name": "stderr",
     "output_type": "stream",
     "text": [
      "/srv/conda/envs/notebook/lib/python3.8/site-packages/statsmodels/base/model.py:566: ConvergenceWarning: Maximum Likelihood optimization failed to converge. Check mle_retvals\n",
      "  warnings.warn(\"Maximum Likelihood optimization failed to \"\n"
     ]
    },
    {
     "name": "stdout",
     "output_type": "stream",
     "text": [
      "ARIMA (0, 1, 2) x (2, 0, 2, 12) : AIC = 251.5385380258562\n",
      "(2, 1, 0, 12)\n",
      "ARIMA (0, 1, 2) x (2, 1, 0, 12) : AIC = 334.2885003225425\n",
      "(2, 1, 1, 12)\n",
      "ARIMA (0, 1, 2) x (2, 1, 1, 12) : AIC = 257.13298830341034\n",
      "(2, 1, 2, 12)\n",
      "ARIMA (0, 1, 2) x (2, 1, 2, 12) : AIC = 253.0760064000859\n",
      "(2, 2, 0, 12)\n",
      "ARIMA (0, 1, 2) x (2, 2, 0, 12) : AIC = 623.3738812032434\n",
      "(2, 2, 1, 12)\n",
      "ARIMA (0, 1, 2) x (2, 2, 1, 12) : AIC = 383.6206222448932\n",
      "(2, 2, 2, 12)\n",
      "ARIMA (0, 1, 2) x (2, 2, 2, 12) : AIC = 330.5596775505546\n",
      "(0, 2, 0)\n",
      "(0, 0, 0, 12)\n",
      "ARIMA (0, 2, 0) x (0, 0, 0, 12) : AIC = 1383.8624161973303\n",
      "(0, 0, 1, 12)\n",
      "ARIMA (0, 2, 0) x (0, 0, 1, 12) : AIC = 1153.5896487807363\n",
      "(0, 0, 2, 12)\n",
      "ARIMA (0, 2, 0) x (0, 0, 2, 12) : AIC = 1044.3213513132084\n",
      "(0, 1, 0, 12)\n",
      "ARIMA (0, 2, 0) x (0, 1, 0, 12) : AIC = 1058.7334429109237\n",
      "(0, 1, 1, 12)\n",
      "ARIMA (0, 2, 0) x (0, 1, 1, 12) : AIC = 733.6974982623401\n",
      "(0, 1, 2, 12)\n",
      "ARIMA (0, 2, 0) x (0, 1, 2, 12) : AIC = 715.9112701867612\n",
      "(0, 2, 0, 12)\n",
      "ARIMA (0, 2, 0) x (0, 2, 0, 12) : AIC = 1550.6665521860305\n",
      "(0, 2, 1, 12)\n",
      "ARIMA (0, 2, 0) x (0, 2, 1, 12) : AIC = 1040.185147139099\n",
      "(0, 2, 2, 12)\n",
      "ARIMA (0, 2, 0) x (0, 2, 2, 12) : AIC = 776.7109473519598\n",
      "(1, 0, 0, 12)\n",
      "ARIMA (0, 2, 0) x (1, 0, 0, 12) : AIC = 984.1352907479215\n",
      "(1, 0, 1, 12)\n",
      "ARIMA (0, 2, 0) x (1, 0, 1, 12) : AIC = 778.7728250984261\n",
      "(1, 0, 2, 12)\n",
      "ARIMA (0, 2, 0) x (1, 0, 2, 12) : AIC = 736.2869305288131\n",
      "(1, 1, 0, 12)\n",
      "ARIMA (0, 2, 0) x (1, 1, 0, 12) : AIC = 899.0474438066195\n",
      "(1, 1, 1, 12)\n",
      "ARIMA (0, 2, 0) x (1, 1, 1, 12) : AIC = 737.5719126650336\n",
      "(1, 1, 2, 12)\n",
      "ARIMA (0, 2, 0) x (1, 1, 2, 12) : AIC = 714.5221969788311\n",
      "(1, 2, 0, 12)\n",
      "ARIMA (0, 2, 0) x (1, 2, 0, 12) : AIC = 1254.2095636185531\n",
      "(1, 2, 1, 12)\n",
      "ARIMA (0, 2, 0) x (1, 2, 1, 12) : AIC = 933.4585023786788\n",
      "(1, 2, 2, 12)\n",
      "ARIMA (0, 2, 0) x (1, 2, 2, 12) : AIC = 785.1700823513094\n",
      "(2, 0, 0, 12)\n",
      "ARIMA (0, 2, 0) x (2, 0, 0, 12) : AIC = 871.6923198371951\n",
      "(2, 0, 1, 12)\n",
      "ARIMA (0, 2, 0) x (2, 0, 1, 12) : AIC = 736.9268115055161\n",
      "(2, 0, 2, 12)\n",
      "ARIMA (0, 2, 0) x (2, 0, 2, 12) : AIC = 730.8932668013954\n",
      "(2, 1, 0, 12)\n",
      "ARIMA (0, 2, 0) x (2, 1, 0, 12) : AIC = 835.2155606033257\n",
      "(2, 1, 1, 12)\n",
      "ARIMA (0, 2, 0) x (2, 1, 1, 12) : AIC = 720.1846278095779\n",
      "(2, 1, 2, 12)\n",
      "ARIMA (0, 2, 0) x (2, 1, 2, 12) : AIC = 716.9502990164582\n",
      "(2, 2, 0, 12)\n"
     ]
    },
    {
     "name": "stderr",
     "output_type": "stream",
     "text": [
      "/srv/conda/envs/notebook/lib/python3.8/site-packages/statsmodels/base/model.py:566: ConvergenceWarning: Maximum Likelihood optimization failed to converge. Check mle_retvals\n",
      "  warnings.warn(\"Maximum Likelihood optimization failed to \"\n"
     ]
    },
    {
     "name": "stdout",
     "output_type": "stream",
     "text": [
      "ARIMA (0, 2, 0) x (2, 2, 0, 12) : AIC = 1096.9021023206533\n",
      "(2, 2, 1, 12)\n",
      "ARIMA (0, 2, 0) x (2, 2, 1, 12) : AIC = 872.8238560057573\n",
      "(2, 2, 2, 12)\n",
      "ARIMA (0, 2, 0) x (2, 2, 2, 12) : AIC = 798.4804385269073\n",
      "(0, 2, 1)\n",
      "(0, 0, 0, 12)\n",
      "ARIMA (0, 2, 1) x (0, 0, 0, 12) : AIC = 1342.9866297516514\n",
      "(0, 0, 1, 12)\n",
      "ARIMA (0, 2, 1) x (0, 0, 1, 12) : AIC = 1153.6182271542016\n",
      "(0, 0, 2, 12)\n",
      "ARIMA (0, 2, 1) x (0, 0, 2, 12) : AIC = 1025.9096096184066\n",
      "(0, 1, 0, 12)\n",
      "ARIMA (0, 2, 1) x (0, 1, 0, 12) : AIC = 599.0081954918376\n",
      "(0, 1, 1, 12)\n",
      "ARIMA (0, 2, 1) x (0, 1, 1, 12) : AIC = 306.4657582073453\n",
      "(0, 1, 2, 12)\n",
      "ARIMA (0, 2, 1) x (0, 1, 2, 12) : AIC = 290.742041302724\n",
      "(0, 2, 0, 12)\n",
      "ARIMA (0, 2, 1) x (0, 2, 0, 12) : AIC = 1102.1592430974194\n",
      "(0, 2, 1, 12)\n",
      "ARIMA (0, 2, 1) x (0, 2, 1, 12) : AIC = 610.1027361555\n",
      "(0, 2, 2, 12)\n",
      "ARIMA (0, 2, 1) x (0, 2, 2, 12) : AIC = 362.61462743321925\n",
      "(1, 0, 0, 12)\n",
      "ARIMA (0, 2, 1) x (1, 0, 0, 12) : AIC = 591.5626411426632\n",
      "(1, 0, 1, 12)\n",
      "ARIMA (0, 2, 1) x (1, 0, 1, 12) : AIC = 334.7654632436454\n",
      "(1, 0, 2, 12)\n",
      "ARIMA (0, 2, 1) x (1, 0, 2, 12) : AIC = 295.47608570246405\n",
      "(1, 1, 0, 12)\n",
      "ARIMA (0, 2, 1) x (1, 1, 0, 12) : AIC = 453.32416522775895\n",
      "(1, 1, 1, 12)\n",
      "ARIMA (0, 2, 1) x (1, 1, 1, 12) : AIC = 299.0947897096942\n",
      "(1, 1, 2, 12)\n",
      "ARIMA (0, 2, 1) x (1, 1, 2, 12) : AIC = 289.3293864372862\n",
      "(1, 2, 0, 12)\n",
      "ARIMA (0, 2, 1) x (1, 2, 0, 12) : AIC = 819.7586206952519\n",
      "(1, 2, 1, 12)\n",
      "ARIMA (0, 2, 1) x (1, 2, 1, 12) : AIC = 502.4190629455291\n",
      "(1, 2, 2, 12)\n",
      "ARIMA (0, 2, 1) x (1, 2, 2, 12) : AIC = 356.0723024850907\n",
      "(2, 0, 0, 12)\n",
      "ARIMA (0, 2, 1) x (2, 0, 0, 12) : AIC = 451.3187802841884\n",
      "(2, 0, 1, 12)\n",
      "ARIMA (0, 2, 1) x (2, 0, 1, 12) : AIC = 299.29107191034257\n",
      "(2, 0, 2, 12)\n"
     ]
    },
    {
     "name": "stderr",
     "output_type": "stream",
     "text": [
      "/srv/conda/envs/notebook/lib/python3.8/site-packages/statsmodels/base/model.py:566: ConvergenceWarning: Maximum Likelihood optimization failed to converge. Check mle_retvals\n",
      "  warnings.warn(\"Maximum Likelihood optimization failed to \"\n"
     ]
    },
    {
     "name": "stdout",
     "output_type": "stream",
     "text": [
      "ARIMA (0, 2, 1) x (2, 0, 2, 12) : AIC = 294.242879386809\n",
      "(2, 1, 0, 12)\n",
      "ARIMA (0, 2, 1) x (2, 1, 0, 12) : AIC = 391.9974043770883\n",
      "(2, 1, 1, 12)\n",
      "ARIMA (0, 2, 1) x (2, 1, 1, 12) : AIC = 301.98304716205973\n",
      "(2, 1, 2, 12)\n",
      "ARIMA (0, 2, 1) x (2, 1, 2, 12) : AIC = 296.32683793493754\n",
      "(2, 2, 0, 12)\n",
      "ARIMA (0, 2, 1) x (2, 2, 0, 12) : AIC = 670.4924106170399\n",
      "(2, 2, 1, 12)\n",
      "ARIMA (0, 2, 1) x (2, 2, 1, 12) : AIC = 445.3348978629771\n",
      "(2, 2, 2, 12)\n",
      "ARIMA (0, 2, 1) x (2, 2, 2, 12) : AIC = 384.29155698483703\n",
      "(0, 2, 2)\n",
      "(0, 0, 0, 12)\n",
      "ARIMA (0, 2, 2) x (0, 0, 0, 12) : AIC = 1328.7477724750497\n",
      "(0, 0, 1, 12)\n",
      "ARIMA (0, 2, 2) x (0, 0, 1, 12) : AIC = 1151.6621106600655\n",
      "(0, 0, 2, 12)\n",
      "ARIMA (0, 2, 2) x (0, 0, 2, 12) : AIC = 930.1682782905157\n",
      "(0, 1, 0, 12)\n",
      "ARIMA (0, 2, 2) x (0, 1, 0, 12) : AIC = 549.3608420654054\n",
      "(0, 1, 1, 12)\n",
      "ARIMA (0, 2, 2) x (0, 1, 1, 12) : AIC = 275.09271510339045\n",
      "(0, 1, 2, 12)\n",
      "ARIMA (0, 2, 2) x (0, 1, 2, 12) : AIC = 261.3691011512992\n",
      "(0, 2, 0, 12)\n",
      "ARIMA (0, 2, 2) x (0, 2, 0, 12) : AIC = 1063.169429660829\n",
      "(0, 2, 1, 12)\n",
      "ARIMA (0, 2, 2) x (0, 2, 1, 12) : AIC = 575.7359183922422\n",
      "(0, 2, 2, 12)\n",
      "ARIMA (0, 2, 2) x (0, 2, 2, 12) : AIC = 327.1953068158724\n",
      "(1, 0, 0, 12)\n",
      "ARIMA (0, 2, 2) x (1, 0, 0, 12) : AIC = 562.3059854955402\n",
      "(1, 0, 1, 12)\n",
      "ARIMA (0, 2, 2) x (1, 0, 1, 12) : AIC = 292.1545338868026\n",
      "(1, 0, 2, 12)\n",
      "ARIMA (0, 2, 2) x (1, 0, 2, 12) : AIC = 264.0443010596527\n",
      "(1, 1, 0, 12)\n",
      "ARIMA (0, 2, 2) x (1, 1, 0, 12) : AIC = 418.1753416144019\n",
      "(1, 1, 1, 12)\n",
      "ARIMA (0, 2, 2) x (1, 1, 1, 12) : AIC = 266.7261904330486\n",
      "(1, 1, 2, 12)\n",
      "ARIMA (0, 2, 2) x (1, 1, 2, 12) : AIC = 260.08407792375544\n",
      "(1, 2, 0, 12)\n",
      "ARIMA (0, 2, 2) x (1, 2, 0, 12) : AIC = 788.7083350672847\n",
      "(1, 2, 1, 12)\n",
      "ARIMA (0, 2, 2) x (1, 2, 1, 12) : AIC = 464.3491123883028\n",
      "(1, 2, 2, 12)\n",
      "ARIMA (0, 2, 2) x (1, 2, 2, 12) : AIC = 318.8493473676066\n",
      "(2, 0, 0, 12)\n",
      "ARIMA (0, 2, 2) x (2, 0, 0, 12) : AIC = 418.622821310523\n",
      "(2, 0, 1, 12)\n",
      "ARIMA (0, 2, 2) x (2, 0, 1, 12) : AIC = 266.0645221754697\n",
      "(2, 0, 2, 12)\n"
     ]
    },
    {
     "name": "stderr",
     "output_type": "stream",
     "text": [
      "/srv/conda/envs/notebook/lib/python3.8/site-packages/statsmodels/base/model.py:566: ConvergenceWarning: Maximum Likelihood optimization failed to converge. Check mle_retvals\n",
      "  warnings.warn(\"Maximum Likelihood optimization failed to \"\n"
     ]
    },
    {
     "name": "stdout",
     "output_type": "stream",
     "text": [
      "ARIMA (0, 2, 2) x (2, 0, 2, 12) : AIC = 262.70115720306853\n",
      "(2, 1, 0, 12)\n",
      "ARIMA (0, 2, 2) x (2, 1, 0, 12) : AIC = 347.0103955291677\n",
      "(2, 1, 1, 12)\n",
      "ARIMA (0, 2, 2) x (2, 1, 1, 12) : AIC = 271.0508388139715\n",
      "(2, 1, 2, 12)\n",
      "ARIMA (0, 2, 2) x (2, 1, 2, 12) : AIC = 265.03788907037307\n",
      "(2, 2, 0, 12)\n",
      "ARIMA (0, 2, 2) x (2, 2, 0, 12) : AIC = 634.230731166452\n",
      "(2, 2, 1, 12)\n",
      "ARIMA (0, 2, 2) x (2, 2, 1, 12) : AIC = 401.1313915334068\n",
      "(2, 2, 2, 12)\n",
      "ARIMA (0, 2, 2) x (2, 2, 2, 12) : AIC = 319.2590319351934\n",
      "(1, 0, 0)\n",
      "(0, 0, 0, 12)\n",
      "ARIMA (1, 0, 0) x (0, 0, 0, 12) : AIC = 1673.0477020390035\n",
      "(0, 0, 1, 12)\n",
      "ARIMA (1, 0, 0) x (0, 0, 1, 12) : AIC = 1445.7091144209962\n",
      "(0, 0, 2, 12)\n"
     ]
    },
    {
     "name": "stderr",
     "output_type": "stream",
     "text": [
      "/srv/conda/envs/notebook/lib/python3.8/site-packages/statsmodels/base/model.py:566: ConvergenceWarning: Maximum Likelihood optimization failed to converge. Check mle_retvals\n",
      "  warnings.warn(\"Maximum Likelihood optimization failed to \"\n"
     ]
    },
    {
     "name": "stdout",
     "output_type": "stream",
     "text": [
      "ARIMA (1, 0, 0) x (0, 0, 2, 12) : AIC = 1170.1918411349682\n",
      "(0, 1, 0, 12)\n",
      "ARIMA (1, 0, 0) x (0, 1, 0, 12) : AIC = 587.5527387489071\n",
      "(0, 1, 1, 12)\n",
      "ARIMA (1, 0, 0) x (0, 1, 1, 12) : AIC = 301.2975832463972\n",
      "(0, 1, 2, 12)\n",
      "ARIMA (1, 0, 0) x (0, 1, 2, 12) : AIC = 285.30589981280787\n",
      "(0, 2, 0, 12)\n",
      "ARIMA (1, 0, 0) x (0, 2, 0, 12) : AIC = 1030.9859003849306\n",
      "(0, 2, 1, 12)\n",
      "ARIMA (1, 0, 0) x (0, 2, 1, 12) : AIC = 557.5390222425287\n",
      "(0, 2, 2, 12)\n",
      "ARIMA (1, 0, 0) x (0, 2, 2, 12) : AIC = 351.7344793630158\n",
      "(1, 0, 0, 12)\n",
      "ARIMA (1, 0, 0) x (1, 0, 0, 12) : AIC = 545.4100934354447\n",
      "(1, 0, 1, 12)\n"
     ]
    },
    {
     "name": "stderr",
     "output_type": "stream",
     "text": [
      "/srv/conda/envs/notebook/lib/python3.8/site-packages/statsmodels/base/model.py:566: ConvergenceWarning: Maximum Likelihood optimization failed to converge. Check mle_retvals\n",
      "  warnings.warn(\"Maximum Likelihood optimization failed to \"\n"
     ]
    },
    {
     "name": "stdout",
     "output_type": "stream",
     "text": [
      "ARIMA (1, 0, 0) x (1, 0, 1, 12) : AIC = 321.4370921398271\n",
      "(1, 0, 2, 12)\n"
     ]
    },
    {
     "name": "stderr",
     "output_type": "stream",
     "text": [
      "/srv/conda/envs/notebook/lib/python3.8/site-packages/statsmodels/base/model.py:566: ConvergenceWarning: Maximum Likelihood optimization failed to converge. Check mle_retvals\n",
      "  warnings.warn(\"Maximum Likelihood optimization failed to \"\n"
     ]
    },
    {
     "name": "stdout",
     "output_type": "stream",
     "text": [
      "ARIMA (1, 0, 0) x (1, 0, 2, 12) : AIC = 278.7525279021289\n",
      "(1, 1, 0, 12)\n",
      "ARIMA (1, 0, 0) x (1, 1, 0, 12) : AIC = 443.114932520532\n",
      "(1, 1, 1, 12)\n",
      "ARIMA (1, 0, 0) x (1, 1, 1, 12) : AIC = 296.40844993956057\n",
      "(1, 1, 2, 12)\n",
      "ARIMA (1, 0, 0) x (1, 1, 2, 12) : AIC = 284.463492310349\n",
      "(1, 2, 0, 12)\n",
      "ARIMA (1, 0, 0) x (1, 2, 0, 12) : AIC = 760.3618573524861\n",
      "(1, 2, 1, 12)\n",
      "ARIMA (1, 0, 0) x (1, 2, 1, 12) : AIC = 462.71163505294\n",
      "(1, 2, 2, 12)\n",
      "ARIMA (1, 0, 0) x (1, 2, 2, 12) : AIC = 342.72042038313725\n",
      "(2, 0, 0, 12)\n",
      "ARIMA (1, 0, 0) x (2, 0, 0, 12) : AIC = 414.0947549695599\n",
      "(2, 0, 1, 12)\n",
      "ARIMA (1, 0, 0) x (2, 0, 1, 12) : AIC = 279.893823576057\n",
      "(2, 0, 2, 12)\n",
      "ARIMA (1, 0, 0) x (2, 0, 2, 12) : AIC = 277.77339942083444\n",
      "(2, 1, 0, 12)\n",
      "ARIMA (1, 0, 0) x (2, 1, 0, 12) : AIC = 383.70565219217264\n",
      "(2, 1, 1, 12)\n"
     ]
    },
    {
     "name": "stderr",
     "output_type": "stream",
     "text": [
      "/srv/conda/envs/notebook/lib/python3.8/site-packages/statsmodels/base/model.py:566: ConvergenceWarning: Maximum Likelihood optimization failed to converge. Check mle_retvals\n",
      "  warnings.warn(\"Maximum Likelihood optimization failed to \"\n"
     ]
    },
    {
     "name": "stdout",
     "output_type": "stream",
     "text": [
      "ARIMA (1, 0, 0) x (2, 1, 1, 12) : AIC = 287.56777386451586\n",
      "(2, 1, 2, 12)\n"
     ]
    },
    {
     "name": "stderr",
     "output_type": "stream",
     "text": [
      "/srv/conda/envs/notebook/lib/python3.8/site-packages/statsmodels/base/model.py:566: ConvergenceWarning: Maximum Likelihood optimization failed to converge. Check mle_retvals\n",
      "  warnings.warn(\"Maximum Likelihood optimization failed to \"\n"
     ]
    },
    {
     "name": "stdout",
     "output_type": "stream",
     "text": [
      "ARIMA (1, 0, 0) x (2, 1, 2, 12) : AIC = 286.43192999787794\n",
      "(2, 2, 0, 12)\n"
     ]
    },
    {
     "name": "stderr",
     "output_type": "stream",
     "text": [
      "/srv/conda/envs/notebook/lib/python3.8/site-packages/statsmodels/base/model.py:566: ConvergenceWarning: Maximum Likelihood optimization failed to converge. Check mle_retvals\n",
      "  warnings.warn(\"Maximum Likelihood optimization failed to \"\n"
     ]
    },
    {
     "name": "stdout",
     "output_type": "stream",
     "text": [
      "ARIMA (1, 0, 0) x (2, 2, 0, 12) : AIC = 616.571426749937\n",
      "(2, 2, 1, 12)\n",
      "ARIMA (1, 0, 0) x (2, 2, 1, 12) : AIC = 411.2588755571653\n",
      "(2, 2, 2, 12)\n",
      "ARIMA (1, 0, 0) x (2, 2, 2, 12) : AIC = 370.7922805164786\n",
      "(1, 0, 1)\n",
      "(0, 0, 0, 12)\n",
      "ARIMA (1, 0, 1) x (0, 0, 0, 12) : AIC = 1347.6667601337776\n",
      "(0, 0, 1, 12)\n",
      "ARIMA (1, 0, 1) x (0, 0, 1, 12) : AIC = 1090.9145461120884\n",
      "(0, 0, 2, 12)\n",
      "ARIMA (1, 0, 1) x (0, 0, 2, 12) : AIC = 1049.166330412804\n",
      "(0, 1, 0, 12)\n",
      "ARIMA (1, 0, 1) x (0, 1, 0, 12) : AIC = 555.677471349714\n",
      "(0, 1, 1, 12)\n",
      "ARIMA (1, 0, 1) x (0, 1, 1, 12) : AIC = 273.01900892963374\n",
      "(0, 1, 2, 12)\n",
      "ARIMA (1, 0, 1) x (0, 1, 2, 12) : AIC = 253.57653556990687\n",
      "(0, 2, 0, 12)\n",
      "ARIMA (1, 0, 1) x (0, 2, 0, 12) : AIC = 1023.4464849331273\n",
      "(0, 2, 1, 12)\n",
      "ARIMA (1, 0, 1) x (0, 2, 1, 12) : AIC = 543.4053291765567\n",
      "(0, 2, 2, 12)\n",
      "ARIMA (1, 0, 1) x (0, 2, 2, 12) : AIC = 323.45294777698723\n",
      "(1, 0, 0, 12)\n"
     ]
    },
    {
     "name": "stderr",
     "output_type": "stream",
     "text": [
      "/srv/conda/envs/notebook/lib/python3.8/site-packages/statsmodels/base/model.py:566: ConvergenceWarning: Maximum Likelihood optimization failed to converge. Check mle_retvals\n",
      "  warnings.warn(\"Maximum Likelihood optimization failed to \"\n"
     ]
    },
    {
     "name": "stdout",
     "output_type": "stream",
     "text": [
      "ARIMA (1, 0, 1) x (1, 0, 0, 12) : AIC = 552.3252064186737\n",
      "(1, 0, 1, 12)\n"
     ]
    },
    {
     "name": "stderr",
     "output_type": "stream",
     "text": [
      "/srv/conda/envs/notebook/lib/python3.8/site-packages/statsmodels/base/model.py:566: ConvergenceWarning: Maximum Likelihood optimization failed to converge. Check mle_retvals\n",
      "  warnings.warn(\"Maximum Likelihood optimization failed to \"\n"
     ]
    },
    {
     "name": "stdout",
     "output_type": "stream",
     "text": [
      "ARIMA (1, 0, 1) x (1, 0, 1, 12) : AIC = 346.96150613443945\n",
      "(1, 0, 2, 12)\n"
     ]
    },
    {
     "name": "stderr",
     "output_type": "stream",
     "text": [
      "/srv/conda/envs/notebook/lib/python3.8/site-packages/statsmodels/base/model.py:566: ConvergenceWarning: Maximum Likelihood optimization failed to converge. Check mle_retvals\n",
      "  warnings.warn(\"Maximum Likelihood optimization failed to \"\n"
     ]
    },
    {
     "name": "stdout",
     "output_type": "stream",
     "text": [
      "ARIMA (1, 0, 1) x (1, 0, 2, 12) : AIC = 323.7387994018762\n",
      "(1, 1, 0, 12)\n",
      "ARIMA (1, 0, 1) x (1, 1, 0, 12) : AIC = 409.4405048213334\n",
      "(1, 1, 1, 12)\n",
      "ARIMA (1, 0, 1) x (1, 1, 1, 12) : AIC = 260.11149887505184\n",
      "(1, 1, 2, 12)\n"
     ]
    },
    {
     "name": "stderr",
     "output_type": "stream",
     "text": [
      "/srv/conda/envs/notebook/lib/python3.8/site-packages/statsmodels/base/model.py:566: ConvergenceWarning: Maximum Likelihood optimization failed to converge. Check mle_retvals\n",
      "  warnings.warn(\"Maximum Likelihood optimization failed to \"\n"
     ]
    },
    {
     "name": "stdout",
     "output_type": "stream",
     "text": [
      "ARIMA (1, 0, 1) x (1, 1, 2, 12) : AIC = 253.1388921768506\n",
      "(1, 2, 0, 12)\n",
      "ARIMA (1, 0, 1) x (1, 2, 0, 12) : AIC = 751.1945581196894\n",
      "(1, 2, 1, 12)\n",
      "ARIMA (1, 0, 1) x (1, 2, 1, 12) : AIC = 439.82655554602906\n",
      "(1, 2, 2, 12)\n",
      "ARIMA (1, 0, 1) x (1, 2, 2, 12) : AIC = 310.188757059991\n",
      "(2, 0, 0, 12)\n"
     ]
    },
    {
     "name": "stderr",
     "output_type": "stream",
     "text": [
      "/srv/conda/envs/notebook/lib/python3.8/site-packages/statsmodels/base/model.py:566: ConvergenceWarning: Maximum Likelihood optimization failed to converge. Check mle_retvals\n",
      "  warnings.warn(\"Maximum Likelihood optimization failed to \"\n"
     ]
    },
    {
     "name": "stdout",
     "output_type": "stream",
     "text": [
      "ARIMA (1, 0, 1) x (2, 0, 0, 12) : AIC = 434.47266529689034\n",
      "(2, 0, 1, 12)\n"
     ]
    },
    {
     "name": "stderr",
     "output_type": "stream",
     "text": [
      "/srv/conda/envs/notebook/lib/python3.8/site-packages/statsmodels/base/model.py:566: ConvergenceWarning: Maximum Likelihood optimization failed to converge. Check mle_retvals\n",
      "  warnings.warn(\"Maximum Likelihood optimization failed to \"\n"
     ]
    },
    {
     "name": "stdout",
     "output_type": "stream",
     "text": [
      "ARIMA (1, 0, 1) x (2, 0, 1, 12) : AIC = 360.29546929887465\n",
      "(2, 0, 2, 12)\n"
     ]
    },
    {
     "name": "stderr",
     "output_type": "stream",
     "text": [
      "/srv/conda/envs/notebook/lib/python3.8/site-packages/statsmodels/base/model.py:566: ConvergenceWarning: Maximum Likelihood optimization failed to converge. Check mle_retvals\n",
      "  warnings.warn(\"Maximum Likelihood optimization failed to \"\n"
     ]
    },
    {
     "name": "stdout",
     "output_type": "stream",
     "text": [
      "ARIMA (1, 0, 1) x (2, 0, 2, 12) : AIC = 336.19335192423614\n",
      "(2, 1, 0, 12)\n",
      "ARIMA (1, 0, 1) x (2, 1, 0, 12) : AIC = 339.14485129959553\n",
      "(2, 1, 1, 12)\n",
      "ARIMA (1, 0, 1) x (2, 1, 1, 12) : AIC = 260.80279422847497\n",
      "(2, 1, 2, 12)\n",
      "ARIMA (1, 0, 1) x (2, 1, 2, 12) : AIC = 257.09188333482547\n",
      "(2, 2, 0, 12)\n",
      "ARIMA (1, 0, 1) x (2, 2, 0, 12) : AIC = 603.0956439148275\n",
      "(2, 2, 1, 12)\n",
      "ARIMA (1, 0, 1) x (2, 2, 1, 12) : AIC = 379.4685426702116\n",
      "(2, 2, 2, 12)\n",
      "ARIMA (1, 0, 1) x (2, 2, 2, 12) : AIC = 335.4415647092477\n",
      "(1, 0, 2)\n",
      "(0, 0, 0, 12)\n",
      "ARIMA (1, 0, 2) x (0, 0, 0, 12) : AIC = 1219.810720331844\n",
      "(0, 0, 1, 12)\n"
     ]
    },
    {
     "name": "stderr",
     "output_type": "stream",
     "text": [
      "/srv/conda/envs/notebook/lib/python3.8/site-packages/statsmodels/base/model.py:566: ConvergenceWarning: Maximum Likelihood optimization failed to converge. Check mle_retvals\n",
      "  warnings.warn(\"Maximum Likelihood optimization failed to \"\n"
     ]
    },
    {
     "name": "stdout",
     "output_type": "stream",
     "text": [
      "ARIMA (1, 0, 2) x (0, 0, 1, 12) : AIC = 1072.9965113553826\n",
      "(0, 0, 2, 12)\n"
     ]
    },
    {
     "name": "stderr",
     "output_type": "stream",
     "text": [
      "/srv/conda/envs/notebook/lib/python3.8/site-packages/statsmodels/base/model.py:566: ConvergenceWarning: Maximum Likelihood optimization failed to converge. Check mle_retvals\n",
      "  warnings.warn(\"Maximum Likelihood optimization failed to \"\n"
     ]
    },
    {
     "name": "stdout",
     "output_type": "stream",
     "text": [
      "ARIMA (1, 0, 2) x (0, 0, 2, 12) : AIC = 979.0042967234465\n",
      "(0, 1, 0, 12)\n",
      "ARIMA (1, 0, 2) x (0, 1, 0, 12) : AIC = 549.7860498373569\n",
      "(0, 1, 1, 12)\n",
      "ARIMA (1, 0, 2) x (0, 1, 1, 12) : AIC = 267.47616095056827\n",
      "(0, 1, 2, 12)\n",
      "ARIMA (1, 0, 2) x (0, 1, 2, 12) : AIC = 250.72242032537025\n",
      "(0, 2, 0, 12)\n",
      "ARIMA (1, 0, 2) x (0, 2, 0, 12) : AIC = 1024.134627232494\n",
      "(0, 2, 1, 12)\n",
      "ARIMA (1, 0, 2) x (0, 2, 1, 12) : AIC = 543.581473088545\n",
      "(0, 2, 2, 12)\n",
      "ARIMA (1, 0, 2) x (0, 2, 2, 12) : AIC = 314.06609871684606\n",
      "(1, 0, 0, 12)\n",
      "ARIMA (1, 0, 2) x (1, 0, 0, 12) : AIC = 535.063933765759\n",
      "(1, 0, 1, 12)\n"
     ]
    },
    {
     "name": "stderr",
     "output_type": "stream",
     "text": [
      "/srv/conda/envs/notebook/lib/python3.8/site-packages/statsmodels/base/model.py:566: ConvergenceWarning: Maximum Likelihood optimization failed to converge. Check mle_retvals\n",
      "  warnings.warn(\"Maximum Likelihood optimization failed to \"\n"
     ]
    },
    {
     "name": "stdout",
     "output_type": "stream",
     "text": [
      "ARIMA (1, 0, 2) x (1, 0, 1, 12) : AIC = 284.9531012094952\n",
      "(1, 0, 2, 12)\n"
     ]
    },
    {
     "name": "stderr",
     "output_type": "stream",
     "text": [
      "/srv/conda/envs/notebook/lib/python3.8/site-packages/statsmodels/base/model.py:566: ConvergenceWarning: Maximum Likelihood optimization failed to converge. Check mle_retvals\n",
      "  warnings.warn(\"Maximum Likelihood optimization failed to \"\n"
     ]
    },
    {
     "name": "stdout",
     "output_type": "stream",
     "text": [
      "ARIMA (1, 0, 2) x (1, 0, 2, 12) : AIC = 247.57120808339394\n",
      "(1, 1, 0, 12)\n",
      "ARIMA (1, 0, 2) x (1, 1, 0, 12) : AIC = 407.67631899599274\n",
      "(1, 1, 1, 12)\n",
      "ARIMA (1, 0, 2) x (1, 1, 1, 12) : AIC = 257.48806240654596\n",
      "(1, 1, 2, 12)\n"
     ]
    },
    {
     "name": "stderr",
     "output_type": "stream",
     "text": [
      "/srv/conda/envs/notebook/lib/python3.8/site-packages/statsmodels/base/model.py:566: ConvergenceWarning: Maximum Likelihood optimization failed to converge. Check mle_retvals\n",
      "  warnings.warn(\"Maximum Likelihood optimization failed to \"\n"
     ]
    },
    {
     "name": "stdout",
     "output_type": "stream",
     "text": [
      "ARIMA (1, 0, 2) x (1, 1, 2, 12) : AIC = 251.22882386981726\n",
      "(1, 2, 0, 12)\n",
      "ARIMA (1, 0, 2) x (1, 2, 0, 12) : AIC = 753.0895413982656\n",
      "(1, 2, 1, 12)\n",
      "ARIMA (1, 0, 2) x (1, 2, 1, 12) : AIC = 439.43029331585666\n",
      "(1, 2, 2, 12)\n",
      "ARIMA (1, 0, 2) x (1, 2, 2, 12) : AIC = 304.7520830930079\n",
      "(2, 0, 0, 12)\n",
      "ARIMA (1, 0, 2) x (2, 0, 0, 12) : AIC = 396.98672713763744\n",
      "(2, 0, 1, 12)\n"
     ]
    },
    {
     "name": "stderr",
     "output_type": "stream",
     "text": [
      "/srv/conda/envs/notebook/lib/python3.8/site-packages/statsmodels/base/model.py:566: ConvergenceWarning: Maximum Likelihood optimization failed to converge. Check mle_retvals\n",
      "  warnings.warn(\"Maximum Likelihood optimization failed to \"\n"
     ]
    },
    {
     "name": "stdout",
     "output_type": "stream",
     "text": [
      "ARIMA (1, 0, 2) x (2, 0, 1, 12) : AIC = 262.44784348766717\n",
      "(2, 0, 2, 12)\n"
     ]
    },
    {
     "name": "stderr",
     "output_type": "stream",
     "text": [
      "/srv/conda/envs/notebook/lib/python3.8/site-packages/statsmodels/base/model.py:566: ConvergenceWarning: Maximum Likelihood optimization failed to converge. Check mle_retvals\n",
      "  warnings.warn(\"Maximum Likelihood optimization failed to \"\n"
     ]
    },
    {
     "name": "stdout",
     "output_type": "stream",
     "text": [
      "ARIMA (1, 0, 2) x (2, 0, 2, 12) : AIC = 249.20329730712433\n",
      "(2, 1, 0, 12)\n",
      "ARIMA (1, 0, 2) x (2, 1, 0, 12) : AIC = 335.94631098015054\n",
      "(2, 1, 1, 12)\n",
      "ARIMA (1, 0, 2) x (2, 1, 1, 12) : AIC = 257.77222551186907\n",
      "(2, 1, 2, 12)\n"
     ]
    },
    {
     "name": "stderr",
     "output_type": "stream",
     "text": [
      "/srv/conda/envs/notebook/lib/python3.8/site-packages/statsmodels/base/model.py:566: ConvergenceWarning: Maximum Likelihood optimization failed to converge. Check mle_retvals\n",
      "  warnings.warn(\"Maximum Likelihood optimization failed to \"\n"
     ]
    },
    {
     "name": "stdout",
     "output_type": "stream",
     "text": [
      "ARIMA (1, 0, 2) x (2, 1, 2, 12) : AIC = 253.86102498759584\n",
      "(2, 2, 0, 12)\n",
      "ARIMA (1, 0, 2) x (2, 2, 0, 12) : AIC = 604.3704936374821\n",
      "(2, 2, 1, 12)\n",
      "ARIMA (1, 0, 2) x (2, 2, 1, 12) : AIC = 377.99587151261414\n",
      "(2, 2, 2, 12)\n",
      "ARIMA (1, 0, 2) x (2, 2, 2, 12) : AIC = 329.8600468578665\n",
      "(1, 1, 0)\n",
      "(0, 0, 0, 12)\n",
      "ARIMA (1, 1, 0) x (0, 0, 0, 12) : AIC = 1307.4407388468521\n",
      "(0, 0, 1, 12)\n",
      "ARIMA (1, 1, 0) x (0, 0, 1, 12) : AIC = 1045.0173526284761\n",
      "(0, 0, 2, 12)\n",
      "ARIMA (1, 1, 0) x (0, 0, 2, 12) : AIC = 907.4584199105902\n",
      "(0, 1, 0, 12)\n",
      "ARIMA (1, 1, 0) x (0, 1, 0, 12) : AIC = 567.0420232980764\n",
      "(0, 1, 1, 12)\n"
     ]
    },
    {
     "name": "stderr",
     "output_type": "stream",
     "text": [
      "/srv/conda/envs/notebook/lib/python3.8/site-packages/statsmodels/base/model.py:566: ConvergenceWarning: Maximum Likelihood optimization failed to converge. Check mle_retvals\n",
      "  warnings.warn(\"Maximum Likelihood optimization failed to \"\n"
     ]
    },
    {
     "name": "stdout",
     "output_type": "stream",
     "text": [
      "ARIMA (1, 1, 0) x (0, 1, 1, 12) : AIC = 277.623265957165\n",
      "(0, 1, 2, 12)\n",
      "ARIMA (1, 1, 0) x (0, 1, 2, 12) : AIC = 258.35766863416296\n",
      "(0, 2, 0, 12)\n",
      "ARIMA (1, 1, 0) x (0, 2, 0, 12) : AIC = 1072.4914261926428\n",
      "(0, 2, 1, 12)\n",
      "ARIMA (1, 1, 0) x (0, 2, 1, 12) : AIC = 575.1510573830926\n",
      "(0, 2, 2, 12)\n",
      "ARIMA (1, 1, 0) x (0, 2, 2, 12) : AIC = 333.04020254279715\n",
      "(1, 0, 0, 12)\n",
      "ARIMA (1, 1, 0) x (1, 0, 0, 12) : AIC = 560.3489508892942\n",
      "(1, 0, 1, 12)\n",
      "ARIMA (1, 1, 0) x (1, 0, 1, 12) : AIC = 305.4678495738485\n",
      "(1, 0, 2, 12)\n",
      "ARIMA (1, 1, 0) x (1, 0, 2, 12) : AIC = 257.69354136967183\n",
      "(1, 1, 0, 12)\n",
      "ARIMA (1, 1, 0) x (1, 1, 0, 12) : AIC = 414.68493398823716\n",
      "(1, 1, 1, 12)\n",
      "ARIMA (1, 1, 0) x (1, 1, 1, 12) : AIC = 267.8909376880114\n",
      "(1, 1, 2, 12)\n",
      "ARIMA (1, 1, 0) x (1, 1, 2, 12) : AIC = 258.3023983042448\n",
      "(1, 2, 0, 12)\n"
     ]
    },
    {
     "name": "stderr",
     "output_type": "stream",
     "text": [
      "/srv/conda/envs/notebook/lib/python3.8/site-packages/statsmodels/base/model.py:566: ConvergenceWarning: Maximum Likelihood optimization failed to converge. Check mle_retvals\n",
      "  warnings.warn(\"Maximum Likelihood optimization failed to \"\n"
     ]
    },
    {
     "name": "stdout",
     "output_type": "stream",
     "text": [
      "ARIMA (1, 1, 0) x (1, 2, 0, 12) : AIC = 782.2536004611263\n",
      "(1, 2, 1, 12)\n",
      "ARIMA (1, 1, 0) x (1, 2, 1, 12) : AIC = 461.0607619210347\n",
      "(1, 2, 2, 12)\n",
      "ARIMA (1, 1, 0) x (1, 2, 2, 12) : AIC = 326.32438459063144\n",
      "(2, 0, 0, 12)\n",
      "ARIMA (1, 1, 0) x (2, 0, 0, 12) : AIC = 414.5530206141194\n",
      "(2, 0, 1, 12)\n"
     ]
    },
    {
     "name": "stderr",
     "output_type": "stream",
     "text": [
      "/srv/conda/envs/notebook/lib/python3.8/site-packages/statsmodels/base/model.py:566: ConvergenceWarning: Maximum Likelihood optimization failed to converge. Check mle_retvals\n",
      "  warnings.warn(\"Maximum Likelihood optimization failed to \"\n"
     ]
    },
    {
     "name": "stdout",
     "output_type": "stream",
     "text": [
      "ARIMA (1, 1, 0) x (2, 0, 1, 12) : AIC = 258.4948219625237\n",
      "(2, 0, 2, 12)\n",
      "ARIMA (1, 1, 0) x (2, 0, 2, 12) : AIC = 259.36788615560863\n",
      "(2, 1, 0, 12)\n",
      "ARIMA (1, 1, 0) x (2, 1, 0, 12) : AIC = 349.8739127602764\n",
      "(2, 1, 1, 12)\n",
      "ARIMA (1, 1, 0) x (2, 1, 1, 12) : AIC = 264.3420326062582\n",
      "(2, 1, 2, 12)\n",
      "ARIMA (1, 1, 0) x (2, 1, 2, 12) : AIC = 263.29738138468196\n",
      "(2, 2, 0, 12)\n",
      "ARIMA (1, 1, 0) x (2, 2, 0, 12) : AIC = 633.8312852141491\n",
      "(2, 2, 1, 12)\n",
      "ARIMA (1, 1, 0) x (2, 2, 1, 12) : AIC = 399.0998730388625\n",
      "(2, 2, 2, 12)\n",
      "ARIMA (1, 1, 0) x (2, 2, 2, 12) : AIC = 346.24824319933765\n",
      "(1, 1, 1)\n",
      "(0, 0, 0, 12)\n",
      "ARIMA (1, 1, 1) x (0, 0, 0, 12) : AIC = 1232.8633502305067\n",
      "(0, 0, 1, 12)\n",
      "ARIMA (1, 1, 1) x (0, 0, 1, 12) : AIC = 1035.4565108728898\n",
      "(0, 0, 2, 12)\n",
      "ARIMA (1, 1, 1) x (0, 0, 2, 12) : AIC = 906.1232868284591\n",
      "(0, 1, 0, 12)\n",
      "ARIMA (1, 1, 1) x (0, 1, 0, 12) : AIC = 548.7765200806448\n",
      "(0, 1, 1, 12)\n",
      "ARIMA (1, 1, 1) x (0, 1, 1, 12) : AIC = 262.4640627354156\n",
      "(0, 1, 2, 12)\n",
      "ARIMA (1, 1, 1) x (0, 1, 2, 12) : AIC = 247.78462364753133\n",
      "(0, 2, 0, 12)\n",
      "ARIMA (1, 1, 1) x (0, 2, 0, 12) : AIC = 1059.035731359594\n",
      "(0, 2, 1, 12)\n",
      "ARIMA (1, 1, 1) x (0, 2, 1, 12) : AIC = 561.4877661398048\n",
      "(0, 2, 2, 12)\n",
      "ARIMA (1, 1, 1) x (0, 2, 2, 12) : AIC = 311.87238788132925\n",
      "(1, 0, 0, 12)\n",
      "ARIMA (1, 1, 1) x (1, 0, 0, 12) : AIC = 546.1376830864899\n",
      "(1, 0, 1, 12)\n",
      "ARIMA (1, 1, 1) x (1, 0, 1, 12) : AIC = 284.56011273951935\n",
      "(1, 0, 2, 12)\n",
      "ARIMA (1, 1, 1) x (1, 0, 2, 12) : AIC = 249.83469364520258\n",
      "(1, 1, 0, 12)\n",
      "ARIMA (1, 1, 1) x (1, 1, 0, 12) : AIC = 403.18521906379783\n",
      "(1, 1, 1, 12)\n",
      "ARIMA (1, 1, 1) x (1, 1, 1, 12) : AIC = 252.28508982500568\n",
      "(1, 1, 2, 12)\n",
      "ARIMA (1, 1, 1) x (1, 1, 2, 12) : AIC = 247.38888210381938\n",
      "(1, 2, 0, 12)\n",
      "ARIMA (1, 1, 1) x (1, 2, 0, 12) : AIC = 775.659718709431\n",
      "(1, 2, 1, 12)\n",
      "ARIMA (1, 1, 1) x (1, 2, 1, 12) : AIC = 448.87500398047547\n",
      "(1, 2, 2, 12)\n",
      "ARIMA (1, 1, 1) x (1, 2, 2, 12) : AIC = 302.47904336748917\n",
      "(2, 0, 0, 12)\n",
      "ARIMA (1, 1, 1) x (2, 0, 0, 12) : AIC = 402.735653765827\n",
      "(2, 0, 1, 12)\n"
     ]
    },
    {
     "name": "stderr",
     "output_type": "stream",
     "text": [
      "/srv/conda/envs/notebook/lib/python3.8/site-packages/statsmodels/base/model.py:566: ConvergenceWarning: Maximum Likelihood optimization failed to converge. Check mle_retvals\n",
      "  warnings.warn(\"Maximum Likelihood optimization failed to \"\n"
     ]
    },
    {
     "name": "stdout",
     "output_type": "stream",
     "text": [
      "ARIMA (1, 1, 1) x (2, 0, 1, 12) : AIC = 250.03633230009447\n",
      "(2, 0, 2, 12)\n",
      "ARIMA (1, 1, 1) x (2, 0, 2, 12) : AIC = 248.9337443645582\n",
      "(2, 1, 0, 12)\n",
      "ARIMA (1, 1, 1) x (2, 1, 0, 12) : AIC = 333.26941843903217\n",
      "(2, 1, 1, 12)\n",
      "ARIMA (1, 1, 1) x (2, 1, 1, 12) : AIC = 252.64821024881613\n",
      "(2, 1, 2, 12)\n",
      "ARIMA (1, 1, 1) x (2, 1, 2, 12) : AIC = 251.21001569064615\n",
      "(2, 2, 0, 12)\n",
      "ARIMA (1, 1, 1) x (2, 2, 0, 12) : AIC = 622.0206752551804\n",
      "(2, 2, 1, 12)\n",
      "ARIMA (1, 1, 1) x (2, 2, 1, 12) : AIC = 382.75795275182554\n",
      "(2, 2, 2, 12)\n",
      "ARIMA (1, 1, 1) x (2, 2, 2, 12) : AIC = 330.0516415922732\n",
      "(1, 1, 2)\n",
      "(0, 0, 0, 12)\n",
      "ARIMA (1, 1, 2) x (0, 0, 0, 12) : AIC = 1186.512993437579\n",
      "(0, 0, 1, 12)\n",
      "ARIMA (1, 1, 2) x (0, 0, 1, 12) : AIC = 1002.5904992293814\n",
      "(0, 0, 2, 12)\n",
      "ARIMA (1, 1, 2) x (0, 0, 2, 12) : AIC = 881.7378771626225\n",
      "(0, 1, 0, 12)\n",
      "ARIMA (1, 1, 2) x (0, 1, 0, 12) : AIC = 542.5242788806107\n",
      "(0, 1, 1, 12)\n",
      "ARIMA (1, 1, 2) x (0, 1, 1, 12) : AIC = 264.3848068888443\n",
      "(0, 1, 2, 12)\n",
      "ARIMA (1, 1, 2) x (0, 1, 2, 12) : AIC = 248.62400214357564\n",
      "(0, 2, 0, 12)\n",
      "ARIMA (1, 1, 2) x (0, 2, 0, 12) : AIC = 1026.1052360358103\n",
      "(0, 2, 1, 12)\n",
      "ARIMA (1, 1, 2) x (0, 2, 1, 12) : AIC = 559.9509315590977\n",
      "(0, 2, 2, 12)\n",
      "ARIMA (1, 1, 2) x (0, 2, 2, 12) : AIC = 314.13263834857196\n",
      "(1, 0, 0, 12)\n",
      "ARIMA (1, 1, 2) x (1, 0, 0, 12) : AIC = 536.9615949973403\n",
      "(1, 0, 1, 12)\n",
      "ARIMA (1, 1, 2) x (1, 0, 1, 12) : AIC = 284.7793876248112\n",
      "(1, 0, 2, 12)\n"
     ]
    },
    {
     "name": "stderr",
     "output_type": "stream",
     "text": [
      "/srv/conda/envs/notebook/lib/python3.8/site-packages/statsmodels/base/model.py:566: ConvergenceWarning: Maximum Likelihood optimization failed to converge. Check mle_retvals\n",
      "  warnings.warn(\"Maximum Likelihood optimization failed to \"\n"
     ]
    },
    {
     "name": "stdout",
     "output_type": "stream",
     "text": [
      "ARIMA (1, 1, 2) x (1, 0, 2, 12) : AIC = 251.20427875617156\n",
      "(1, 1, 0, 12)\n",
      "ARIMA (1, 1, 2) x (1, 1, 0, 12) : AIC = 405.02768055243087\n",
      "(1, 1, 1, 12)\n",
      "ARIMA (1, 1, 2) x (1, 1, 1, 12) : AIC = 254.2440711671664\n",
      "(1, 1, 2, 12)\n",
      "ARIMA (1, 1, 2) x (1, 1, 2, 12) : AIC = 248.5078100713664\n",
      "(1, 2, 0, 12)\n",
      "ARIMA (1, 1, 2) x (1, 2, 0, 12) : AIC = 777.0930710896039\n",
      "(1, 2, 1, 12)\n",
      "ARIMA (1, 1, 2) x (1, 2, 1, 12) : AIC = 447.9752867252965\n",
      "(1, 2, 2, 12)\n",
      "ARIMA (1, 1, 2) x (1, 2, 2, 12) : AIC = 304.27533186481037\n",
      "(2, 0, 0, 12)\n",
      "ARIMA (1, 1, 2) x (2, 0, 0, 12) : AIC = 404.73556128347275\n",
      "(2, 0, 1, 12)\n"
     ]
    },
    {
     "name": "stderr",
     "output_type": "stream",
     "text": [
      "/srv/conda/envs/notebook/lib/python3.8/site-packages/statsmodels/base/model.py:566: ConvergenceWarning: Maximum Likelihood optimization failed to converge. Check mle_retvals\n",
      "  warnings.warn(\"Maximum Likelihood optimization failed to \"\n"
     ]
    },
    {
     "name": "stdout",
     "output_type": "stream",
     "text": [
      "ARIMA (1, 1, 2) x (2, 0, 1, 12) : AIC = 251.76956071544197\n",
      "(2, 0, 2, 12)\n"
     ]
    },
    {
     "name": "stderr",
     "output_type": "stream",
     "text": [
      "/srv/conda/envs/notebook/lib/python3.8/site-packages/statsmodels/base/model.py:566: ConvergenceWarning: Maximum Likelihood optimization failed to converge. Check mle_retvals\n",
      "  warnings.warn(\"Maximum Likelihood optimization failed to \"\n"
     ]
    },
    {
     "name": "stdout",
     "output_type": "stream",
     "text": [
      "ARIMA (1, 1, 2) x (2, 0, 2, 12) : AIC = 251.4487635047114\n",
      "(2, 1, 0, 12)\n",
      "ARIMA (1, 1, 2) x (2, 1, 0, 12) : AIC = 335.24209778990917\n",
      "(2, 1, 1, 12)\n",
      "ARIMA (1, 1, 2) x (2, 1, 1, 12) : AIC = 254.39280333002083\n",
      "(2, 1, 2, 12)\n",
      "ARIMA (1, 1, 2) x (2, 1, 2, 12) : AIC = 252.86281530017152\n",
      "(2, 2, 0, 12)\n",
      "ARIMA (1, 1, 2) x (2, 2, 0, 12) : AIC = 624.0200863218002\n",
      "(2, 2, 1, 12)\n",
      "ARIMA (1, 1, 2) x (2, 2, 1, 12) : AIC = 384.72234634797564\n",
      "(2, 2, 2, 12)\n",
      "ARIMA (1, 1, 2) x (2, 2, 2, 12) : AIC = 330.57858871838533\n",
      "(1, 2, 0)\n",
      "(0, 0, 0, 12)\n",
      "ARIMA (1, 2, 0) x (0, 0, 0, 12) : AIC = 1344.5589859472643\n",
      "(0, 0, 1, 12)\n",
      "ARIMA (1, 2, 0) x (0, 0, 1, 12) : AIC = 1155.5849856415953\n",
      "(0, 0, 2, 12)\n",
      "ARIMA (1, 2, 0) x (0, 0, 2, 12) : AIC = 1030.9414547861747\n",
      "(0, 1, 0, 12)\n",
      "ARIMA (1, 2, 0) x (0, 1, 0, 12) : AIC = 850.2210819173006\n",
      "(0, 1, 1, 12)\n",
      "ARIMA (1, 2, 0) x (0, 1, 1, 12) : AIC = 551.0947128927756\n",
      "(0, 1, 2, 12)\n",
      "ARIMA (1, 2, 0) x (0, 1, 2, 12) : AIC = 528.2573274269737\n",
      "(0, 2, 0, 12)\n",
      "ARIMA (1, 2, 0) x (0, 2, 0, 12) : AIC = 1345.367184460108\n",
      "(0, 2, 1, 12)\n",
      "ARIMA (1, 2, 0) x (0, 2, 1, 12) : AIC = 842.9604705311841\n",
      "(0, 2, 2, 12)\n",
      "ARIMA (1, 2, 0) x (0, 2, 2, 12) : AIC = 601.346280803213\n",
      "(1, 0, 0, 12)\n",
      "ARIMA (1, 2, 0) x (1, 0, 0, 12) : AIC = 824.4902551961545\n",
      "(1, 0, 1, 12)\n",
      "ARIMA (1, 2, 0) x (1, 0, 1, 12) : AIC = 588.7342897664142\n",
      "(1, 0, 2, 12)\n",
      "ARIMA (1, 2, 0) x (1, 0, 2, 12) : AIC = 535.1368628247585\n",
      "(1, 1, 0, 12)\n",
      "ARIMA (1, 2, 0) x (1, 1, 0, 12) : AIC = 691.6852688998351\n",
      "(1, 1, 1, 12)\n",
      "ARIMA (1, 2, 0) x (1, 1, 1, 12) : AIC = 542.7689746884225\n",
      "(1, 1, 2, 12)\n",
      "ARIMA (1, 2, 0) x (1, 1, 2, 12) : AIC = 527.0265455654616\n",
      "(1, 2, 0, 12)\n",
      "ARIMA (1, 2, 0) x (1, 2, 0, 12) : AIC = 1039.2973778346702\n",
      "(1, 2, 1, 12)\n",
      "ARIMA (1, 2, 0) x (1, 2, 1, 12) : AIC = 731.7305042446698\n",
      "(1, 2, 2, 12)\n"
     ]
    },
    {
     "name": "stderr",
     "output_type": "stream",
     "text": [
      "/srv/conda/envs/notebook/lib/python3.8/site-packages/statsmodels/base/model.py:566: ConvergenceWarning: Maximum Likelihood optimization failed to converge. Check mle_retvals\n",
      "  warnings.warn(\"Maximum Likelihood optimization failed to \"\n"
     ]
    },
    {
     "name": "stdout",
     "output_type": "stream",
     "text": [
      "ARIMA (1, 2, 0) x (1, 2, 2, 12) : AIC = 596.3728525181702\n",
      "(2, 0, 0, 12)\n",
      "ARIMA (1, 2, 0) x (2, 0, 0, 12) : AIC = 685.0745440505541\n",
      "(2, 0, 1, 12)\n",
      "ARIMA (1, 2, 0) x (2, 0, 1, 12) : AIC = 536.5674577985086\n",
      "(2, 0, 2, 12)\n",
      "ARIMA (1, 2, 0) x (2, 0, 2, 12) : AIC = 533.7469377823611\n",
      "(2, 1, 0, 12)\n",
      "ARIMA (1, 2, 0) x (2, 1, 0, 12) : AIC = 636.4784395654689\n",
      "(2, 1, 1, 12)\n",
      "ARIMA (1, 2, 0) x (2, 1, 1, 12) : AIC = 531.5929967641289\n",
      "(2, 1, 2, 12)\n",
      "ARIMA (1, 2, 0) x (2, 1, 2, 12) : AIC = 530.8720574650531\n",
      "(2, 2, 0, 12)\n",
      "ARIMA (1, 2, 0) x (2, 2, 0, 12) : AIC = 898.3368601604717\n",
      "(2, 2, 1, 12)\n",
      "ARIMA (1, 2, 0) x (2, 2, 1, 12) : AIC = 678.5139908307217\n",
      "(2, 2, 2, 12)\n",
      "ARIMA (1, 2, 0) x (2, 2, 2, 12) : AIC = 613.3913396063563\n",
      "(1, 2, 1)\n",
      "(0, 0, 0, 12)\n",
      "ARIMA (1, 2, 1) x (0, 0, 0, 12) : AIC = 1342.52171758808\n",
      "(0, 0, 1, 12)\n",
      "ARIMA (1, 2, 1) x (0, 0, 1, 12) : AIC = 1047.0660456805458\n",
      "(0, 0, 2, 12)\n",
      "ARIMA (1, 2, 1) x (0, 0, 2, 12) : AIC = 908.7572807633446\n",
      "(0, 1, 0, 12)\n",
      "ARIMA (1, 2, 1) x (0, 1, 0, 12) : AIC = 570.2403293999514\n",
      "(0, 1, 1, 12)\n",
      "ARIMA (1, 2, 1) x (0, 1, 1, 12) : AIC = 285.20616777930104\n",
      "(0, 1, 2, 12)\n",
      "ARIMA (1, 2, 1) x (0, 1, 2, 12) : AIC = 266.2098074894691\n",
      "(0, 2, 0, 12)\n",
      "ARIMA (1, 2, 1) x (0, 2, 0, 12) : AIC = 1074.8052910216807\n",
      "(0, 2, 1, 12)\n",
      "ARIMA (1, 2, 1) x (0, 2, 1, 12) : AIC = 585.066214162322\n",
      "(0, 2, 2, 12)\n",
      "ARIMA (1, 2, 1) x (0, 2, 2, 12) : AIC = 340.4983539702229\n",
      "(1, 0, 0, 12)\n",
      "ARIMA (1, 2, 1) x (1, 0, 0, 12) : AIC = 568.3392815378752\n",
      "(1, 0, 1, 12)\n",
      "ARIMA (1, 2, 1) x (1, 0, 1, 12) : AIC = 315.85791708845943\n",
      "(1, 0, 2, 12)\n",
      "ARIMA (1, 2, 1) x (1, 0, 2, 12) : AIC = 269.2415262532719\n",
      "(1, 1, 0, 12)\n",
      "ARIMA (1, 2, 1) x (1, 1, 0, 12) : AIC = 424.55009654982126\n",
      "(1, 1, 1, 12)\n",
      "ARIMA (1, 2, 1) x (1, 1, 1, 12) : AIC = 278.7002911775845\n",
      "(1, 1, 2, 12)\n",
      "ARIMA (1, 2, 1) x (1, 1, 2, 12) : AIC = 265.8696177078345\n",
      "(1, 2, 0, 12)\n",
      "ARIMA (1, 2, 1) x (1, 2, 0, 12) : AIC = 791.0013886180183\n",
      "(1, 2, 1, 12)\n",
      "ARIMA (1, 2, 1) x (1, 2, 1, 12) : AIC = 475.01288211113814\n",
      "(1, 2, 2, 12)\n"
     ]
    },
    {
     "name": "stderr",
     "output_type": "stream",
     "text": [
      "/srv/conda/envs/notebook/lib/python3.8/site-packages/statsmodels/base/model.py:566: ConvergenceWarning: Maximum Likelihood optimization failed to converge. Check mle_retvals\n",
      "  warnings.warn(\"Maximum Likelihood optimization failed to \"\n"
     ]
    },
    {
     "name": "stdout",
     "output_type": "stream",
     "text": [
      "ARIMA (1, 2, 1) x (1, 2, 2, 12) : AIC = 332.5666729647589\n",
      "(2, 0, 0, 12)\n",
      "ARIMA (1, 2, 1) x (2, 0, 0, 12) : AIC = 422.8981341199302\n",
      "(2, 0, 1, 12)\n",
      "ARIMA (1, 2, 1) x (2, 0, 1, 12) : AIC = 271.54179251103966\n",
      "(2, 0, 2, 12)\n"
     ]
    },
    {
     "name": "stderr",
     "output_type": "stream",
     "text": [
      "/srv/conda/envs/notebook/lib/python3.8/site-packages/statsmodels/base/model.py:566: ConvergenceWarning: Maximum Likelihood optimization failed to converge. Check mle_retvals\n",
      "  warnings.warn(\"Maximum Likelihood optimization failed to \"\n"
     ]
    },
    {
     "name": "stdout",
     "output_type": "stream",
     "text": [
      "ARIMA (1, 2, 1) x (2, 0, 2, 12) : AIC = 269.9806773278584\n",
      "(2, 1, 0, 12)\n",
      "ARIMA (1, 2, 1) x (2, 1, 0, 12) : AIC = 356.3057192334297\n",
      "(2, 1, 1, 12)\n",
      "ARIMA (1, 2, 1) x (2, 1, 1, 12) : AIC = 275.2533616530028\n",
      "(2, 1, 2, 12)\n",
      "ARIMA (1, 2, 1) x (2, 1, 2, 12) : AIC = 272.62939342318725\n",
      "(2, 2, 0, 12)\n"
     ]
    },
    {
     "name": "stderr",
     "output_type": "stream",
     "text": [
      "/srv/conda/envs/notebook/lib/python3.8/site-packages/statsmodels/base/model.py:566: ConvergenceWarning: Maximum Likelihood optimization failed to converge. Check mle_retvals\n",
      "  warnings.warn(\"Maximum Likelihood optimization failed to \"\n"
     ]
    },
    {
     "name": "stdout",
     "output_type": "stream",
     "text": [
      "ARIMA (1, 2, 1) x (2, 2, 0, 12) : AIC = 639.9675084494593\n",
      "(2, 2, 1, 12)\n",
      "ARIMA (1, 2, 1) x (2, 2, 1, 12) : AIC = 409.9896747440125\n",
      "(2, 2, 2, 12)\n",
      "ARIMA (1, 2, 1) x (2, 2, 2, 12) : AIC = 359.15706846829084\n",
      "(1, 2, 2)\n",
      "(0, 0, 0, 12)\n",
      "ARIMA (1, 2, 2) x (0, 0, 0, 12) : AIC = 1233.2677463247403\n",
      "(0, 0, 1, 12)\n",
      "ARIMA (1, 2, 2) x (0, 0, 1, 12) : AIC = 1036.3128266547478\n",
      "(0, 0, 2, 12)\n",
      "ARIMA (1, 2, 2) x (0, 0, 2, 12) : AIC = 907.0938428190867\n",
      "(0, 1, 0, 12)\n",
      "ARIMA (1, 2, 2) x (0, 1, 0, 12) : AIC = 543.7327933146008\n",
      "(0, 1, 1, 12)\n",
      "ARIMA (1, 2, 2) x (0, 1, 1, 12) : AIC = 267.824208530959\n",
      "(0, 1, 2, 12)\n"
     ]
    },
    {
     "name": "stderr",
     "output_type": "stream",
     "text": [
      "/srv/conda/envs/notebook/lib/python3.8/site-packages/statsmodels/base/model.py:566: ConvergenceWarning: Maximum Likelihood optimization failed to converge. Check mle_retvals\n",
      "  warnings.warn(\"Maximum Likelihood optimization failed to \"\n"
     ]
    },
    {
     "name": "stdout",
     "output_type": "stream",
     "text": [
      "ARIMA (1, 2, 2) x (0, 1, 2, 12) : AIC = 256.2718304133223\n",
      "(0, 2, 0, 12)\n",
      "ARIMA (1, 2, 2) x (0, 2, 0, 12) : AIC = 1058.9221033135864\n",
      "(0, 2, 1, 12)\n",
      "ARIMA (1, 2, 2) x (0, 2, 1, 12) : AIC = 570.4641937097805\n",
      "(0, 2, 2, 12)\n",
      "ARIMA (1, 2, 2) x (0, 2, 2, 12) : AIC = 321.36381928433536\n",
      "(1, 0, 0, 12)\n",
      "ARIMA (1, 2, 2) x (1, 0, 0, 12) : AIC = 561.2246185124368\n",
      "(1, 0, 1, 12)\n"
     ]
    },
    {
     "name": "stderr",
     "output_type": "stream",
     "text": [
      "/srv/conda/envs/notebook/lib/python3.8/site-packages/statsmodels/base/model.py:566: ConvergenceWarning: Maximum Likelihood optimization failed to converge. Check mle_retvals\n",
      "  warnings.warn(\"Maximum Likelihood optimization failed to \"\n"
     ]
    },
    {
     "name": "stdout",
     "output_type": "stream",
     "text": [
      "ARIMA (1, 2, 2) x (1, 0, 1, 12) : AIC = 282.9754654494507\n",
      "(1, 0, 2, 12)\n"
     ]
    },
    {
     "name": "stderr",
     "output_type": "stream",
     "text": [
      "/srv/conda/envs/notebook/lib/python3.8/site-packages/statsmodels/base/model.py:566: ConvergenceWarning: Maximum Likelihood optimization failed to converge. Check mle_retvals\n",
      "  warnings.warn(\"Maximum Likelihood optimization failed to \"\n"
     ]
    },
    {
     "name": "stdout",
     "output_type": "stream",
     "text": [
      "ARIMA (1, 2, 2) x (1, 0, 2, 12) : AIC = 259.72054434132997\n",
      "(1, 1, 0, 12)\n",
      "ARIMA (1, 2, 2) x (1, 1, 0, 12) : AIC = 413.7411504364587\n",
      "(1, 1, 1, 12)\n",
      "ARIMA (1, 2, 2) x (1, 1, 1, 12) : AIC = 261.1059781709464\n",
      "(1, 1, 2, 12)\n"
     ]
    },
    {
     "name": "stderr",
     "output_type": "stream",
     "text": [
      "/srv/conda/envs/notebook/lib/python3.8/site-packages/statsmodels/base/model.py:566: ConvergenceWarning: Maximum Likelihood optimization failed to converge. Check mle_retvals\n",
      "  warnings.warn(\"Maximum Likelihood optimization failed to \"\n"
     ]
    },
    {
     "name": "stdout",
     "output_type": "stream",
     "text": [
      "ARIMA (1, 2, 2) x (1, 1, 2, 12) : AIC = 256.0884340794048\n",
      "(1, 2, 0, 12)\n",
      "ARIMA (1, 2, 2) x (1, 2, 0, 12) : AIC = 785.0070147525737\n",
      "(1, 2, 1, 12)\n",
      "ARIMA (1, 2, 2) x (1, 2, 1, 12) : AIC = 460.84381890487253\n",
      "(1, 2, 2, 12)\n"
     ]
    },
    {
     "name": "stderr",
     "output_type": "stream",
     "text": [
      "/srv/conda/envs/notebook/lib/python3.8/site-packages/statsmodels/base/model.py:566: ConvergenceWarning: Maximum Likelihood optimization failed to converge. Check mle_retvals\n",
      "  warnings.warn(\"Maximum Likelihood optimization failed to \"\n"
     ]
    },
    {
     "name": "stdout",
     "output_type": "stream",
     "text": [
      "ARIMA (1, 2, 2) x (1, 2, 2, 12) : AIC = 318.11110232496054\n",
      "(2, 0, 0, 12)\n",
      "ARIMA (1, 2, 2) x (2, 0, 0, 12) : AIC = 419.17708355241155\n",
      "(2, 0, 1, 12)\n"
     ]
    },
    {
     "name": "stderr",
     "output_type": "stream",
     "text": [
      "/srv/conda/envs/notebook/lib/python3.8/site-packages/statsmodels/base/model.py:566: ConvergenceWarning: Maximum Likelihood optimization failed to converge. Check mle_retvals\n",
      "  warnings.warn(\"Maximum Likelihood optimization failed to \"\n"
     ]
    },
    {
     "name": "stdout",
     "output_type": "stream",
     "text": [
      "ARIMA (1, 2, 2) x (2, 0, 1, 12) : AIC = 268.8983941631374\n",
      "(2, 0, 2, 12)\n"
     ]
    },
    {
     "name": "stderr",
     "output_type": "stream",
     "text": [
      "/srv/conda/envs/notebook/lib/python3.8/site-packages/statsmodels/base/model.py:566: ConvergenceWarning: Maximum Likelihood optimization failed to converge. Check mle_retvals\n",
      "  warnings.warn(\"Maximum Likelihood optimization failed to \"\n"
     ]
    },
    {
     "name": "stdout",
     "output_type": "stream",
     "text": [
      "ARIMA (1, 2, 2) x (2, 0, 2, 12) : AIC = 262.15315427959945\n",
      "(2, 1, 0, 12)\n",
      "ARIMA (1, 2, 2) x (2, 1, 0, 12) : AIC = 340.34057433103663\n",
      "(2, 1, 1, 12)\n",
      "ARIMA (1, 2, 2) x (2, 1, 1, 12) : AIC = 262.591701324886\n",
      "(2, 1, 2, 12)\n",
      "ARIMA (1, 2, 2) x (2, 1, 2, 12) : AIC = 285.56902429602553\n",
      "(2, 2, 0, 12)\n",
      "ARIMA (1, 2, 2) x (2, 2, 0, 12) : AIC = 628.7406709676102\n",
      "(2, 2, 1, 12)\n",
      "ARIMA (1, 2, 2) x (2, 2, 1, 12) : AIC = 394.29691895527867\n",
      "(2, 2, 2, 12)\n"
     ]
    },
    {
     "name": "stderr",
     "output_type": "stream",
     "text": [
      "/srv/conda/envs/notebook/lib/python3.8/site-packages/statsmodels/base/model.py:566: ConvergenceWarning: Maximum Likelihood optimization failed to converge. Check mle_retvals\n",
      "  warnings.warn(\"Maximum Likelihood optimization failed to \"\n"
     ]
    },
    {
     "name": "stdout",
     "output_type": "stream",
     "text": [
      "ARIMA (1, 2, 2) x (2, 2, 2, 12) : AIC = 343.4388486537029\n",
      "(2, 0, 0)\n",
      "(0, 0, 0, 12)\n",
      "ARIMA (2, 0, 0) x (0, 0, 0, 12) : AIC = 1308.8688604042895\n",
      "(0, 0, 1, 12)\n",
      "ARIMA (2, 0, 0) x (0, 0, 1, 12) : AIC = 1138.0111492200463\n",
      "(0, 0, 2, 12)\n",
      "ARIMA (2, 0, 0) x (0, 0, 2, 12) : AIC = 1022.7254525467167\n",
      "(0, 1, 0, 12)\n",
      "ARIMA (2, 0, 0) x (0, 1, 0, 12) : AIC = 562.5899766523501\n",
      "(0, 1, 1, 12)\n",
      "ARIMA (2, 0, 0) x (0, 1, 1, 12) : AIC = 282.2386026622704\n",
      "(0, 1, 2, 12)\n",
      "ARIMA (2, 0, 0) x (0, 1, 2, 12) : AIC = 259.87263631981205\n",
      "(0, 2, 0, 12)\n",
      "ARIMA (2, 0, 0) x (0, 2, 0, 12) : AIC = 1023.3480030498775\n",
      "(0, 2, 1, 12)\n",
      "ARIMA (2, 0, 0) x (0, 2, 1, 12) : AIC = 548.1417738110589\n",
      "(0, 2, 2, 12)\n",
      "ARIMA (2, 0, 0) x (0, 2, 2, 12) : AIC = 331.57908429772004\n",
      "(1, 0, 0, 12)\n",
      "ARIMA (2, 0, 0) x (1, 0, 0, 12) : AIC = 562.3303971925327\n",
      "(1, 0, 1, 12)\n"
     ]
    },
    {
     "name": "stderr",
     "output_type": "stream",
     "text": [
      "/srv/conda/envs/notebook/lib/python3.8/site-packages/statsmodels/base/model.py:566: ConvergenceWarning: Maximum Likelihood optimization failed to converge. Check mle_retvals\n",
      "  warnings.warn(\"Maximum Likelihood optimization failed to \"\n"
     ]
    },
    {
     "name": "stdout",
     "output_type": "stream",
     "text": [
      "ARIMA (2, 0, 0) x (1, 0, 1, 12) : AIC = 300.51272305482837\n",
      "(1, 0, 2, 12)\n"
     ]
    },
    {
     "name": "stderr",
     "output_type": "stream",
     "text": [
      "/srv/conda/envs/notebook/lib/python3.8/site-packages/statsmodels/base/model.py:566: ConvergenceWarning: Maximum Likelihood optimization failed to converge. Check mle_retvals\n",
      "  warnings.warn(\"Maximum Likelihood optimization failed to \"\n"
     ]
    },
    {
     "name": "stdout",
     "output_type": "stream",
     "text": [
      "ARIMA (2, 0, 0) x (1, 0, 2, 12) : AIC = 262.35220741048715\n",
      "(1, 1, 0, 12)\n",
      "ARIMA (2, 0, 0) x (1, 1, 0, 12) : AIC = 414.3069748910588\n",
      "(1, 1, 1, 12)\n",
      "ARIMA (2, 0, 0) x (1, 1, 1, 12) : AIC = 269.3783411541688\n",
      "(1, 1, 2, 12)\n",
      "ARIMA (2, 0, 0) x (1, 1, 2, 12) : AIC = 260.3747828302521\n",
      "(1, 2, 0, 12)\n",
      "ARIMA (2, 0, 0) x (1, 2, 0, 12) : AIC = 748.3042509695758\n",
      "(1, 2, 1, 12)\n",
      "ARIMA (2, 0, 0) x (1, 2, 1, 12) : AIC = 442.6076119373789\n",
      "(1, 2, 2, 12)\n",
      "ARIMA (2, 0, 0) x (1, 2, 2, 12) : AIC = 325.5201561361447\n",
      "(2, 0, 0, 12)\n",
      "ARIMA (2, 0, 0) x (2, 0, 0, 12) : AIC = 416.5107198759435\n",
      "(2, 0, 1, 12)\n"
     ]
    },
    {
     "name": "stderr",
     "output_type": "stream",
     "text": [
      "/srv/conda/envs/notebook/lib/python3.8/site-packages/statsmodels/base/model.py:566: ConvergenceWarning: Maximum Likelihood optimization failed to converge. Check mle_retvals\n",
      "  warnings.warn(\"Maximum Likelihood optimization failed to \"\n"
     ]
    },
    {
     "name": "stdout",
     "output_type": "stream",
     "text": [
      "ARIMA (2, 0, 0) x (2, 0, 1, 12) : AIC = 262.86728256837785\n",
      "(2, 0, 2, 12)\n"
     ]
    },
    {
     "name": "stderr",
     "output_type": "stream",
     "text": [
      "/srv/conda/envs/notebook/lib/python3.8/site-packages/statsmodels/base/model.py:566: ConvergenceWarning: Maximum Likelihood optimization failed to converge. Check mle_retvals\n",
      "  warnings.warn(\"Maximum Likelihood optimization failed to \"\n"
     ]
    },
    {
     "name": "stdout",
     "output_type": "stream",
     "text": [
      "ARIMA (2, 0, 0) x (2, 0, 2, 12) : AIC = 277.08105028016155\n",
      "(2, 1, 0, 12)\n",
      "ARIMA (2, 0, 0) x (2, 1, 0, 12) : AIC = 350.9342977164039\n",
      "(2, 1, 1, 12)\n",
      "ARIMA (2, 0, 0) x (2, 1, 1, 12) : AIC = 265.65500072513805\n",
      "(2, 1, 2, 12)\n",
      "ARIMA (2, 0, 0) x (2, 1, 2, 12) : AIC = 264.5765385170008\n",
      "(2, 2, 0, 12)\n",
      "ARIMA (2, 0, 0) x (2, 2, 0, 12) : AIC = 604.599123677839\n",
      "(2, 2, 1, 12)\n",
      "ARIMA (2, 0, 0) x (2, 2, 1, 12) : AIC = 387.1532740977334\n",
      "(2, 2, 2, 12)\n",
      "ARIMA (2, 0, 0) x (2, 2, 2, 12) : AIC = 343.71265107447874\n",
      "(2, 0, 1)\n",
      "(0, 0, 0, 12)\n",
      "ARIMA (2, 0, 1) x (0, 0, 0, 12) : AIC = 1236.260606208067\n",
      "(0, 0, 1, 12)\n",
      "ARIMA (2, 0, 1) x (0, 0, 1, 12) : AIC = 1091.8690864174796\n",
      "(0, 0, 2, 12)\n",
      "ARIMA (2, 0, 1) x (0, 0, 2, 12) : AIC = 1005.802788905834\n",
      "(0, 1, 0, 12)\n",
      "ARIMA (2, 0, 1) x (0, 1, 0, 12) : AIC = 551.0367255517608\n",
      "(0, 1, 1, 12)\n",
      "ARIMA (2, 0, 1) x (0, 1, 1, 12) : AIC = 264.7233894702582\n",
      "(0, 1, 2, 12)\n"
     ]
    },
    {
     "name": "stderr",
     "output_type": "stream",
     "text": [
      "/srv/conda/envs/notebook/lib/python3.8/site-packages/statsmodels/base/model.py:566: ConvergenceWarning: Maximum Likelihood optimization failed to converge. Check mle_retvals\n",
      "  warnings.warn(\"Maximum Likelihood optimization failed to \"\n"
     ]
    },
    {
     "name": "stdout",
     "output_type": "stream",
     "text": [
      "ARIMA (2, 0, 1) x (0, 1, 2, 12) : AIC = 247.93951104654712\n",
      "(0, 2, 0, 12)\n",
      "ARIMA (2, 0, 1) x (0, 2, 0, 12) : AIC = 1025.3382351525283\n",
      "(0, 2, 1, 12)\n",
      "ARIMA (2, 0, 1) x (0, 2, 1, 12) : AIC = 544.3977087817116\n",
      "(0, 2, 2, 12)\n",
      "ARIMA (2, 0, 1) x (0, 2, 2, 12) : AIC = 316.33231288860327\n",
      "(1, 0, 0, 12)\n",
      "ARIMA (2, 0, 1) x (1, 0, 0, 12) : AIC = 548.0497435062819\n",
      "(1, 0, 1, 12)\n"
     ]
    },
    {
     "name": "stderr",
     "output_type": "stream",
     "text": [
      "/srv/conda/envs/notebook/lib/python3.8/site-packages/statsmodels/base/model.py:566: ConvergenceWarning: Maximum Likelihood optimization failed to converge. Check mle_retvals\n",
      "  warnings.warn(\"Maximum Likelihood optimization failed to \"\n"
     ]
    },
    {
     "name": "stdout",
     "output_type": "stream",
     "text": [
      "ARIMA (2, 0, 1) x (1, 0, 1, 12) : AIC = 289.46324696332584\n",
      "(1, 0, 2, 12)\n"
     ]
    },
    {
     "name": "stderr",
     "output_type": "stream",
     "text": [
      "/srv/conda/envs/notebook/lib/python3.8/site-packages/statsmodels/base/model.py:566: ConvergenceWarning: Maximum Likelihood optimization failed to converge. Check mle_retvals\n",
      "  warnings.warn(\"Maximum Likelihood optimization failed to \"\n"
     ]
    },
    {
     "name": "stdout",
     "output_type": "stream",
     "text": [
      "ARIMA (2, 0, 1) x (1, 0, 2, 12) : AIC = 261.2408156381459\n",
      "(1, 1, 0, 12)\n",
      "ARIMA (2, 0, 1) x (1, 1, 0, 12) : AIC = 404.09818635228294\n",
      "(1, 1, 1, 12)\n"
     ]
    },
    {
     "name": "stderr",
     "output_type": "stream",
     "text": [
      "/srv/conda/envs/notebook/lib/python3.8/site-packages/statsmodels/base/model.py:566: ConvergenceWarning: Maximum Likelihood optimization failed to converge. Check mle_retvals\n",
      "  warnings.warn(\"Maximum Likelihood optimization failed to \"\n"
     ]
    },
    {
     "name": "stdout",
     "output_type": "stream",
     "text": [
      "ARIMA (2, 0, 1) x (1, 1, 1, 12) : AIC = 253.9913855408949\n",
      "(1, 1, 2, 12)\n"
     ]
    },
    {
     "name": "stderr",
     "output_type": "stream",
     "text": [
      "/srv/conda/envs/notebook/lib/python3.8/site-packages/statsmodels/base/model.py:566: ConvergenceWarning: Maximum Likelihood optimization failed to converge. Check mle_retvals\n",
      "  warnings.warn(\"Maximum Likelihood optimization failed to \"\n"
     ]
    },
    {
     "name": "stdout",
     "output_type": "stream",
     "text": [
      "ARIMA (2, 0, 1) x (1, 1, 2, 12) : AIC = 248.5183855650336\n",
      "(1, 2, 0, 12)\n",
      "ARIMA (2, 0, 1) x (1, 2, 0, 12) : AIC = 750.0855048479443\n",
      "(1, 2, 1, 12)\n",
      "ARIMA (2, 0, 1) x (1, 2, 1, 12) : AIC = 439.91026767218625\n",
      "(1, 2, 2, 12)\n"
     ]
    },
    {
     "name": "stderr",
     "output_type": "stream",
     "text": [
      "/srv/conda/envs/notebook/lib/python3.8/site-packages/statsmodels/base/model.py:566: ConvergenceWarning: Maximum Likelihood optimization failed to converge. Check mle_retvals\n",
      "  warnings.warn(\"Maximum Likelihood optimization failed to \"\n"
     ]
    },
    {
     "name": "stdout",
     "output_type": "stream",
     "text": [
      "ARIMA (2, 0, 1) x (1, 2, 2, 12) : AIC = 317.62341709222994\n",
      "(2, 0, 0, 12)\n"
     ]
    },
    {
     "name": "stderr",
     "output_type": "stream",
     "text": [
      "/srv/conda/envs/notebook/lib/python3.8/site-packages/statsmodels/base/model.py:566: ConvergenceWarning: Maximum Likelihood optimization failed to converge. Check mle_retvals\n",
      "  warnings.warn(\"Maximum Likelihood optimization failed to \"\n"
     ]
    },
    {
     "name": "stdout",
     "output_type": "stream",
     "text": [
      "ARIMA (2, 0, 1) x (2, 0, 0, 12) : AIC = 406.24264967270904\n",
      "(2, 0, 1, 12)\n"
     ]
    },
    {
     "name": "stderr",
     "output_type": "stream",
     "text": [
      "/srv/conda/envs/notebook/lib/python3.8/site-packages/statsmodels/base/model.py:566: ConvergenceWarning: Maximum Likelihood optimization failed to converge. Check mle_retvals\n",
      "  warnings.warn(\"Maximum Likelihood optimization failed to \"\n"
     ]
    },
    {
     "name": "stdout",
     "output_type": "stream",
     "text": [
      "ARIMA (2, 0, 1) x (2, 0, 1, 12) : AIC = 257.78243501890927\n",
      "(2, 0, 2, 12)\n"
     ]
    },
    {
     "name": "stderr",
     "output_type": "stream",
     "text": [
      "/srv/conda/envs/notebook/lib/python3.8/site-packages/statsmodels/base/model.py:566: ConvergenceWarning: Maximum Likelihood optimization failed to converge. Check mle_retvals\n",
      "  warnings.warn(\"Maximum Likelihood optimization failed to \"\n"
     ]
    },
    {
     "name": "stdout",
     "output_type": "stream",
     "text": [
      "ARIMA (2, 0, 1) x (2, 0, 2, 12) : AIC = 248.8786408608704\n",
      "(2, 1, 0, 12)\n",
      "ARIMA (2, 0, 1) x (2, 1, 0, 12) : AIC = 334.9718556562641\n",
      "(2, 1, 1, 12)\n"
     ]
    },
    {
     "name": "stderr",
     "output_type": "stream",
     "text": [
      "/srv/conda/envs/notebook/lib/python3.8/site-packages/statsmodels/base/model.py:566: ConvergenceWarning: Maximum Likelihood optimization failed to converge. Check mle_retvals\n",
      "  warnings.warn(\"Maximum Likelihood optimization failed to \"\n"
     ]
    },
    {
     "name": "stdout",
     "output_type": "stream",
     "text": [
      "ARIMA (2, 0, 1) x (2, 1, 1, 12) : AIC = 253.67164818892851\n",
      "(2, 1, 2, 12)\n",
      "ARIMA (2, 0, 1) x (2, 1, 2, 12) : AIC = 251.5915772788183\n",
      "(2, 2, 0, 12)\n",
      "ARIMA (2, 0, 1) x (2, 2, 0, 12) : AIC = 603.8431832594658\n",
      "(2, 2, 1, 12)\n",
      "ARIMA (2, 0, 1) x (2, 2, 1, 12) : AIC = 377.41242795166005\n",
      "(2, 2, 2, 12)\n"
     ]
    },
    {
     "name": "stderr",
     "output_type": "stream",
     "text": [
      "/srv/conda/envs/notebook/lib/python3.8/site-packages/statsmodels/base/model.py:566: ConvergenceWarning: Maximum Likelihood optimization failed to converge. Check mle_retvals\n",
      "  warnings.warn(\"Maximum Likelihood optimization failed to \"\n"
     ]
    },
    {
     "name": "stdout",
     "output_type": "stream",
     "text": [
      "ARIMA (2, 0, 1) x (2, 2, 2, 12) : AIC = 330.56205257689334\n",
      "(2, 0, 2)\n",
      "(0, 0, 0, 12)\n"
     ]
    },
    {
     "name": "stderr",
     "output_type": "stream",
     "text": [
      "/srv/conda/envs/notebook/lib/python3.8/site-packages/statsmodels/base/model.py:566: ConvergenceWarning: Maximum Likelihood optimization failed to converge. Check mle_retvals\n",
      "  warnings.warn(\"Maximum Likelihood optimization failed to \"\n"
     ]
    },
    {
     "name": "stdout",
     "output_type": "stream",
     "text": [
      "ARIMA (2, 0, 2) x (0, 0, 0, 12) : AIC = 1193.6260258664613\n",
      "(0, 0, 1, 12)\n"
     ]
    },
    {
     "name": "stderr",
     "output_type": "stream",
     "text": [
      "/srv/conda/envs/notebook/lib/python3.8/site-packages/statsmodels/base/model.py:566: ConvergenceWarning: Maximum Likelihood optimization failed to converge. Check mle_retvals\n",
      "  warnings.warn(\"Maximum Likelihood optimization failed to \"\n"
     ]
    },
    {
     "name": "stdout",
     "output_type": "stream",
     "text": [
      "ARIMA (2, 0, 2) x (0, 0, 1, 12) : AIC = 1058.412196103755\n",
      "(0, 0, 2, 12)\n",
      "ARIMA (2, 0, 2) x (0, 0, 2, 12) : AIC = 981.724346890586\n",
      "(0, 1, 0, 12)\n",
      "ARIMA (2, 0, 2) x (0, 1, 0, 12) : AIC = 549.7693925945445\n",
      "(0, 1, 1, 12)\n",
      "ARIMA (2, 0, 2) x (0, 1, 1, 12) : AIC = 265.54251795866065\n",
      "(0, 1, 2, 12)\n"
     ]
    },
    {
     "name": "stderr",
     "output_type": "stream",
     "text": [
      "/srv/conda/envs/notebook/lib/python3.8/site-packages/statsmodels/base/model.py:566: ConvergenceWarning: Maximum Likelihood optimization failed to converge. Check mle_retvals\n",
      "  warnings.warn(\"Maximum Likelihood optimization failed to \"\n"
     ]
    },
    {
     "name": "stdout",
     "output_type": "stream",
     "text": [
      "ARIMA (2, 0, 2) x (0, 1, 2, 12) : AIC = 249.20200595181313\n",
      "(0, 2, 0, 12)\n",
      "ARIMA (2, 0, 2) x (0, 2, 0, 12) : AIC = 999.2550190960219\n",
      "(0, 2, 1, 12)\n",
      "ARIMA (2, 0, 2) x (0, 2, 1, 12) : AIC = 528.3932853273274\n",
      "(0, 2, 2, 12)\n"
     ]
    },
    {
     "name": "stderr",
     "output_type": "stream",
     "text": [
      "/srv/conda/envs/notebook/lib/python3.8/site-packages/statsmodels/base/model.py:566: ConvergenceWarning: Maximum Likelihood optimization failed to converge. Check mle_retvals\n",
      "  warnings.warn(\"Maximum Likelihood optimization failed to \"\n"
     ]
    },
    {
     "name": "stdout",
     "output_type": "stream",
     "text": [
      "ARIMA (2, 0, 2) x (0, 2, 2, 12) : AIC = 314.34502651491334\n",
      "(1, 0, 0, 12)\n"
     ]
    },
    {
     "name": "stderr",
     "output_type": "stream",
     "text": [
      "/srv/conda/envs/notebook/lib/python3.8/site-packages/statsmodels/base/model.py:566: ConvergenceWarning: Maximum Likelihood optimization failed to converge. Check mle_retvals\n",
      "  warnings.warn(\"Maximum Likelihood optimization failed to \"\n"
     ]
    },
    {
     "name": "stdout",
     "output_type": "stream",
     "text": [
      "ARIMA (2, 0, 2) x (1, 0, 0, 12) : AIC = 530.950269260342\n",
      "(1, 0, 1, 12)\n"
     ]
    },
    {
     "name": "stderr",
     "output_type": "stream",
     "text": [
      "/srv/conda/envs/notebook/lib/python3.8/site-packages/statsmodels/base/model.py:566: ConvergenceWarning: Maximum Likelihood optimization failed to converge. Check mle_retvals\n",
      "  warnings.warn(\"Maximum Likelihood optimization failed to \"\n"
     ]
    },
    {
     "name": "stdout",
     "output_type": "stream",
     "text": [
      "ARIMA (2, 0, 2) x (1, 0, 1, 12) : AIC = 284.55306174639054\n",
      "(1, 0, 2, 12)\n"
     ]
    },
    {
     "name": "stderr",
     "output_type": "stream",
     "text": [
      "/srv/conda/envs/notebook/lib/python3.8/site-packages/statsmodels/base/model.py:566: ConvergenceWarning: Maximum Likelihood optimization failed to converge. Check mle_retvals\n",
      "  warnings.warn(\"Maximum Likelihood optimization failed to \"\n"
     ]
    },
    {
     "name": "stdout",
     "output_type": "stream",
     "text": [
      "ARIMA (2, 0, 2) x (1, 0, 2, 12) : AIC = 247.38852656327012\n",
      "(1, 1, 0, 12)\n",
      "ARIMA (2, 0, 2) x (1, 1, 0, 12) : AIC = 405.96785122429657\n",
      "(1, 1, 1, 12)\n"
     ]
    },
    {
     "name": "stderr",
     "output_type": "stream",
     "text": [
      "/srv/conda/envs/notebook/lib/python3.8/site-packages/statsmodels/base/model.py:566: ConvergenceWarning: Maximum Likelihood optimization failed to converge. Check mle_retvals\n",
      "  warnings.warn(\"Maximum Likelihood optimization failed to \"\n"
     ]
    },
    {
     "name": "stdout",
     "output_type": "stream",
     "text": [
      "ARIMA (2, 0, 2) x (1, 1, 1, 12) : AIC = 255.6851722921003\n",
      "(1, 1, 2, 12)\n"
     ]
    },
    {
     "name": "stderr",
     "output_type": "stream",
     "text": [
      "/srv/conda/envs/notebook/lib/python3.8/site-packages/statsmodels/base/model.py:566: ConvergenceWarning: Maximum Likelihood optimization failed to converge. Check mle_retvals\n",
      "  warnings.warn(\"Maximum Likelihood optimization failed to \"\n"
     ]
    },
    {
     "name": "stdout",
     "output_type": "stream",
     "text": [
      "ARIMA (2, 0, 2) x (1, 1, 2, 12) : AIC = 248.83348519924354\n",
      "(1, 2, 0, 12)\n",
      "ARIMA (2, 0, 2) x (1, 2, 0, 12) : AIC = 751.6577553516267\n",
      "(1, 2, 1, 12)\n",
      "ARIMA (2, 0, 2) x (1, 2, 1, 12) : AIC = 434.1510544140624\n",
      "(1, 2, 2, 12)\n",
      "ARIMA (2, 0, 2) x (1, 2, 2, 12) : AIC = 310.05239821650207\n",
      "(2, 0, 0, 12)\n"
     ]
    },
    {
     "name": "stderr",
     "output_type": "stream",
     "text": [
      "/srv/conda/envs/notebook/lib/python3.8/site-packages/statsmodels/base/model.py:566: ConvergenceWarning: Maximum Likelihood optimization failed to converge. Check mle_retvals\n",
      "  warnings.warn(\"Maximum Likelihood optimization failed to \"\n"
     ]
    },
    {
     "name": "stdout",
     "output_type": "stream",
     "text": [
      "ARIMA (2, 0, 2) x (2, 0, 0, 12) : AIC = 406.7170046742434\n",
      "(2, 0, 1, 12)\n"
     ]
    },
    {
     "name": "stderr",
     "output_type": "stream",
     "text": [
      "/srv/conda/envs/notebook/lib/python3.8/site-packages/statsmodels/base/model.py:566: ConvergenceWarning: Maximum Likelihood optimization failed to converge. Check mle_retvals\n",
      "  warnings.warn(\"Maximum Likelihood optimization failed to \"\n"
     ]
    },
    {
     "name": "stdout",
     "output_type": "stream",
     "text": [
      "ARIMA (2, 0, 2) x (2, 0, 1, 12) : AIC = 272.0530140822521\n",
      "(2, 0, 2, 12)\n"
     ]
    },
    {
     "name": "stderr",
     "output_type": "stream",
     "text": [
      "/srv/conda/envs/notebook/lib/python3.8/site-packages/statsmodels/base/model.py:566: ConvergenceWarning: Maximum Likelihood optimization failed to converge. Check mle_retvals\n",
      "  warnings.warn(\"Maximum Likelihood optimization failed to \"\n"
     ]
    },
    {
     "name": "stdout",
     "output_type": "stream",
     "text": [
      "ARIMA (2, 0, 2) x (2, 0, 2, 12) : AIC = 247.15549413484894\n",
      "(2, 1, 0, 12)\n"
     ]
    },
    {
     "name": "stderr",
     "output_type": "stream",
     "text": [
      "/srv/conda/envs/notebook/lib/python3.8/site-packages/statsmodels/base/model.py:566: ConvergenceWarning: Maximum Likelihood optimization failed to converge. Check mle_retvals\n",
      "  warnings.warn(\"Maximum Likelihood optimization failed to \"\n"
     ]
    },
    {
     "name": "stdout",
     "output_type": "stream",
     "text": [
      "ARIMA (2, 0, 2) x (2, 1, 0, 12) : AIC = 336.94134922212515\n",
      "(2, 1, 1, 12)\n",
      "ARIMA (2, 0, 2) x (2, 1, 1, 12) : AIC = 254.74512138179549\n",
      "(2, 1, 2, 12)\n"
     ]
    },
    {
     "name": "stderr",
     "output_type": "stream",
     "text": [
      "/srv/conda/envs/notebook/lib/python3.8/site-packages/statsmodels/base/model.py:566: ConvergenceWarning: Maximum Likelihood optimization failed to converge. Check mle_retvals\n",
      "  warnings.warn(\"Maximum Likelihood optimization failed to \"\n"
     ]
    },
    {
     "name": "stdout",
     "output_type": "stream",
     "text": [
      "ARIMA (2, 0, 2) x (2, 1, 2, 12) : AIC = 254.01147032424188\n",
      "(2, 2, 0, 12)\n",
      "ARIMA (2, 0, 2) x (2, 2, 0, 12) : AIC = 591.6291769067719\n",
      "(2, 2, 1, 12)\n",
      "ARIMA (2, 0, 2) x (2, 2, 1, 12) : AIC = 376.41568893253486\n",
      "(2, 2, 2, 12)\n",
      "ARIMA (2, 0, 2) x (2, 2, 2, 12) : AIC = 339.4413577485544\n",
      "(2, 1, 0)\n",
      "(0, 0, 0, 12)\n",
      "ARIMA (2, 1, 0) x (0, 0, 0, 12) : AIC = 1162.3457201668584\n",
      "(0, 0, 1, 12)\n",
      "ARIMA (2, 1, 0) x (0, 0, 1, 12) : AIC = 1017.7867078265491\n",
      "(0, 0, 2, 12)\n",
      "ARIMA (2, 1, 0) x (0, 0, 2, 12) : AIC = 908.0593480113756\n",
      "(0, 1, 0, 12)\n",
      "ARIMA (2, 1, 0) x (0, 1, 0, 12) : AIC = 560.1029519298527\n",
      "(0, 1, 1, 12)\n"
     ]
    },
    {
     "name": "stderr",
     "output_type": "stream",
     "text": [
      "/srv/conda/envs/notebook/lib/python3.8/site-packages/statsmodels/base/model.py:566: ConvergenceWarning: Maximum Likelihood optimization failed to converge. Check mle_retvals\n",
      "  warnings.warn(\"Maximum Likelihood optimization failed to \"\n"
     ]
    },
    {
     "name": "stdout",
     "output_type": "stream",
     "text": [
      "ARIMA (2, 1, 0) x (0, 1, 1, 12) : AIC = 273.19914916357044\n",
      "(0, 1, 2, 12)\n",
      "ARIMA (2, 1, 0) x (0, 1, 2, 12) : AIC = 254.16739999142197\n",
      "(0, 2, 0, 12)\n"
     ]
    },
    {
     "name": "stderr",
     "output_type": "stream",
     "text": [
      "/srv/conda/envs/notebook/lib/python3.8/site-packages/statsmodels/base/model.py:566: ConvergenceWarning: Maximum Likelihood optimization failed to converge. Check mle_retvals\n",
      "  warnings.warn(\"Maximum Likelihood optimization failed to \"\n"
     ]
    },
    {
     "name": "stdout",
     "output_type": "stream",
     "text": [
      "ARIMA (2, 1, 0) x (0, 2, 0, 12) : AIC = 1068.389709827599\n",
      "(0, 2, 1, 12)\n",
      "ARIMA (2, 1, 0) x (0, 2, 1, 12) : AIC = 572.6467195051414\n",
      "(0, 2, 2, 12)\n",
      "ARIMA (2, 1, 0) x (0, 2, 2, 12) : AIC = 325.45881616169726\n",
      "(1, 0, 0, 12)\n",
      "ARIMA (2, 1, 0) x (1, 0, 0, 12) : AIC = 554.5384015039108\n",
      "(1, 0, 1, 12)\n",
      "ARIMA (2, 1, 0) x (1, 0, 1, 12) : AIC = 297.0520960684647\n",
      "(1, 0, 2, 12)\n",
      "ARIMA (2, 1, 0) x (1, 0, 2, 12) : AIC = 254.12801703022424\n",
      "(1, 1, 0, 12)\n",
      "ARIMA (2, 1, 0) x (1, 1, 0, 12) : AIC = 409.2535951563633\n",
      "(1, 1, 1, 12)\n",
      "ARIMA (2, 1, 0) x (1, 1, 1, 12) : AIC = 263.4678454072364\n",
      "(1, 1, 2, 12)\n",
      "ARIMA (2, 1, 0) x (1, 1, 2, 12) : AIC = 256.11076819829424\n",
      "(1, 2, 0, 12)\n",
      "ARIMA (2, 1, 0) x (1, 2, 0, 12) : AIC = 781.0478801995303\n",
      "(1, 2, 1, 12)\n",
      "ARIMA (2, 1, 0) x (1, 2, 1, 12) : AIC = 457.0813859437311\n",
      "(1, 2, 2, 12)\n",
      "ARIMA (2, 1, 0) x (1, 2, 2, 12) : AIC = 320.95601845818294\n",
      "(2, 0, 0, 12)\n",
      "ARIMA (2, 1, 0) x (2, 0, 0, 12) : AIC = 409.4455724529478\n",
      "(2, 0, 1, 12)\n",
      "ARIMA (2, 1, 0) x (2, 0, 1, 12) : AIC = 256.5558528967411\n",
      "(2, 0, 2, 12)\n"
     ]
    },
    {
     "name": "stderr",
     "output_type": "stream",
     "text": [
      "/srv/conda/envs/notebook/lib/python3.8/site-packages/statsmodels/base/model.py:566: ConvergenceWarning: Maximum Likelihood optimization failed to converge. Check mle_retvals\n",
      "  warnings.warn(\"Maximum Likelihood optimization failed to \"\n"
     ]
    },
    {
     "name": "stdout",
     "output_type": "stream",
     "text": [
      "ARIMA (2, 1, 0) x (2, 0, 2, 12) : AIC = 256.450275307833\n",
      "(2, 1, 0, 12)\n",
      "ARIMA (2, 1, 0) x (2, 1, 0, 12) : AIC = 339.4609325007554\n",
      "(2, 1, 1, 12)\n",
      "ARIMA (2, 1, 0) x (2, 1, 1, 12) : AIC = 259.7813849152915\n",
      "(2, 1, 2, 12)\n",
      "ARIMA (2, 1, 0) x (2, 1, 2, 12) : AIC = 258.76422536471824\n",
      "(2, 2, 0, 12)\n",
      "ARIMA (2, 1, 0) x (2, 2, 0, 12) : AIC = 622.6668492548147\n",
      "(2, 2, 1, 12)\n",
      "ARIMA (2, 1, 0) x (2, 2, 1, 12) : AIC = 385.3869245050771\n",
      "(2, 2, 2, 12)\n",
      "ARIMA (2, 1, 0) x (2, 2, 2, 12) : AIC = 337.89881839476146\n",
      "(2, 1, 1)\n",
      "(0, 0, 0, 12)\n",
      "ARIMA (2, 1, 1) x (0, 0, 0, 12) : AIC = 1040.3501980555675\n",
      "(0, 0, 1, 12)\n",
      "ARIMA (2, 1, 1) x (0, 0, 1, 12) : AIC = 889.2715021784182\n",
      "(0, 0, 2, 12)\n",
      "ARIMA (2, 1, 1) x (0, 0, 2, 12) : AIC = 809.6590430294863\n",
      "(0, 1, 0, 12)\n",
      "ARIMA (2, 1, 1) x (0, 1, 0, 12) : AIC = 535.8927346381321\n",
      "(0, 1, 1, 12)\n",
      "ARIMA (2, 1, 1) x (0, 1, 1, 12) : AIC = 265.3023510488718\n",
      "(0, 1, 2, 12)\n",
      "ARIMA (2, 1, 1) x (0, 1, 2, 12) : AIC = 249.40495907339027\n",
      "(0, 2, 0, 12)\n",
      "ARIMA (2, 1, 1) x (0, 2, 0, 12) : AIC = 1029.816255959289\n",
      "(0, 2, 1, 12)\n",
      "ARIMA (2, 1, 1) x (0, 2, 1, 12) : AIC = 548.4775063561891\n",
      "(0, 2, 2, 12)\n",
      "ARIMA (2, 1, 1) x (0, 2, 2, 12) : AIC = 313.7521168048404\n",
      "(1, 0, 0, 12)\n",
      "ARIMA (2, 1, 1) x (1, 0, 0, 12) : AIC = 536.897016763472\n",
      "(1, 0, 1, 12)\n",
      "ARIMA (2, 1, 1) x (1, 0, 1, 12) : AIC = 288.3950356980046\n",
      "(1, 0, 2, 12)\n",
      "ARIMA (2, 1, 1) x (1, 0, 2, 12) : AIC = 251.59054861908217\n",
      "(1, 1, 0, 12)\n",
      "ARIMA (2, 1, 1) x (1, 1, 0, 12) : AIC = 402.5299122579743\n",
      "(1, 1, 1, 12)\n",
      "ARIMA (2, 1, 1) x (1, 1, 1, 12) : AIC = 254.24883899266473\n",
      "(1, 1, 2, 12)\n",
      "ARIMA (2, 1, 1) x (1, 1, 2, 12) : AIC = 248.4232875640857\n",
      "(1, 2, 0, 12)\n",
      "ARIMA (2, 1, 1) x (1, 2, 0, 12) : AIC = 757.1698154188191\n",
      "(1, 2, 1, 12)\n",
      "ARIMA (2, 1, 1) x (1, 2, 1, 12) : AIC = 450.6395648412433\n",
      "(1, 2, 2, 12)\n",
      "ARIMA (2, 1, 1) x (1, 2, 2, 12) : AIC = 305.16055469453613\n",
      "(2, 0, 0, 12)\n",
      "ARIMA (2, 1, 1) x (2, 0, 0, 12) : AIC = 401.0359594590735\n",
      "(2, 0, 1, 12)\n"
     ]
    },
    {
     "name": "stderr",
     "output_type": "stream",
     "text": [
      "/srv/conda/envs/notebook/lib/python3.8/site-packages/statsmodels/base/model.py:566: ConvergenceWarning: Maximum Likelihood optimization failed to converge. Check mle_retvals\n",
      "  warnings.warn(\"Maximum Likelihood optimization failed to \"\n"
     ]
    },
    {
     "name": "stdout",
     "output_type": "stream",
     "text": [
      "ARIMA (2, 1, 1) x (2, 0, 1, 12) : AIC = 252.6381380215175\n",
      "(2, 0, 2, 12)\n"
     ]
    },
    {
     "name": "stderr",
     "output_type": "stream",
     "text": [
      "/srv/conda/envs/notebook/lib/python3.8/site-packages/statsmodels/base/model.py:566: ConvergenceWarning: Maximum Likelihood optimization failed to converge. Check mle_retvals\n",
      "  warnings.warn(\"Maximum Likelihood optimization failed to \"\n"
     ]
    },
    {
     "name": "stdout",
     "output_type": "stream",
     "text": [
      "ARIMA (2, 1, 1) x (2, 0, 2, 12) : AIC = 251.48342870578568\n",
      "(2, 1, 0, 12)\n",
      "ARIMA (2, 1, 1) x (2, 1, 0, 12) : AIC = 338.44270223865965\n",
      "(2, 1, 1, 12)\n",
      "ARIMA (2, 1, 1) x (2, 1, 1, 12) : AIC = 254.15519497143703\n",
      "(2, 1, 2, 12)\n",
      "ARIMA (2, 1, 1) x (2, 1, 2, 12) : AIC = 252.96018118502926\n",
      "(2, 2, 0, 12)\n",
      "ARIMA (2, 1, 1) x (2, 2, 0, 12) : AIC = 610.2538028271576\n",
      "(2, 2, 1, 12)\n",
      "ARIMA (2, 1, 1) x (2, 2, 1, 12) : AIC = 379.66184388682177\n",
      "(2, 2, 2, 12)\n"
     ]
    },
    {
     "name": "stderr",
     "output_type": "stream",
     "text": [
      "/srv/conda/envs/notebook/lib/python3.8/site-packages/statsmodels/base/model.py:566: ConvergenceWarning: Maximum Likelihood optimization failed to converge. Check mle_retvals\n",
      "  warnings.warn(\"Maximum Likelihood optimization failed to \"\n"
     ]
    },
    {
     "name": "stdout",
     "output_type": "stream",
     "text": [
      "ARIMA (2, 1, 1) x (2, 2, 2, 12) : AIC = 334.52176861951466\n",
      "(2, 1, 2)\n",
      "(0, 0, 0, 12)\n",
      "ARIMA (2, 1, 2) x (0, 0, 0, 12) : AIC = 1040.6982109471833\n",
      "(0, 0, 1, 12)\n"
     ]
    },
    {
     "name": "stderr",
     "output_type": "stream",
     "text": [
      "/srv/conda/envs/notebook/lib/python3.8/site-packages/statsmodels/base/model.py:566: ConvergenceWarning: Maximum Likelihood optimization failed to converge. Check mle_retvals\n",
      "  warnings.warn(\"Maximum Likelihood optimization failed to \"\n"
     ]
    },
    {
     "name": "stdout",
     "output_type": "stream",
     "text": [
      "ARIMA (2, 1, 2) x (0, 0, 1, 12) : AIC = 744.3260100918294\n",
      "(0, 0, 2, 12)\n",
      "ARIMA (2, 1, 2) x (0, 0, 2, 12) : AIC = 639.3623742876579\n",
      "(0, 1, 0, 12)\n",
      "ARIMA (2, 1, 2) x (0, 1, 0, 12) : AIC = 543.6544456557485\n",
      "(0, 1, 1, 12)\n",
      "ARIMA (2, 1, 2) x (0, 1, 1, 12) : AIC = 265.4973791559198\n",
      "(0, 1, 2, 12)\n",
      "ARIMA (2, 1, 2) x (0, 1, 2, 12) : AIC = 250.3903328786934\n",
      "(0, 2, 0, 12)\n",
      "ARIMA (2, 1, 2) x (0, 2, 0, 12) : AIC = 1027.6865630452933\n",
      "(0, 2, 1, 12)\n",
      "ARIMA (2, 1, 2) x (0, 2, 1, 12) : AIC = 561.1219602433282\n",
      "(0, 2, 2, 12)\n",
      "ARIMA (2, 1, 2) x (0, 2, 2, 12) : AIC = 316.0756250771034\n",
      "(1, 0, 0, 12)\n",
      "ARIMA (2, 1, 2) x (1, 0, 0, 12) : AIC = 538.8540444897667\n",
      "(1, 0, 1, 12)\n"
     ]
    },
    {
     "name": "stderr",
     "output_type": "stream",
     "text": [
      "/srv/conda/envs/notebook/lib/python3.8/site-packages/statsmodels/base/model.py:566: ConvergenceWarning: Maximum Likelihood optimization failed to converge. Check mle_retvals\n",
      "  warnings.warn(\"Maximum Likelihood optimization failed to \"\n"
     ]
    },
    {
     "name": "stdout",
     "output_type": "stream",
     "text": [
      "ARIMA (2, 1, 2) x (1, 0, 1, 12) : AIC = 289.77678281624014\n",
      "(1, 0, 2, 12)\n"
     ]
    },
    {
     "name": "stderr",
     "output_type": "stream",
     "text": [
      "/srv/conda/envs/notebook/lib/python3.8/site-packages/statsmodels/base/model.py:566: ConvergenceWarning: Maximum Likelihood optimization failed to converge. Check mle_retvals\n",
      "  warnings.warn(\"Maximum Likelihood optimization failed to \"\n"
     ]
    },
    {
     "name": "stdout",
     "output_type": "stream",
     "text": [
      "ARIMA (2, 1, 2) x (1, 0, 2, 12) : AIC = 253.4802079375865\n",
      "(1, 1, 0, 12)\n",
      "ARIMA (2, 1, 2) x (1, 1, 0, 12) : AIC = 404.01347680481666\n",
      "(1, 1, 1, 12)\n",
      "ARIMA (2, 1, 2) x (1, 1, 1, 12) : AIC = 256.96049668958415\n",
      "(1, 1, 2, 12)\n",
      "ARIMA (2, 1, 2) x (1, 1, 2, 12) : AIC = 250.4213090051959\n",
      "(1, 2, 0, 12)\n",
      "ARIMA (2, 1, 2) x (1, 2, 0, 12) : AIC = 775.766865005123\n",
      "(1, 2, 1, 12)\n",
      "ARIMA (2, 1, 2) x (1, 2, 1, 12) : AIC = 449.5326755796989\n",
      "(1, 2, 2, 12)\n"
     ]
    },
    {
     "name": "stderr",
     "output_type": "stream",
     "text": [
      "/srv/conda/envs/notebook/lib/python3.8/site-packages/statsmodels/base/model.py:566: ConvergenceWarning: Maximum Likelihood optimization failed to converge. Check mle_retvals\n",
      "  warnings.warn(\"Maximum Likelihood optimization failed to \"\n"
     ]
    },
    {
     "name": "stdout",
     "output_type": "stream",
     "text": [
      "ARIMA (2, 1, 2) x (1, 2, 2, 12) : AIC = 307.3033745321355\n",
      "(2, 0, 0, 12)\n",
      "ARIMA (2, 1, 2) x (2, 0, 0, 12) : AIC = 397.49082545424255\n",
      "(2, 0, 1, 12)\n",
      "ARIMA (2, 1, 2) x (2, 0, 1, 12) : AIC = 254.10333916251776\n",
      "(2, 0, 2, 12)\n"
     ]
    },
    {
     "name": "stderr",
     "output_type": "stream",
     "text": [
      "/srv/conda/envs/notebook/lib/python3.8/site-packages/statsmodels/base/model.py:566: ConvergenceWarning: Maximum Likelihood optimization failed to converge. Check mle_retvals\n",
      "  warnings.warn(\"Maximum Likelihood optimization failed to \"\n"
     ]
    },
    {
     "name": "stdout",
     "output_type": "stream",
     "text": [
      "ARIMA (2, 1, 2) x (2, 0, 2, 12) : AIC = 253.56265922489786\n",
      "(2, 1, 0, 12)\n",
      "ARIMA (2, 1, 2) x (2, 1, 0, 12) : AIC = 335.6174541778761\n",
      "(2, 1, 1, 12)\n",
      "ARIMA (2, 1, 2) x (2, 1, 1, 12) : AIC = 256.11357976579745\n",
      "(2, 1, 2, 12)\n",
      "ARIMA (2, 1, 2) x (2, 1, 2, 12) : AIC = 254.77331294394438\n",
      "(2, 2, 0, 12)\n",
      "ARIMA (2, 1, 2) x (2, 2, 0, 12) : AIC = 618.7694409954743\n",
      "(2, 2, 1, 12)\n",
      "ARIMA (2, 1, 2) x (2, 2, 1, 12) : AIC = 381.5808035065313\n",
      "(2, 2, 2, 12)\n"
     ]
    },
    {
     "name": "stderr",
     "output_type": "stream",
     "text": [
      "/srv/conda/envs/notebook/lib/python3.8/site-packages/statsmodels/base/model.py:566: ConvergenceWarning: Maximum Likelihood optimization failed to converge. Check mle_retvals\n",
      "  warnings.warn(\"Maximum Likelihood optimization failed to \"\n"
     ]
    },
    {
     "name": "stdout",
     "output_type": "stream",
     "text": [
      "ARIMA (2, 1, 2) x (2, 2, 2, 12) : AIC = 316.13895751551104\n",
      "(2, 2, 0)\n",
      "(0, 0, 0, 12)\n",
      "ARIMA (2, 2, 0) x (0, 0, 0, 12) : AIC = 1339.5496846933763\n",
      "(0, 0, 1, 12)\n",
      "ARIMA (2, 2, 0) x (0, 0, 1, 12) : AIC = 1157.3509040603158\n",
      "(0, 0, 2, 12)\n",
      "ARIMA (2, 2, 0) x (0, 0, 2, 12) : AIC = 1032.638070601951\n",
      "(0, 1, 0, 12)\n",
      "ARIMA (2, 2, 0) x (0, 1, 0, 12) : AIC = 778.9470923027703\n",
      "(0, 1, 1, 12)\n",
      "ARIMA (2, 2, 0) x (0, 1, 1, 12) : AIC = 481.36485216951036\n",
      "(0, 1, 2, 12)\n",
      "ARIMA (2, 2, 0) x (0, 1, 2, 12) : AIC = 455.0504290494438\n",
      "(0, 2, 0, 12)\n",
      "ARIMA (2, 2, 0) x (0, 2, 0, 12) : AIC = 1277.0014905753314\n",
      "(0, 2, 1, 12)\n",
      "ARIMA (2, 2, 0) x (0, 2, 1, 12) : AIC = 780.8566684573505\n",
      "(0, 2, 2, 12)\n"
     ]
    },
    {
     "name": "stderr",
     "output_type": "stream",
     "text": [
      "/srv/conda/envs/notebook/lib/python3.8/site-packages/statsmodels/base/model.py:566: ConvergenceWarning: Maximum Likelihood optimization failed to converge. Check mle_retvals\n",
      "  warnings.warn(\"Maximum Likelihood optimization failed to \"\n"
     ]
    },
    {
     "name": "stdout",
     "output_type": "stream",
     "text": [
      "ARIMA (2, 2, 0) x (0, 2, 2, 12) : AIC = 526.8798333835701\n",
      "(1, 0, 0, 12)\n",
      "ARIMA (2, 2, 0) x (1, 0, 0, 12) : AIC = 766.4409384046064\n",
      "(1, 0, 1, 12)\n",
      "ARIMA (2, 2, 0) x (1, 0, 1, 12) : AIC = 512.5553720643453\n",
      "(1, 0, 2, 12)\n",
      "ARIMA (2, 2, 0) x (1, 0, 2, 12) : AIC = 458.7881722932946\n",
      "(1, 1, 0, 12)\n",
      "ARIMA (2, 2, 0) x (1, 1, 0, 12) : AIC = 621.6267240412099\n",
      "(1, 1, 1, 12)\n",
      "ARIMA (2, 2, 0) x (1, 1, 1, 12) : AIC = 467.32600326591745\n",
      "(1, 1, 2, 12)\n",
      "ARIMA (2, 2, 0) x (1, 1, 2, 12) : AIC = 454.8023216816643\n",
      "(1, 2, 0, 12)\n",
      "ARIMA (2, 2, 0) x (1, 2, 0, 12) : AIC = 981.3499889417658\n",
      "(1, 2, 1, 12)\n",
      "ARIMA (2, 2, 0) x (1, 2, 1, 12) : AIC = 662.7325993406391\n",
      "(1, 2, 2, 12)\n",
      "ARIMA (2, 2, 0) x (1, 2, 2, 12) : AIC = 518.3784448719874\n",
      "(2, 0, 0, 12)\n",
      "ARIMA (2, 2, 0) x (2, 0, 0, 12) : AIC = 619.5555778463479\n",
      "(2, 0, 1, 12)\n",
      "ARIMA (2, 2, 0) x (2, 0, 1, 12) : AIC = 459.11197860921095\n",
      "(2, 0, 2, 12)\n",
      "ARIMA (2, 2, 0) x (2, 0, 2, 12) : AIC = 458.67797576677447\n",
      "(2, 1, 0, 12)\n",
      "ARIMA (2, 2, 0) x (2, 1, 0, 12) : AIC = 554.4155394471773\n",
      "(2, 1, 1, 12)\n",
      "ARIMA (2, 2, 0) x (2, 1, 1, 12) : AIC = 457.8733610413702\n",
      "(2, 1, 2, 12)\n",
      "ARIMA (2, 2, 0) x (2, 1, 2, 12) : AIC = 457.9213534279875\n",
      "(2, 2, 0, 12)\n",
      "ARIMA (2, 2, 0) x (2, 2, 0, 12) : AIC = 831.5853738729644\n",
      "(2, 2, 1, 12)\n",
      "ARIMA (2, 2, 0) x (2, 2, 1, 12) : AIC = 596.9216616040303\n",
      "(2, 2, 2, 12)\n",
      "ARIMA (2, 2, 0) x (2, 2, 2, 12) : AIC = 534.661724304985\n",
      "(2, 2, 1)\n",
      "(0, 0, 0, 12)\n",
      "ARIMA (2, 2, 1) x (0, 0, 0, 12) : AIC = 1167.2868496242186\n",
      "(0, 0, 1, 12)\n",
      "ARIMA (2, 2, 1) x (0, 0, 1, 12) : AIC = 1019.9319517550803\n",
      "(0, 0, 2, 12)\n",
      "ARIMA (2, 2, 1) x (0, 0, 2, 12) : AIC = 909.479445142856\n",
      "(0, 1, 0, 12)\n",
      "ARIMA (2, 2, 1) x (0, 1, 0, 12) : AIC = 566.8969845867686\n",
      "(0, 1, 1, 12)\n"
     ]
    },
    {
     "name": "stderr",
     "output_type": "stream",
     "text": [
      "/srv/conda/envs/notebook/lib/python3.8/site-packages/statsmodels/base/model.py:566: ConvergenceWarning: Maximum Likelihood optimization failed to converge. Check mle_retvals\n",
      "  warnings.warn(\"Maximum Likelihood optimization failed to \"\n"
     ]
    },
    {
     "name": "stdout",
     "output_type": "stream",
     "text": [
      "ARIMA (2, 2, 1) x (0, 1, 1, 12) : AIC = 280.2008734784201\n",
      "(0, 1, 2, 12)\n",
      "ARIMA (2, 2, 1) x (0, 1, 2, 12) : AIC = 261.34989385473335\n",
      "(0, 2, 0, 12)\n",
      "ARIMA (2, 2, 1) x (0, 2, 0, 12) : AIC = 1072.6940062248639\n",
      "(0, 2, 1, 12)\n",
      "ARIMA (2, 2, 1) x (0, 2, 1, 12) : AIC = 582.2606354991017\n",
      "(0, 2, 2, 12)\n",
      "ARIMA (2, 2, 1) x (0, 2, 2, 12) : AIC = 334.4383312057264\n",
      "(1, 0, 0, 12)\n",
      "ARIMA (2, 2, 1) x (1, 0, 0, 12) : AIC = 562.5918789326123\n",
      "(1, 0, 1, 12)\n"
     ]
    },
    {
     "name": "stderr",
     "output_type": "stream",
     "text": [
      "/srv/conda/envs/notebook/lib/python3.8/site-packages/statsmodels/base/model.py:566: ConvergenceWarning: Maximum Likelihood optimization failed to converge. Check mle_retvals\n",
      "  warnings.warn(\"Maximum Likelihood optimization failed to \"\n"
     ]
    },
    {
     "name": "stdout",
     "output_type": "stream",
     "text": [
      "ARIMA (2, 2, 1) x (1, 0, 1, 12) : AIC = 308.89860075150693\n",
      "(1, 0, 2, 12)\n"
     ]
    },
    {
     "name": "stderr",
     "output_type": "stream",
     "text": [
      "/srv/conda/envs/notebook/lib/python3.8/site-packages/statsmodels/base/model.py:566: ConvergenceWarning: Maximum Likelihood optimization failed to converge. Check mle_retvals\n",
      "  warnings.warn(\"Maximum Likelihood optimization failed to \"\n"
     ]
    },
    {
     "name": "stdout",
     "output_type": "stream",
     "text": [
      "ARIMA (2, 2, 1) x (1, 0, 2, 12) : AIC = 273.6320822790574\n",
      "(1, 1, 0, 12)\n",
      "ARIMA (2, 2, 1) x (1, 1, 0, 12) : AIC = 421.166731013944\n",
      "(1, 1, 1, 12)\n"
     ]
    },
    {
     "name": "stderr",
     "output_type": "stream",
     "text": [
      "/srv/conda/envs/notebook/lib/python3.8/site-packages/statsmodels/base/model.py:566: ConvergenceWarning: Maximum Likelihood optimization failed to converge. Check mle_retvals\n",
      "  warnings.warn(\"Maximum Likelihood optimization failed to \"\n"
     ]
    },
    {
     "name": "stdout",
     "output_type": "stream",
     "text": [
      "ARIMA (2, 2, 1) x (1, 1, 1, 12) : AIC = 274.4357617525102\n",
      "(1, 1, 2, 12)\n",
      "ARIMA (2, 2, 1) x (1, 1, 2, 12) : AIC = 267.15518239357425\n",
      "(1, 2, 0, 12)\n",
      "ARIMA (2, 2, 1) x (1, 2, 0, 12) : AIC = 790.0145446268655\n",
      "(1, 2, 1, 12)\n",
      "ARIMA (2, 2, 1) x (1, 2, 1, 12) : AIC = 472.21686918986285\n",
      "(1, 2, 2, 12)\n",
      "ARIMA (2, 2, 1) x (1, 2, 2, 12) : AIC = 331.2849578924181\n",
      "(2, 0, 0, 12)\n",
      "ARIMA (2, 2, 1) x (2, 0, 0, 12) : AIC = 417.82489529398754\n",
      "(2, 0, 1, 12)\n"
     ]
    },
    {
     "name": "stderr",
     "output_type": "stream",
     "text": [
      "/srv/conda/envs/notebook/lib/python3.8/site-packages/statsmodels/base/model.py:566: ConvergenceWarning: Maximum Likelihood optimization failed to converge. Check mle_retvals\n",
      "  warnings.warn(\"Maximum Likelihood optimization failed to \"\n"
     ]
    },
    {
     "name": "stdout",
     "output_type": "stream",
     "text": [
      "ARIMA (2, 2, 1) x (2, 0, 1, 12) : AIC = 389.4210359616163\n",
      "(2, 0, 2, 12)\n"
     ]
    },
    {
     "name": "stderr",
     "output_type": "stream",
     "text": [
      "/srv/conda/envs/notebook/lib/python3.8/site-packages/statsmodels/base/model.py:566: ConvergenceWarning: Maximum Likelihood optimization failed to converge. Check mle_retvals\n",
      "  warnings.warn(\"Maximum Likelihood optimization failed to \"\n"
     ]
    },
    {
     "name": "stdout",
     "output_type": "stream",
     "text": [
      "ARIMA (2, 2, 1) x (2, 0, 2, 12) : AIC = 268.3524387747102\n",
      "(2, 1, 0, 12)\n",
      "ARIMA (2, 2, 1) x (2, 1, 0, 12) : AIC = 347.4203014509456\n",
      "(2, 1, 1, 12)\n",
      "ARIMA (2, 2, 1) x (2, 1, 1, 12) : AIC = 270.0893630617296\n",
      "(2, 1, 2, 12)\n",
      "ARIMA (2, 2, 1) x (2, 1, 2, 12) : AIC = 268.095235411131\n",
      "(2, 2, 0, 12)\n",
      "ARIMA (2, 2, 1) x (2, 2, 0, 12) : AIC = 634.2263207627365\n",
      "(2, 2, 1, 12)\n",
      "ARIMA (2, 2, 1) x (2, 2, 1, 12) : AIC = 399.8210716950223\n",
      "(2, 2, 2, 12)\n",
      "ARIMA (2, 2, 1) x (2, 2, 2, 12) : AIC = 353.28561209443023\n",
      "(2, 2, 2)\n",
      "(0, 0, 0, 12)\n",
      "ARIMA (2, 2, 2) x (0, 0, 0, 12) : AIC = 1187.0701261189859\n",
      "(0, 0, 1, 12)\n",
      "ARIMA (2, 2, 2) x (0, 0, 1, 12) : AIC = 1029.9845030329102\n",
      "(0, 0, 2, 12)\n",
      "ARIMA (2, 2, 2) x (0, 0, 2, 12) : AIC = 959.6611651351502\n",
      "(0, 1, 0, 12)\n",
      "ARIMA (2, 2, 2) x (0, 1, 0, 12) : AIC = 535.5639967311085\n",
      "(0, 1, 1, 12)\n",
      "ARIMA (2, 2, 2) x (0, 1, 1, 12) : AIC = 281.5275254374066\n",
      "(0, 1, 2, 12)\n",
      "ARIMA (2, 2, 2) x (0, 1, 2, 12) : AIC = 264.65911832514496\n",
      "(0, 2, 0, 12)\n",
      "ARIMA (2, 2, 2) x (0, 2, 0, 12) : AIC = 1038.986999119982\n",
      "(0, 2, 1, 12)\n",
      "ARIMA (2, 2, 2) x (0, 2, 1, 12) : AIC = 565.2674868289041\n",
      "(0, 2, 2, 12)\n",
      "ARIMA (2, 2, 2) x (0, 2, 2, 12) : AIC = 336.18145600254417\n",
      "(1, 0, 0, 12)\n",
      "ARIMA (2, 2, 2) x (1, 0, 0, 12) : AIC = 556.0910254734067\n",
      "(1, 0, 1, 12)\n"
     ]
    },
    {
     "name": "stderr",
     "output_type": "stream",
     "text": [
      "/srv/conda/envs/notebook/lib/python3.8/site-packages/statsmodels/base/model.py:566: ConvergenceWarning: Maximum Likelihood optimization failed to converge. Check mle_retvals\n",
      "  warnings.warn(\"Maximum Likelihood optimization failed to \"\n"
     ]
    },
    {
     "name": "stdout",
     "output_type": "stream",
     "text": [
      "ARIMA (2, 2, 2) x (1, 0, 1, 12) : AIC = 285.0106986164062\n",
      "(1, 0, 2, 12)\n"
     ]
    },
    {
     "name": "stderr",
     "output_type": "stream",
     "text": [
      "/srv/conda/envs/notebook/lib/python3.8/site-packages/statsmodels/base/model.py:566: ConvergenceWarning: Maximum Likelihood optimization failed to converge. Check mle_retvals\n",
      "  warnings.warn(\"Maximum Likelihood optimization failed to \"\n"
     ]
    },
    {
     "name": "stdout",
     "output_type": "stream",
     "text": [
      "ARIMA (2, 2, 2) x (1, 0, 2, 12) : AIC = 261.90963849561774\n",
      "(1, 1, 0, 12)\n",
      "ARIMA (2, 2, 2) x (1, 1, 0, 12) : AIC = 411.58639841160925\n",
      "(1, 1, 1, 12)\n",
      "ARIMA (2, 2, 2) x (1, 1, 1, 12) : AIC = 279.149994888908\n",
      "(1, 1, 2, 12)\n",
      "ARIMA (2, 2, 2) x (1, 1, 2, 12) : AIC = 266.3088827498717\n",
      "(1, 2, 0, 12)\n",
      "ARIMA (2, 2, 2) x (1, 2, 0, 12) : AIC = 771.0261853397956\n",
      "(1, 2, 1, 12)\n",
      "ARIMA (2, 2, 2) x (1, 2, 1, 12) : AIC = 473.21833080012505\n",
      "(1, 2, 2, 12)\n"
     ]
    },
    {
     "name": "stderr",
     "output_type": "stream",
     "text": [
      "/srv/conda/envs/notebook/lib/python3.8/site-packages/statsmodels/base/model.py:566: ConvergenceWarning: Maximum Likelihood optimization failed to converge. Check mle_retvals\n",
      "  warnings.warn(\"Maximum Likelihood optimization failed to \"\n"
     ]
    },
    {
     "name": "stdout",
     "output_type": "stream",
     "text": [
      "ARIMA (2, 2, 2) x (1, 2, 2, 12) : AIC = 337.11450187917035\n",
      "(2, 0, 0, 12)\n",
      "ARIMA (2, 2, 2) x (2, 0, 0, 12) : AIC = 413.61027343835514\n",
      "(2, 0, 1, 12)\n",
      "ARIMA (2, 2, 2) x (2, 0, 1, 12) : AIC = 262.16694536773844\n",
      "(2, 0, 2, 12)\n"
     ]
    },
    {
     "name": "stderr",
     "output_type": "stream",
     "text": [
      "/srv/conda/envs/notebook/lib/python3.8/site-packages/statsmodels/base/model.py:566: ConvergenceWarning: Maximum Likelihood optimization failed to converge. Check mle_retvals\n",
      "  warnings.warn(\"Maximum Likelihood optimization failed to \"\n"
     ]
    },
    {
     "name": "stdout",
     "output_type": "stream",
     "text": [
      "ARIMA (2, 2, 2) x (2, 0, 2, 12) : AIC = 262.97665597326966\n",
      "(2, 1, 0, 12)\n"
     ]
    },
    {
     "name": "stderr",
     "output_type": "stream",
     "text": [
      "/srv/conda/envs/notebook/lib/python3.8/site-packages/statsmodels/base/model.py:566: ConvergenceWarning: Maximum Likelihood optimization failed to converge. Check mle_retvals\n",
      "  warnings.warn(\"Maximum Likelihood optimization failed to \"\n"
     ]
    },
    {
     "name": "stdout",
     "output_type": "stream",
     "text": [
      "ARIMA (2, 2, 2) x (2, 1, 0, 12) : AIC = 341.9592258443004\n",
      "(2, 1, 1, 12)\n",
      "ARIMA (2, 2, 2) x (2, 1, 1, 12) : AIC = 275.62083718825465\n",
      "(2, 1, 2, 12)\n",
      "ARIMA (2, 2, 2) x (2, 1, 2, 12) : AIC = 273.7056817059818\n",
      "(2, 2, 0, 12)\n",
      "ARIMA (2, 2, 2) x (2, 2, 0, 12) : AIC = 640.5148710487911\n",
      "(2, 2, 1, 12)\n",
      "ARIMA (2, 2, 2) x (2, 2, 1, 12) : AIC = 408.29485795508157\n",
      "(2, 2, 2, 12)\n"
     ]
    },
    {
     "name": "stderr",
     "output_type": "stream",
     "text": [
      "/srv/conda/envs/notebook/lib/python3.8/site-packages/statsmodels/base/model.py:566: ConvergenceWarning: Maximum Likelihood optimization failed to converge. Check mle_retvals\n",
      "  warnings.warn(\"Maximum Likelihood optimization failed to \"\n"
     ]
    },
    {
     "name": "stdout",
     "output_type": "stream",
     "text": [
      "ARIMA (2, 2, 2) x (2, 2, 2, 12) : AIC = 357.0147085870461\n"
     ]
    }
   ],
   "source": [
    "# Run a grid with pdq and seasonal pdq parameters calculated above and get the best AIC value\n",
    "results = []\n",
    "for pdq_comb in list(pdq):\n",
    "    print(pdq_comb)\n",
    "    for pdqs_comb in pdqs:\n",
    "        print(pdqs_comb)\n",
    "        model = sm.tsa.statespace.SARIMAX(df,\n",
    "                                          order=pdq_comb,\n",
    "                                          seasonal_order=pdqs_comb,\n",
    "                                          enforce_stationarity=False,\n",
    "                                          enforce_invertibility=False\n",
    "                                         )\n",
    "        r = model.fit()\n",
    "        results.append([pdq_comb, pdqs_comb, r.aic])\n",
    "        print(f'ARIMA {pdq_comb} x {pdqs_comb} : AIC = {r.aic}')\n",
    "        "
   ]
  },
  {
   "cell_type": "code",
   "execution_count": 108,
   "metadata": {},
   "outputs": [
    {
     "data": {
      "text/plain": [
       "[(2, 0, 2), (2, 0, 2, 12), 247.15549413484894]"
      ]
     },
     "execution_count": 108,
     "metadata": {},
     "output_type": "execute_result"
    }
   ],
   "source": [
    "# Find the parameters with minimal AIC value\n",
    "sorted(results, key=lambda x: x[2])[0]"
   ]
  },
  {
   "cell_type": "markdown",
   "metadata": {},
   "source": [
    "The output of our code suggests that `ARIMA(1, 1, 1)x(1, 1, 1, 12)` yields the lowest AIC value of `277.78`. We should therefore consider this to be optimal option out of all the models we have considered."
   ]
  },
  {
   "cell_type": "markdown",
   "metadata": {},
   "source": [
    "## Fitting an ARIMA Time Series Model\n",
    "\n",
    "Using grid search, we have identified the set of parameters that produces the best fitting model to our time series data. We can proceed to analyze this particular model in more depth.\n",
    "\n",
    "We'll start by plugging the optimal parameter values into a new SARIMAX model."
   ]
  },
  {
   "cell_type": "code",
   "execution_count": 43,
   "metadata": {},
   "outputs": [
    {
     "data": {
      "text/html": [
       "<table class=\"simpletable\">\n",
       "<caption>SARIMAX Results</caption>\n",
       "<tr>\n",
       "  <th>Dep. Variable:</th>                 <td>co2</td>              <th>  No. Observations:  </th>    <td>526</td>  \n",
       "</tr>\n",
       "<tr>\n",
       "  <th>Model:</th>           <td>SARIMAX(1, 1, 1)x(1, 1, 1, 12)</td> <th>  Log Likelihood     </th> <td>-121.143</td>\n",
       "</tr>\n",
       "<tr>\n",
       "  <th>Date:</th>                   <td>Fri, 26 Feb 2021</td>        <th>  AIC                </th>  <td>252.285</td>\n",
       "</tr>\n",
       "<tr>\n",
       "  <th>Time:</th>                       <td>02:19:12</td>            <th>  BIC                </th>  <td>273.348</td>\n",
       "</tr>\n",
       "<tr>\n",
       "  <th>Sample:</th>                    <td>03-01-1958</td>           <th>  HQIC               </th>  <td>260.551</td>\n",
       "</tr>\n",
       "<tr>\n",
       "  <th></th>                          <td>- 12-01-2001</td>          <th>                     </th>     <td> </td>   \n",
       "</tr>\n",
       "<tr>\n",
       "  <th>Covariance Type:</th>               <td>opg</td>              <th>                     </th>     <td> </td>   \n",
       "</tr>\n",
       "</table>\n",
       "<table class=\"simpletable\">\n",
       "<tr>\n",
       "      <td></td>        <th>coef</th>     <th>std err</th>      <th>z</th>      <th>P>|z|</th>  <th>[0.025</th>    <th>0.975]</th>  \n",
       "</tr>\n",
       "<tr>\n",
       "  <th>ar.L1</th>    <td>    0.3851</td> <td>    0.094</td> <td>    4.099</td> <td> 0.000</td> <td>    0.201</td> <td>    0.569</td>\n",
       "</tr>\n",
       "<tr>\n",
       "  <th>ma.L1</th>    <td>   -0.6553</td> <td>    0.078</td> <td>   -8.380</td> <td> 0.000</td> <td>   -0.809</td> <td>   -0.502</td>\n",
       "</tr>\n",
       "<tr>\n",
       "  <th>ar.S.L12</th> <td>   -0.0008</td> <td>    0.000</td> <td>   -1.920</td> <td> 0.055</td> <td>   -0.002</td> <td> 1.59e-05</td>\n",
       "</tr>\n",
       "<tr>\n",
       "  <th>ma.S.L12</th> <td>   -0.8780</td> <td>    0.025</td> <td>  -34.716</td> <td> 0.000</td> <td>   -0.928</td> <td>   -0.828</td>\n",
       "</tr>\n",
       "<tr>\n",
       "  <th>sigma2</th>   <td>    0.0924</td> <td>    0.005</td> <td>   17.438</td> <td> 0.000</td> <td>    0.082</td> <td>    0.103</td>\n",
       "</tr>\n",
       "</table>\n",
       "<table class=\"simpletable\">\n",
       "<tr>\n",
       "  <th>Ljung-Box (L1) (Q):</th>     <td>0.06</td> <th>  Jarque-Bera (JB):  </th> <td>18.70</td>\n",
       "</tr>\n",
       "<tr>\n",
       "  <th>Prob(Q):</th>                <td>0.80</td> <th>  Prob(JB):          </th> <td>0.00</td> \n",
       "</tr>\n",
       "<tr>\n",
       "  <th>Heteroskedasticity (H):</th> <td>0.71</td> <th>  Skew:              </th> <td>0.12</td> \n",
       "</tr>\n",
       "<tr>\n",
       "  <th>Prob(H) (two-sided):</th>    <td>0.03</td> <th>  Kurtosis:          </th> <td>3.92</td> \n",
       "</tr>\n",
       "</table><br/><br/>Warnings:<br/>[1] Covariance matrix calculated using the outer product of gradients (complex-step)."
      ],
      "text/plain": [
       "<class 'statsmodels.iolib.summary.Summary'>\n",
       "\"\"\"\n",
       "                                     SARIMAX Results                                      \n",
       "==========================================================================================\n",
       "Dep. Variable:                                co2   No. Observations:                  526\n",
       "Model:             SARIMAX(1, 1, 1)x(1, 1, 1, 12)   Log Likelihood                -121.143\n",
       "Date:                            Fri, 26 Feb 2021   AIC                            252.285\n",
       "Time:                                    02:19:12   BIC                            273.348\n",
       "Sample:                                03-01-1958   HQIC                           260.551\n",
       "                                     - 12-01-2001                                         \n",
       "Covariance Type:                              opg                                         \n",
       "==============================================================================\n",
       "                 coef    std err          z      P>|z|      [0.025      0.975]\n",
       "------------------------------------------------------------------------------\n",
       "ar.L1          0.3851      0.094      4.099      0.000       0.201       0.569\n",
       "ma.L1         -0.6553      0.078     -8.380      0.000      -0.809      -0.502\n",
       "ar.S.L12      -0.0008      0.000     -1.920      0.055      -0.002    1.59e-05\n",
       "ma.S.L12      -0.8780      0.025    -34.716      0.000      -0.928      -0.828\n",
       "sigma2         0.0924      0.005     17.438      0.000       0.082       0.103\n",
       "===================================================================================\n",
       "Ljung-Box (L1) (Q):                   0.06   Jarque-Bera (JB):                18.70\n",
       "Prob(Q):                              0.80   Prob(JB):                         0.00\n",
       "Heteroskedasticity (H):               0.71   Skew:                             0.12\n",
       "Prob(H) (two-sided):                  0.03   Kurtosis:                         3.92\n",
       "===================================================================================\n",
       "\n",
       "Warnings:\n",
       "[1] Covariance matrix calculated using the outer product of gradients (complex-step).\n",
       "\"\"\""
      ]
     },
     "execution_count": 43,
     "metadata": {},
     "output_type": "execute_result"
    }
   ],
   "source": [
    "# Plug the optimal parameter values into a new SARIMAX model\n",
    "model = sm.tsa.statespace.SARIMAX(df, order=(1,1,1),\n",
    "                                  seasonal_order=(1,1,1,12),\n",
    "                                  enforce_stationarity=False,\n",
    "                                  enforce_invertibility=False\n",
    "                                  )\n",
    "\n",
    "# Fit the model and print results\n",
    "results = model.fit()\n",
    "\n",
    "results.summary()"
   ]
  },
  {
   "cell_type": "markdown",
   "metadata": {},
   "source": [
    "The model returns a lot of information, but we'll focus only on the table of coefficients. The `coef` column above shows the importance of each feature and how each one impacts the time series patterns.  The $P>|z|$ provides  the significance of each feature weight. \n",
    "\n",
    "For our time-series, we see that each weight has a p-value lower or close to 0.05, so it is reasonable to retain all of them in our model.\n",
    "\n",
    "Next, we shall run model diagnostics to ensure that none of the assumptions made by the model have been violated. \n",
    "\n",
    "Call the `.plot_diagnostics()` method on ARIMA output below:"
   ]
  },
  {
   "cell_type": "code",
   "execution_count": 46,
   "metadata": {},
   "outputs": [
    {
     "data": {
      "image/png": "[encoded data removed]",
      "text/plain": [
       "<Figure size 720x432 with 4 Axes>"
      ]
     },
     "metadata": {},
     "output_type": "display_data"
    }
   ],
   "source": [
    "# Call plot_diagnostics() on the results calculated above \n",
    "results.plot_diagnostics(figsize=(10,6))\n",
    "plt.tight_layout()"
   ]
  },
  {
   "cell_type": "markdown",
   "metadata": {},
   "source": [
    "The purpose here is to ensure that residuals remain uncorrelated, normally distributed having zero mean. In the absence of these assumptions, we can not move forward and need further tweaking of the model. \n",
    "\n",
    "Let's check for these assumptions from diagnostics plots.\n",
    "\n",
    "* In the top right plot, we see that the red KDE line follows closely with the N(0,1) line (where N(0,1)) is the standard notation for a normal distribution with mean 0 and standard deviation of 1). This is a good indication that the residuals are normally distributed.\n",
    "\n",
    "* The qq-plot on the bottom left shows that the ordered distribution of residuals (blue dots) follows the linear trend of the samples taken from a standard normal distribution with N(0, 1). Again, this is a strong indication that the residuals are normally distributed.\n",
    "\n",
    "* The residuals over time (top left plot) don't display any obvious seasonality and appear to be white noise. This is confirmed by the autocorrelation (i.e. correlogram) plot on the bottom right, which shows that the time series residuals have low correlation with lagged versions of itself.\n",
    "\n",
    "These observations lead us to conclude that our model has no correlations and provides a satisfactory fit to help forecast future values."
   ]
  },
  {
   "cell_type": "markdown",
   "metadata": {},
   "source": [
    "## Validating the Model\n",
    "\n",
    "### One-step Ahead Forecasting\n",
    "\n",
    "In order to validate the model, we start by comparing predicted values to real values of the time series, which will help us understand the accuracy of our forecasts. \n",
    "\n",
    "The `.get_prediction()` and `.conf_int()` methods allow us to obtain the values and associated confidence intervals for forecasts of the time series.\n",
    "\n",
    "\n",
    "- [Documentation on `get_prediction()`](http://www.statsmodels.org/stable/generated/statsmodels.tsa.statespace.sarimax.SARIMAXResults.get_prediction.html)\n",
    "\n",
    "- [Documentation on `conf_int()`](http://www.statsmodels.org/stable/generated/statsmodels.tsa.statespace.sarimax.SARIMAXResults.conf_int.html)\n",
    "\n",
    "\n",
    "In the cell below: \n",
    "\n",
    "* Get the predictions from 1st January 1998 till 2002 (end of time series) \n",
    "\n",
    "* Get the confidence intervals for all predictions \n",
    "\n",
    "* For `get_predictions()`, set the `dynamic` parameter to False to ensure that we produce one-step ahead forecasts, meaning that forecasts at each point are generated using the full history up to that point "
   ]
  },
  {
   "cell_type": "code",
   "execution_count": 47,
   "metadata": {},
   "outputs": [
    {
     "data": {
      "text/html": [
       "<div>\n",
       "<style scoped>\n",
       "    .dataframe tbody tr th:only-of-type {\n",
       "        vertical-align: middle;\n",
       "    }\n",
       "\n",
       "    .dataframe tbody tr th {\n",
       "        vertical-align: top;\n",
       "    }\n",
       "\n",
       "    .dataframe thead th {\n",
       "        text-align: right;\n",
       "    }\n",
       "</style>\n",
       "<table border=\"1\" class=\"dataframe\">\n",
       "  <thead>\n",
       "    <tr style=\"text-align: right;\">\n",
       "      <th></th>\n",
       "      <th>co2</th>\n",
       "    </tr>\n",
       "  </thead>\n",
       "  <tbody>\n",
       "    <tr>\n",
       "      <th>2001-08-01</th>\n",
       "      <td>369.425</td>\n",
       "    </tr>\n",
       "    <tr>\n",
       "      <th>2001-09-01</th>\n",
       "      <td>367.880</td>\n",
       "    </tr>\n",
       "    <tr>\n",
       "      <th>2001-10-01</th>\n",
       "      <td>368.050</td>\n",
       "    </tr>\n",
       "    <tr>\n",
       "      <th>2001-11-01</th>\n",
       "      <td>369.375</td>\n",
       "    </tr>\n",
       "    <tr>\n",
       "      <th>2001-12-01</th>\n",
       "      <td>371.020</td>\n",
       "    </tr>\n",
       "  </tbody>\n",
       "</table>\n",
       "</div>"
      ],
      "text/plain": [
       "                co2\n",
       "2001-08-01  369.425\n",
       "2001-09-01  367.880\n",
       "2001-10-01  368.050\n",
       "2001-11-01  369.375\n",
       "2001-12-01  371.020"
      ]
     },
     "execution_count": 47,
     "metadata": {},
     "output_type": "execute_result"
    }
   ],
   "source": [
    "df.tail()"
   ]
  },
  {
   "cell_type": "code",
   "execution_count": 48,
   "metadata": {},
   "outputs": [],
   "source": [
    "# Get predictions starting from 01-01-1998 and calculate confidence intervals\n",
    "pred = results.get_prediction('1998-01-01', '2002', dyamic=False)\n",
    "pred_conf = pred.conf_int()"
   ]
  },
  {
   "cell_type": "markdown",
   "metadata": {},
   "source": [
    "We shall now plot the real and forecasted values of the CO2 time series to assess how well we did: \n",
    "\n",
    "* Plot the observed values from the dataset, starting at 1990 \n",
    "* Use `.predicted_mean.plot()` method to plot predictions \n",
    "* Plot the confidence intervals overlapping the predicted values "
   ]
  },
  {
   "cell_type": "code",
   "execution_count": 88,
   "metadata": {},
   "outputs": [
    {
     "data": {
      "text/plain": [
       "<matplotlib.collections.PolyCollection at 0x7fa8b450f160>"
      ]
     },
     "execution_count": 88,
     "metadata": {},
     "output_type": "execute_result"
    },
    {
     "data": {
      "image/png": "[encoded data removed]",
      "text/plain": [
       "<Figure size 432x288 with 1 Axes>"
      ]
     },
     "metadata": {},
     "output_type": "display_data"
    }
   ],
   "source": [
    "# Plot real vs predicted values along with confidence interval\n",
    "\n",
    "# Plot observed values\n",
    "df['1997':].plot()\n",
    "\n",
    "# Plot predicted values\n",
    "pred.predicted_mean.plot(label='One-step ahead Forcast')\n",
    "\n",
    "# Plot the range for confidence intervals\n",
    "plt.fill_between(pred_conf.index,\n",
    "                 pred_conf['lower co2'],\n",
    "                 pred_conf['upper co2'],\n",
    "                 color='g', alpha=0.5)\n",
    "\n",
    "# Set axes labels\n"
   ]
  },
  {
   "cell_type": "markdown",
   "metadata": {},
   "source": [
    "The forecasts align with the true values  as seen above, with overall increase trend. We shall also check for the accuracy of our forecasts using  **MSE (Mean Squared Error)**. This will provide us with the average error of our forecasts. For each predicted value, we compute its distance to the true value and square the result. The results need to be squared so that positive/negative differences do not cancel each other out when we compute the overall mean."
   ]
  },
  {
   "cell_type": "code",
   "execution_count": 73,
   "metadata": {},
   "outputs": [],
   "source": [
    "# Get the real and predicted values\n",
    "CO2_forecasted = pred.predicted_mean\n",
    "CO2_truth = df['1998-01-01':].iloc[:,0]"
   ]
  },
  {
   "cell_type": "code",
   "execution_count": 75,
   "metadata": {},
   "outputs": [
    {
     "name": "stdout",
     "output_type": "stream",
     "text": [
      "The Mean Squared Error of our forecasts is 0.07\n"
     ]
    }
   ],
   "source": [
    "# Compute the mean square error\n",
    "mse = ((CO2_forecasted - CO2_truth) ** 2).mean()\n",
    "print('The Mean Squared Error of our forecasts is {}'.format(round(mse, 2)))"
   ]
  },
  {
   "cell_type": "markdown",
   "metadata": {},
   "source": [
    "The MSE of our one-step ahead forecasts yields a value of 0.07, which is very low. An MSE this close to 0 indicates that the estimator is predicting observations of the parameter with perfect accuracy, which would be an ideal scenario but it is not typically possible.\n",
    "\n",
    "### Dynamic Forecasting\n",
    "\n",
    "We can achieve a deeper insight into model's predictive power using dynamic forecasts. In this case, we only use information from the time series up to a certain point, and after that, forecasts are generated using values from previous forecasted time points.\n",
    "\n",
    "Repeat above calculation for predictions post 1998. Use Dynamic forecasting by setting `dynamic` to True."
   ]
  },
  {
   "cell_type": "code",
   "execution_count": 102,
   "metadata": {},
   "outputs": [],
   "source": [
    "# Get dynamic predictions with confidence intervals as above \n",
    "pred_dynamic = results.get_prediction('1998-01-01', '2002', dynamic=True)\n",
    "pred_dynamic_conf = pred_dynamic.conf_int()"
   ]
  },
  {
   "cell_type": "markdown",
   "metadata": {},
   "source": [
    "Plotting the observed and forecasted values of the time series, we see that the overall forecasts are accurate even when using dynamic forecasts. All forecasted values (red line) match pretty closely to the ground truth (blue line), and are well within the confidence intervals of our forecast."
   ]
  },
  {
   "cell_type": "code",
   "execution_count": 103,
   "metadata": {},
   "outputs": [
    {
     "data": {
      "text/html": [
       "<div>\n",
       "<style scoped>\n",
       "    .dataframe tbody tr th:only-of-type {\n",
       "        vertical-align: middle;\n",
       "    }\n",
       "\n",
       "    .dataframe tbody tr th {\n",
       "        vertical-align: top;\n",
       "    }\n",
       "\n",
       "    .dataframe thead th {\n",
       "        text-align: right;\n",
       "    }\n",
       "</style>\n",
       "<table border=\"1\" class=\"dataframe\">\n",
       "  <thead>\n",
       "    <tr style=\"text-align: right;\">\n",
       "      <th></th>\n",
       "      <th>lower co2</th>\n",
       "      <th>upper co2</th>\n",
       "    </tr>\n",
       "  </thead>\n",
       "  <tbody>\n",
       "    <tr>\n",
       "      <th>1998-01-01</th>\n",
       "      <td>364.496201</td>\n",
       "      <td>365.687802</td>\n",
       "    </tr>\n",
       "    <tr>\n",
       "      <th>1998-02-01</th>\n",
       "      <td>365.076486</td>\n",
       "      <td>366.551641</td>\n",
       "    </tr>\n",
       "    <tr>\n",
       "      <th>1998-03-01</th>\n",
       "      <td>365.899337</td>\n",
       "      <td>367.552198</td>\n",
       "    </tr>\n",
       "    <tr>\n",
       "      <th>1998-04-01</th>\n",
       "      <td>367.097145</td>\n",
       "      <td>368.891271</td>\n",
       "    </tr>\n",
       "    <tr>\n",
       "      <th>1998-05-01</th>\n",
       "      <td>367.554576</td>\n",
       "      <td>369.473037</td>\n",
       "    </tr>\n",
       "    <tr>\n",
       "      <th>1998-06-01</th>\n",
       "      <td>366.827627</td>\n",
       "      <td>368.860488</td>\n",
       "    </tr>\n",
       "    <tr>\n",
       "      <th>1998-07-01</th>\n",
       "      <td>365.236899</td>\n",
       "      <td>367.377202</td>\n",
       "    </tr>\n",
       "    <tr>\n",
       "      <th>1998-08-01</th>\n",
       "      <td>363.150018</td>\n",
       "      <td>365.392307</td>\n",
       "    </tr>\n",
       "    <tr>\n",
       "      <th>1998-09-01</th>\n",
       "      <td>361.363719</td>\n",
       "      <td>363.703438</td>\n",
       "    </tr>\n",
       "    <tr>\n",
       "      <th>1998-10-01</th>\n",
       "      <td>361.468255</td>\n",
       "      <td>363.901464</td>\n",
       "    </tr>\n",
       "    <tr>\n",
       "      <th>1998-11-01</th>\n",
       "      <td>362.762501</td>\n",
       "      <td>365.285721</td>\n",
       "    </tr>\n",
       "    <tr>\n",
       "      <th>1998-12-01</th>\n",
       "      <td>364.124956</td>\n",
       "      <td>366.735080</td>\n",
       "    </tr>\n",
       "    <tr>\n",
       "      <th>1999-01-01</th>\n",
       "      <td>365.098949</td>\n",
       "      <td>367.832569</td>\n",
       "    </tr>\n",
       "    <tr>\n",
       "      <th>1999-02-01</th>\n",
       "      <td>365.842032</td>\n",
       "      <td>368.682930</td>\n",
       "    </tr>\n",
       "    <tr>\n",
       "      <th>1999-03-01</th>\n",
       "      <td>366.732574</td>\n",
       "      <td>369.672931</td>\n",
       "    </tr>\n",
       "    <tr>\n",
       "      <th>1999-04-01</th>\n",
       "      <td>367.965087</td>\n",
       "      <td>371.000206</td>\n",
       "    </tr>\n",
       "    <tr>\n",
       "      <th>1999-05-01</th>\n",
       "      <td>368.443144</td>\n",
       "      <td>371.569617</td>\n",
       "    </tr>\n",
       "    <tr>\n",
       "      <th>1999-06-01</th>\n",
       "      <td>367.730342</td>\n",
       "      <td>370.945376</td>\n",
       "    </tr>\n",
       "    <tr>\n",
       "      <th>1999-07-01</th>\n",
       "      <td>366.151250</td>\n",
       "      <td>369.452395</td>\n",
       "    </tr>\n",
       "    <tr>\n",
       "      <th>1999-08-01</th>\n",
       "      <td>364.073753</td>\n",
       "      <td>367.458790</td>\n",
       "    </tr>\n",
       "    <tr>\n",
       "      <th>1999-09-01</th>\n",
       "      <td>362.294894</td>\n",
       "      <td>365.761783</td>\n",
       "    </tr>\n",
       "    <tr>\n",
       "      <th>1999-10-01</th>\n",
       "      <td>362.406578</td>\n",
       "      <td>365.953427</td>\n",
       "    </tr>\n",
       "    <tr>\n",
       "      <th>1999-11-01</th>\n",
       "      <td>363.706971</td>\n",
       "      <td>367.332014</td>\n",
       "    </tr>\n",
       "    <tr>\n",
       "      <th>1999-12-01</th>\n",
       "      <td>365.074971</td>\n",
       "      <td>368.776558</td>\n",
       "    </tr>\n",
       "    <tr>\n",
       "      <th>2000-01-01</th>\n",
       "      <td>366.057334</td>\n",
       "      <td>369.865382</td>\n",
       "    </tr>\n",
       "    <tr>\n",
       "      <th>2000-02-01</th>\n",
       "      <td>366.806610</td>\n",
       "      <td>370.709435</td>\n",
       "    </tr>\n",
       "    <tr>\n",
       "      <th>2000-03-01</th>\n",
       "      <td>367.702198</td>\n",
       "      <td>371.694346</td>\n",
       "    </tr>\n",
       "    <tr>\n",
       "      <th>2000-04-01</th>\n",
       "      <td>368.938998</td>\n",
       "      <td>373.017317</td>\n",
       "    </tr>\n",
       "    <tr>\n",
       "      <th>2000-05-01</th>\n",
       "      <td>369.420759</td>\n",
       "      <td>373.583018</td>\n",
       "    </tr>\n",
       "    <tr>\n",
       "      <th>2000-06-01</th>\n",
       "      <td>368.711181</td>\n",
       "      <td>372.955551</td>\n",
       "    </tr>\n",
       "    <tr>\n",
       "      <th>2000-07-01</th>\n",
       "      <td>367.134900</td>\n",
       "      <td>371.459758</td>\n",
       "    </tr>\n",
       "    <tr>\n",
       "      <th>2000-08-01</th>\n",
       "      <td>365.059851</td>\n",
       "      <td>369.463703</td>\n",
       "    </tr>\n",
       "    <tr>\n",
       "      <th>2000-09-01</th>\n",
       "      <td>363.283123</td>\n",
       "      <td>367.764567</td>\n",
       "    </tr>\n",
       "    <tr>\n",
       "      <th>2000-10-01</th>\n",
       "      <td>363.396653</td>\n",
       "      <td>367.954364</td>\n",
       "    </tr>\n",
       "    <tr>\n",
       "      <th>2000-11-01</th>\n",
       "      <td>364.698637</td>\n",
       "      <td>369.331359</td>\n",
       "    </tr>\n",
       "    <tr>\n",
       "      <th>2000-12-01</th>\n",
       "      <td>366.068001</td>\n",
       "      <td>370.774539</td>\n",
       "    </tr>\n",
       "    <tr>\n",
       "      <th>2001-01-01</th>\n",
       "      <td>367.053573</td>\n",
       "      <td>371.860153</td>\n",
       "    </tr>\n",
       "    <tr>\n",
       "      <th>2001-02-01</th>\n",
       "      <td>367.805066</td>\n",
       "      <td>372.701990</td>\n",
       "    </tr>\n",
       "    <tr>\n",
       "      <th>2001-03-01</th>\n",
       "      <td>368.702370</td>\n",
       "      <td>373.685186</td>\n",
       "    </tr>\n",
       "    <tr>\n",
       "      <th>2001-04-01</th>\n",
       "      <td>369.940566</td>\n",
       "      <td>375.006760</td>\n",
       "    </tr>\n",
       "    <tr>\n",
       "      <th>2001-05-01</th>\n",
       "      <td>370.423482</td>\n",
       "      <td>375.571306</td>\n",
       "    </tr>\n",
       "    <tr>\n",
       "      <th>2001-06-01</th>\n",
       "      <td>369.714857</td>\n",
       "      <td>374.942887</td>\n",
       "    </tr>\n",
       "    <tr>\n",
       "      <th>2001-07-01</th>\n",
       "      <td>368.139351</td>\n",
       "      <td>373.446317</td>\n",
       "    </tr>\n",
       "    <tr>\n",
       "      <th>2001-08-01</th>\n",
       "      <td>366.064921</td>\n",
       "      <td>371.449644</td>\n",
       "    </tr>\n",
       "    <tr>\n",
       "      <th>2001-09-01</th>\n",
       "      <td>364.288668</td>\n",
       "      <td>369.750033</td>\n",
       "    </tr>\n",
       "    <tr>\n",
       "      <th>2001-10-01</th>\n",
       "      <td>364.402542</td>\n",
       "      <td>369.939486</td>\n",
       "    </tr>\n",
       "    <tr>\n",
       "      <th>2001-11-01</th>\n",
       "      <td>365.704752</td>\n",
       "      <td>371.316255</td>\n",
       "    </tr>\n",
       "    <tr>\n",
       "      <th>2001-12-01</th>\n",
       "      <td>367.074233</td>\n",
       "      <td>372.759317</td>\n",
       "    </tr>\n",
       "    <tr>\n",
       "      <th>2002-01-01</th>\n",
       "      <td>368.061115</td>\n",
       "      <td>373.843622</td>\n",
       "    </tr>\n",
       "  </tbody>\n",
       "</table>\n",
       "</div>"
      ],
      "text/plain": [
       "             lower co2   upper co2\n",
       "1998-01-01  364.496201  365.687802\n",
       "1998-02-01  365.076486  366.551641\n",
       "1998-03-01  365.899337  367.552198\n",
       "1998-04-01  367.097145  368.891271\n",
       "1998-05-01  367.554576  369.473037\n",
       "1998-06-01  366.827627  368.860488\n",
       "1998-07-01  365.236899  367.377202\n",
       "1998-08-01  363.150018  365.392307\n",
       "1998-09-01  361.363719  363.703438\n",
       "1998-10-01  361.468255  363.901464\n",
       "1998-11-01  362.762501  365.285721\n",
       "1998-12-01  364.124956  366.735080\n",
       "1999-01-01  365.098949  367.832569\n",
       "1999-02-01  365.842032  368.682930\n",
       "1999-03-01  366.732574  369.672931\n",
       "1999-04-01  367.965087  371.000206\n",
       "1999-05-01  368.443144  371.569617\n",
       "1999-06-01  367.730342  370.945376\n",
       "1999-07-01  366.151250  369.452395\n",
       "1999-08-01  364.073753  367.458790\n",
       "1999-09-01  362.294894  365.761783\n",
       "1999-10-01  362.406578  365.953427\n",
       "1999-11-01  363.706971  367.332014\n",
       "1999-12-01  365.074971  368.776558\n",
       "2000-01-01  366.057334  369.865382\n",
       "2000-02-01  366.806610  370.709435\n",
       "2000-03-01  367.702198  371.694346\n",
       "2000-04-01  368.938998  373.017317\n",
       "2000-05-01  369.420759  373.583018\n",
       "2000-06-01  368.711181  372.955551\n",
       "2000-07-01  367.134900  371.459758\n",
       "2000-08-01  365.059851  369.463703\n",
       "2000-09-01  363.283123  367.764567\n",
       "2000-10-01  363.396653  367.954364\n",
       "2000-11-01  364.698637  369.331359\n",
       "2000-12-01  366.068001  370.774539\n",
       "2001-01-01  367.053573  371.860153\n",
       "2001-02-01  367.805066  372.701990\n",
       "2001-03-01  368.702370  373.685186\n",
       "2001-04-01  369.940566  375.006760\n",
       "2001-05-01  370.423482  375.571306\n",
       "2001-06-01  369.714857  374.942887\n",
       "2001-07-01  368.139351  373.446317\n",
       "2001-08-01  366.064921  371.449644\n",
       "2001-09-01  364.288668  369.750033\n",
       "2001-10-01  364.402542  369.939486\n",
       "2001-11-01  365.704752  371.316255\n",
       "2001-12-01  367.074233  372.759317\n",
       "2002-01-01  368.061115  373.843622"
      ]
     },
     "execution_count": 103,
     "metadata": {},
     "output_type": "execute_result"
    }
   ],
   "source": [
    "pred_dynamic_conf"
   ]
  },
  {
   "cell_type": "code",
   "execution_count": 104,
   "metadata": {},
   "outputs": [
    {
     "data": {
      "text/plain": [
       "<matplotlib.collections.PolyCollection at 0x7fa8aff38fa0>"
      ]
     },
     "execution_count": 104,
     "metadata": {},
     "output_type": "execute_result"
    },
    {
     "data": {
      "image/png": "[encoded data removed]",
      "text/plain": [
       "<Figure size 720x576 with 1 Axes>"
      ]
     },
     "metadata": {},
     "output_type": "display_data"
    }
   ],
   "source": [
    "# Plot the dynamic forecast with confidence intervals as above\n",
    "df['1997':].plot(figsize=(10,8))\n",
    "\n",
    "pred_dynamic.predicted_mean.plot(label='predicted')\n",
    "\n",
    "plt.fill_between(pred_dynamic_conf.index,\n",
    "                 pred_dynamic_conf['lower co2'],\n",
    "                 pred_dynamic_conf['upper co2'],\n",
    "                 color='g', alpha=0.5)"
   ]
  },
  {
   "cell_type": "markdown",
   "metadata": {},
   "source": [
    "Once again, we quantify the predictive performance of our forecasts by computing the MSE."
   ]
  },
  {
   "cell_type": "code",
   "execution_count": 105,
   "metadata": {},
   "outputs": [
    {
     "name": "stdout",
     "output_type": "stream",
     "text": [
      "The Mean Squared Error of our forecasts is 1.0\n"
     ]
    }
   ],
   "source": [
    "# Extract the predicted and true values of our time series\n",
    "CO2_forecasted = df['1998':].iloc[:,0]\n",
    "CO2_truth = pred_dynamic.predicted_mean\n",
    "\n",
    "# Compute the mean square error\n",
    "mse = ((CO2_truth - CO2_forecasted) ** 2).mean()\n",
    "print('The Mean Squared Error of our forecasts is {}'.format(round(mse, 2)))"
   ]
  },
  {
   "cell_type": "markdown",
   "metadata": {},
   "source": [
    "The predicted values obtained from the dynamic forecasts yield an MSE of 1.01. This is slightly higher than the one-step ahead, which is to be expected given that we are relying on less historical data from the time series.\n",
    "\n",
    "Both the one-step ahead and dynamic forecasts confirm that this time series model is valid. However, much of the interest around time series forecasting is the ability to forecast future values way ahead in time.\n"
   ]
  },
  {
   "cell_type": "markdown",
   "metadata": {},
   "source": [
    "## Producing and Visualizing Forecasts\n",
    "\n",
    "We will now describe how to leverage our seasonal ARIMA time series model to forecast future values. The `.get_forecast()` method of our time series output can compute forecasted values for a specified number of steps ahead."
   ]
  },
  {
   "cell_type": "code",
   "execution_count": 99,
   "metadata": {},
   "outputs": [],
   "source": [
    "# Get forecast 500 steps ahead in future\n",
    "prediction = results.get_forecast(steps=500)\n",
    "\n",
    "# Get confidence intervals of forecasts\n",
    "pred_conf = prediction.conf_int()"
   ]
  },
  {
   "cell_type": "markdown",
   "metadata": {},
   "source": [
    "We can use the output of this code to plot the time series and forecasts of its future values.\n",
    "\n"
   ]
  },
  {
   "cell_type": "code",
   "execution_count": 101,
   "metadata": {},
   "outputs": [
    {
     "data": {
      "text/plain": [
       "<matplotlib.collections.PolyCollection at 0x7fa8aff65d00>"
      ]
     },
     "execution_count": 101,
     "metadata": {},
     "output_type": "execute_result"
    },
    {
     "data": {
      "image/png": "[encoded data removed]",
      "text/plain": [
       "<Figure size 720x576 with 1 Axes>"
      ]
     },
     "metadata": {},
     "output_type": "display_data"
    }
   ],
   "source": [
    "# Plot future predictions with confidence intervals\n",
    "ax = df['1997':].plot(figsize=(10,8))\n",
    "\n",
    "prediction.predicted_mean.plot(ax=ax, label='predicted')\n",
    "\n",
    "plt.fill_between(pred_conf.index,\n",
    "                 pred_conf['lower co2'],\n",
    "                 pred_conf['upper co2'],\n",
    "                 color='g', alpha=0.5)"
   ]
  },
  {
   "cell_type": "markdown",
   "metadata": {},
   "source": [
    "Both the forecasts and associated confidence interval that we have generated can now be used to further understand the time series and foresee what to expect. Our forecasts show that the time series is expected to continue increasing at a steady pace.\n",
    "\n",
    "As we forecast further out into the future, it is natural for us to become less confident in our values. This is reflected by the confidence intervals generated by our model, which grow larger as we move further out into the future. \n",
    "\n",
    "## Bonus Exercises\n",
    "\n",
    "* Change the start date of your dynamic forecasts to see how this affects the overall quality of your forecasts.\n",
    "* Try more combinations of parameters to see if you can improve the goodness-of-fit of your model.\n",
    "* Select a different metric to select the best model. For example, we used the AIC measure to find the best model, but you could seek to optimize the out-of-sample mean square error instead.\n",
    "\n",
    "\n",
    "## Summary\n",
    "\n",
    "In this lab, we described how to implement a seasonal ARIMA model in Python. We made extensive use of the `pandas` and `statsmodels` libraries and showed how to run model diagnostics, as well as how to produce forecasts of time series."
   ]
  }
 ],
 "metadata": {
  "kernelspec": {
   "display_name": "Python 3",
   "language": "python",
   "name": "python3"
  },
  "language_info": {
   "codemirror_mode": {
    "name": "ipython",
    "version": 3
   },
   "file_extension": ".py",
   "mimetype": "text/x-python",
   "name": "python",
   "nbconvert_exporter": "python",
   "pygments_lexer": "ipython3",
   "version": "3.8.5"
  }
 },
 "nbformat": 4,
 "nbformat_minor": 2
}
